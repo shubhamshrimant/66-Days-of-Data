{
 "cells": [
  {
   "cell_type": "code",
   "execution_count": 1,
   "id": "5c77368e",
   "metadata": {},
   "outputs": [
    {
     "name": "stdout",
     "output_type": "stream",
     "text": [
      "COVID-19 FREQUENTLY ASKED QUESTIONS  \n",
      "\n",
      "1.  How does COVID-19 spread? \n",
      "People can catch COVID-19 from others who have the virus. The disease can spread from person \n",
      "to person through small droplets from the nose or mouth which are spread when a person with \n",
      "COVID-19 coughs or exhales. These droplets land on objects and surfaces around the person. \n",
      "Other people then catch COVID-19 by touching these objects or surfaces, then touching their \n",
      "eyes, nose or mouth. People can also catch COVID-19 if they breathe in droplets from a person \n",
      "with COVID-19 who coughs out or exhales droplets. This is why it is important to stay more than \n",
      "1 meter (3 feet) away from a person who is sick. \n",
      "\n",
      "2.  What are the symptoms of COVID-19? \n",
      "The most common symptoms of COVID-19 are fever, tiredness, and dry cough. Some patients \n",
      "may have aches and pains, nasal congestion, runny nose, sore throat or diarrhea. These \n",
      "symptoms are usually mild and begin gradually. Some people become infected but don’t \n",
      "develop any symptoms and don't feel unwell. Most people (about 80%) recover from the \n",
      "disease without needing special treatment. Around 1 out of every 6 people who gets COVID-19 \n",
      "becomes seriously ill and develops difficulty breathing. Older people, and those with underlying \n",
      "medical problems like high blood pressure, heart problems or diabetes, are more likely to \n",
      "develop serious illness. People with fever, cough and difficulty breathing should seek medical \n",
      "attention. \n",
      "\n",
      "3.  How do I know if it is COVID-19 or just the common flu?  \n",
      "A COVID-19 infection has the same signs and symptoms as the common cold and you can only \n",
      "differentiate them through laboratory testing to determine the virus type. If you have fever, cough \n",
      "and difficulty breathing, you should seek medical attention and  immediately isolate yourself from \n",
      "others. Call your local UN clinic/medical facility to inform them of your condition and relevant \n",
      "travel/exposure  history.    If  you  had  been  identified  as  a  close  contact  of  a  case  by  the  local \n",
      "Ministry of Health or WHO, please also indicate this. From here you will be advised if a medical \n",
      "assessment is necessary and how to get tested.  \n",
      "\n",
      "4.  Can the virus that causes COVID-19 be transmitted through the air? \n",
      "Studies to date suggest that the virus that causes COVID-19 is mainly transmitted through \n",
      "contact with respiratory droplets rather than through the air.  See previous answer on “How \n",
      "does COVID-19 spread?” \n",
      "\n",
      "5.  What can I do to protect myself and prevent the spread of disease? \n",
      "Protection measures for everyone \n",
      "\n",
      "Stay aware of the latest information on the COVID-19 outbreak, available on the WHO website \n",
      "and through your national and local public health authority. Many countries around the world \n",
      "have seen cases of COVID-19 and several have seen outbreaks. Authorities in China and some \n",
      "other countries have succeeded in slowing or stopping their outbreaks. However, the situation is \n",
      "unpredictable so check regularly for the latest news. \n",
      "\n",
      "\f",
      "You can reduce your chances of being infected or spreading COVID-19 by taking some simple \n",
      "precautions: \n",
      "\n",
      "•  Regularly and thoroughly clean your hands with an alcohol-based hand rub or wash them \n",
      "\n",
      "with soap and water. Why? Washing your hands with soap and water or using alcohol-based \n",
      "hand rub kills viruses that may be on your hands. \n",
      "\n",
      "•  Maintain at least 1 meter (3 feet) distance between yourself and anyone who is coughing or \n",
      "sneezing. Why? When someone coughs or sneezes, they spray small liquid droplets from \n",
      "their nose or mouth which may contain virus. If you are too close, you can breathe in the \n",
      "droplets, including the COVID-19 virus if the person coughing has the disease. \n",
      "\n",
      "•  Avoid touching eyes, nose and mouth. Why? Hands touch many surfaces and can pick up \n",
      "\n",
      "viruses. Once contaminated, hands can transfer the virus to your eyes, nose or mouth. From \n",
      "there, the virus can enter your body and can make you sick. \n",
      "\n",
      "•  Make sure you, and the people around you, follow good respiratory hygiene. This means \n",
      "covering your mouth and nose with your bent elbow or tissue when you cough or sneeze. \n",
      "Then dispose of the used tissue immediately.  Why? Droplets spread virus. By following \n",
      "good respiratory hygiene, you protect the people around you from viruses such as cold, flu \n",
      "and COVID-19. \n",
      "\n",
      "• \n",
      "\n",
      "Stay home if you feel unwell. If you have a fever, cough and difficulty breathing, seek \n",
      "medical attention and call in advance. Follow the directions of your local health authority. \n",
      "Why? National and local authorities will have the most up to date information on the \n",
      "situation in your area. Calling in advance will allow your health care provider to quickly \n",
      "direct you to the right health facility. This will also protect you and help prevent spread of \n",
      "viruses and other infections. \n",
      "\n",
      "•  Keep up to date on the latest COVID-19 hotspots (cities or local areas where COVID-19 is \n",
      "spreading widely). If possible, avoid traveling to places – especially if you are an older \n",
      "person or have diabetes, heart or lung disease. Why? You have a higher chance of catching \n",
      "COVID-19 in one of these areas. \n",
      "\n",
      "6.  I am well and asymptomatic. Should I use a mask? \n",
      "According to the WHO, for individuals without respiratory symptoms, a medical mask is not \n",
      "required, as no evidence is available on its usefulness to protect non-sick persons. \n",
      "However, masks might be worn in some countries according to local cultural habits. If masks are \n",
      "used, best practices should be followed on how to wear, remove, and dispose of them and on \n",
      "hand hygiene action after removal. For more information, visit the WHO guidance on use of \n",
      "masks in the community. \n",
      "\n",
      "7.  How likely am I to catch COVID-19? \n",
      "The risk depends on where you are - and more specifically, whether there is a COVID-19 \n",
      "outbreak unfolding there. \n",
      "\n",
      "For most people in most locations the risk of catching COVID-19 is still low. However, there are \n",
      "now places around the world (cities or areas) where the disease is spreading. For people living \n",
      "\n",
      "\f",
      "in, or visiting, these areas the risk of catching COVID-19 is higher. Governments and health \n",
      "authorities are taking vigorous action every time a new case of COVID-19 is identified. Be sure to \n",
      "comply with any local restrictions on travel, movement or large gatherings. Cooperating with \n",
      "disease control efforts will reduce your risk of catching or spreading COVID-19. \n",
      "\n",
      "COVID-19 outbreaks can be contained and transmission stopped, as has been shown in China \n",
      "and some other countries. Unfortunately, new outbreaks can emerge rapidly. It’s important to \n",
      "be aware of the situation where you are or intend to go. WHO publishes daily updates on the \n",
      "COVID-19 situation worldwide. \n",
      "\n",
      "You can see these at https://www.who.int/emergencies/diseases/novel-coronavirus-\n",
      "2019/situation-reports/ \n",
      "\n",
      "8.  Are pregnant women more susceptible to the COVID-19 virus and will it harm the \n",
      "\n",
      "fetus? \n",
      "\n",
      "We do not have information from published scientific reports about the susceptibility of \n",
      "pregnant women to COVID-19. Pregnant women experience immunologic and physiologic \n",
      "changes, which might make them more susceptible to viral respiratory infections, including \n",
      "COVID-19. \n",
      "\n",
      "The virus that causes COVID-19 is thought to spread mainly by close contact with an infected \n",
      "person through respiratory droplets. Whether a pregnant woman with COVID-19 can transmit \n",
      "the virus that causes COVID-19 to her fetus or neonate by other routes of vertical transmission \n",
      "(before, during, or after delivery) is still unknown. \n",
      "\n",
      "9.  What is the risk of my child becoming sick with COVID-19? \n",
      "Based on available evidence, children do not appear to be at higher risk for COVID-19 than \n",
      "adults. While some children and infants have been sick with COVID-19, adults make up most of \n",
      "the known cases to date. You can learn more about who is most at risk for health problems if \n",
      "they have COVID-19 infection on CDC’s current Risk Assessment page. \n",
      "\n",
      "10. Are the symptoms of COVID-19 different in children than in adults? \n",
      "No. The symptoms of COVID-19 are similar in children and adults. However, children with \n",
      "confirmed COVID-19 have generally presented with mild symptoms. Reported symptoms in \n",
      "children include cold-like symptoms, such as fever, runny nose, and cough. Vomiting and \n",
      "diarrhea have also been reported. It’s not known yet whether some children may be at higher \n",
      "risk for severe illness, for example, children with underlying medical conditions and special \n",
      "healthcare needs. There is much more to be learned about how the disease impacts children. \n",
      "\n",
      "11. Should I worry about COVID-19? \n",
      "Illness due to COVID-19 infection is generally mild, especially for children and young adults. \n",
      "However, it can cause serious illness: about 1 in every 5 people who catch it need hospital care. \n",
      "It is therefore quite normal for people to worry about how the COVID-19 outbreak will affect \n",
      "them and their loved ones. \n",
      "\n",
      "We can channel our concerns into actions to protect ourselves, our loved ones and our \n",
      "communities. First and foremost, among these actions is regular and thorough hand-washing \n",
      "\n",
      "\f",
      "and good respiratory hygiene. Secondly, keep informed and follow the advice of the local health \n",
      "authorities including any restrictions put in place on travel, movement and gatherings. \n",
      "\n",
      "12. Who is at risk of developing severe illness? \n",
      "While we are still learning about how COVID-2019 affects people, older persons and persons \n",
      "with pre-existing medical conditions (such as high blood pressure, heart disease, lung disease, \n",
      "cancer or diabetes) appear to develop serious illness more often than others. \n",
      "\n",
      "13. Are antibiotics effective in preventing or treating COVID-19? \n",
      "While we are still learning about how COVID-2019 affects people, older persons and persons \n",
      "with pre-existing medical conditions (such as high blood pressure, heart disease, lung disease, \n",
      "cancer or diabetes) appear to develop serious illness more often than others.  \n",
      "\n",
      "14. Are there any medicines or therapies that can prevent or cure COVID-19? \n",
      "While some western, traditional or home remedies may provide comfort and alleviate \n",
      "symptoms of COVID-19, there is no evidence that current medicine can prevent or cure the \n",
      "disease. WHO does not recommend self-medication with any medicines, including antibiotics, as \n",
      "a prevention or cure for COVID-19. However, there are several ongoing clinical trials that include \n",
      "both western and traditional medicines.  \n",
      "\n",
      "15. Is there a vaccine, drug or treatment for COVID-19? \n",
      "Not yet. To date, there is no vaccine and no specific antiviral medicine to prevent or treat \n",
      "COVID-2019. However, those affected should receive care to relieve symptoms. People with \n",
      "serious illness should be hospitalized. Most patients recover thanks to supportive care. \n",
      "\n",
      "Possible vaccines and some specific drug treatments are under investigation. They are being \n",
      "tested through clinical trials. WHO is coordinating efforts to develop vaccines and medicines to \n",
      "prevent and treat COVID-19. \n",
      "\n",
      "The most effective ways to protect yourself and others against COVID-19 are to frequently clean \n",
      "your hands, cover your cough with the bend of elbow or tissue, and maintain a distance of at \n",
      "least 1 meter (3 feet) from people who are coughing or sneezing. (See Basic protective measures \n",
      "against the new coronavirus). \n",
      "\n",
      "16. Should I wear a mask to protect myself from catching the COVID-19 virus? \n",
      "Only wear a mask if you are ill with COVID-19 symptoms (especially coughing) or looking after \n",
      "someone who may have COVID-19. Disposable face mask can only be used once. If you are not \n",
      "ill or looking after someone who is ill then you are wasting a mask. There is a world-wide \n",
      "shortage of masks, so WHO urges people to use masks wisely. \n",
      "\n",
      "WHO advises rational use of medical masks to avoid unnecessary wastage of precious resources \n",
      "and mis-use of masks  (see Advice on the use of masks). \n",
      "\n",
      "The most effective ways to protect yourself and others against COVID-19 are to frequently clean \n",
      "your hands, cover your cough with the bend of elbow or tissue and maintain a distance of at \n",
      "least 1 meter (3 feet) from people who are coughing or sneezing. See basic protective measures \n",
      "against the new coronavirus for more information. \n",
      "\n",
      "\f",
      "17. Until when should I wear a mask after recovering from an illness with respiratory \n",
      "\n",
      "symptoms? \n",
      "\n",
      "In order to avoid infecting others, you should use a mask for as long as you are still coughing or \n",
      "sneezing. You should only stop after a complete recovery (which means 24-48 hours after having \n",
      "no symptoms without medication).  \n",
      "\n",
      "18. I am looking after someone who is ill with suspect or confirmed COVID-19. What \n",
      "\n",
      "precautions should I take? \n",
      "•  You should limit the movement around the house of the individual who is ill and \n",
      "\n",
      "minimize shared space. \n",
      "\n",
      "•  Ensure shared spaces like bathrooms, and the kitchen are well ventilated. One way to \n",
      "\n",
      "do this is by keeping the windows open. Clean and disinfect the bathroom and toilet \n",
      "surface at least once a day using regular household soap or detergent for cleaning and \n",
      "then disinfecting with a regular household disinfectant containing 0.5% sodium \n",
      "hypochlorite. \n",
      "\n",
      "•  Do not forget the importance of hand hygiene with alcohol-based hand-rub or soap and \n",
      "\n",
      "water (if hands are visibly soiled). \n",
      "\n",
      "•  Whenever possible, household members should stay in a different room or maintain a \n",
      "\n",
      "distance of at least 1 meter from the ill person. \n",
      "\n",
      "•  When helping care for the sick individual, wear a tightly fitted medical/surgical mask \n",
      "that covers your nose and mouth when in the same room as the affected individual. \n",
      "Make sure you are careful not to touch your mask. If your mask gets wet or dirty, it \n",
      "should be replaced. When removing a mask, it is important to throw it away and \n",
      "perform hand hygiene. Dispose of any material with respiratory secretions immediately \n",
      "after use. \n",
      "\n",
      "•  Both the ill individual and you, as the caregiver, should perform hand hygiene after \n",
      "\n",
      "contact with respiratory secretions. \n",
      "\n",
      "19. How long is the incubation and transmission period for COVID-19? \n",
      "The “incubation period” means the time between catching the virus and beginning to have \n",
      "symptoms of the disease. Most estimates of the incubation period for COVID-19 range from 1-\n",
      "14 days, most commonly around five days.  \n",
      "\n",
      "20. Can humans become infected with the COVID-19 from an animal source? \n",
      "Possible animal sources of COVID-19 have not yet been confirmed.  To protect yourself, such as \n",
      "when visiting live animal markets, avoid direct contact with animals and surfaces in contact with \n",
      "animals. Ensure good food safety practices at all times. Handle raw meat, milk or animal organs \n",
      "with care to avoid contamination of uncooked foods and avoid consuming raw or undercooked \n",
      "animal products. \n",
      "\n",
      "21. How long does the virus survive on surfaces? \n",
      "It is not certain how long the virus that causes COVID-19 survives on surfaces, but it seems to \n",
      "behave like other coronaviruses. Studies suggest that coronaviruses (including preliminary \n",
      "information on the COVID-19 virus) may persist on surfaces for a few hours or up to several \n",
      "\n",
      "\f",
      "days. This may vary under different conditions (e.g. type of surface, temperature or humidity of \n",
      "the environment). \n",
      "\n",
      "If you think a surface may be infected, clean it with simple disinfectant to kill the virus and \n",
      "protect yourself and others. Clean your hands with an alcohol-based hand rub or wash them \n",
      "with soap and water. Avoid touching your eyes, mouth, or nose. \n",
      "\n",
      "22. How can I get tested for COVID-19? \n",
      "If you are well, no testing is recommended. If you are experiencing symptoms of COVID-19, you \n",
      "should immediately isolate yourself from others. Call your local UN clinic/medical facility to \n",
      "inform them of your condition and relevant travel/exposure history.  If you had been identified \n",
      "as a close contact of a case by the local Ministry of Health or WHO, please also indicate this. \n",
      "From here you will be advised if a medical assessment is necessary and how to get tested.  \n",
      "\n",
      "23. What alternatives do I have if there are no hand sanitizers available? Can I use other \n",
      "\n",
      "alcohol like ethyl or liquor?  \n",
      "\n",
      "If hand sanitizers are not available, hand washing with soap and water is the recommended, and \n",
      "even better, alternative. Liquor is not effective against coronavirus. For an alcohol-based hand \n",
      "rub to be effective, it must have an alcohol content of 60% to 95%. \n",
      "\n",
      "24. Can people who recover from COVID-19 be infected again? \n",
      "We know that for similar coronaviruses, infected people are unlikely to be re-infected shortly \n",
      "after they recover. However, because the immune response to COVID-19 is not yet understood, \n",
      "it is not yet known whether similar immune protection will be observed for patients who have \n",
      "recovered from COVID-19. \n",
      "\n",
      "25. Is it safe to receive a package from an area where COVID-19 has been reported? \n",
      "Yes. The likelihood of an infected person contaminating commercial goods is low and the risk of \n",
      "catching the virus that causes COVID-19 from a package that has been moved, travelled, and \n",
      "exposed to different conditions and temperature is also low.  \n",
      "\n",
      "26. Is there a connection between COVID -19 and environment temperature? \n",
      "It is not known yet if weather and temperature changes impact or has any connection with \n",
      "COVID-19. At this time, it is not clear or known if the spread of COVID-19 will decrease when the \n",
      "weather becomes warmer. \n",
      "\n",
      "27. Can I catch the virus from being in an enclosed space (i.e. bus, subway) in close \n",
      "\n",
      "proximity to someone who doesn’t have respiratory symptoms? \n",
      "\n",
      "Since the virus is transmitted through respiratory droplets, the risk of catching it from somebody \n",
      "who is asymptomatic, even a contact of a confirmed COVID-19 case, is low. However, in light of \n",
      "the pandemic, everyone should maintain social distancing, which means keeping at least 1 \n",
      "meter away from others, avoiding mass gatherings and areas with large numbers of people, and \n",
      "practicing frequent hand washing and hand sanitizing according to the recommendation. \n",
      "\n",
      "28. Should I start avoiding people of Asian descent and their businesses? \n",
      "The virus can affect anyone regardless of nationality, race and color.  The Organization will not \n",
      "tolerate discrimination and encourages everyone to promote culturally appropriate and \n",
      "\n",
      "\f",
      "empathetic community engagement and to detect and rapidly respond to negative public \n",
      "perceptions and counter misinformation.  \n",
      "\n",
      "29. When should we identify ourselves as \"being sick\" and stay at home?  \n",
      "Although a fever is a sure sign that you are sick enough not to come to work, anyone \n",
      "experiencing respiratory symptoms like coughing and sneezing should stay at home. \n",
      "\n",
      "30. My colleague is sick but he/she insists that it is just the common cold and is reluctant \n",
      "to work from home. What steps can we take to enforce “staying at home when not \n",
      "well” amongst staff? \n",
      "\n",
      "While it is very likely that your colleague is only suffering from the common cold or flu, all \n",
      "precautions should, nevertheless, be taken. Managers should encourage staff members with flu \n",
      "symptoms to telecommute for some time until the symptoms have abated. Alternatively, if the \n",
      "staff member is feeling unfit, he/she should take sick leave. This is a sensible approach at any \n",
      "time to prevent the spreading of flu or other seasonal viruses. Supervisors are also encouraged \n",
      "to exercise flexibility in terms of using remote working arrangements if the staff member would \n",
      "like to limit their contact with others and work from home. \n",
      "\n",
      "31. What can we do if we don’t have any hand sanitizers in the office building?  \n",
      "You should contact the Facilities Management Service of your local UN duty station, \n",
      "organization or the building administration.   \n",
      "\n",
      "32. What is the process for evaluating the criticality of official travels and meetings?  \n",
      "UN Medical Directors recommend that UN managers and/or UN personnel undertake a risk \n",
      "assessment to evaluate the criticality of the proposed travel balanced against the risks to the \n",
      "traveler for any travel to or meetings in affected areas experiencing ongoing transmission of \n",
      "COVID-19.  \n",
      "\n",
      "33. Does the UN have any specific guidelines for meeting / mass gathering organizers and \n",
      "\n",
      "participants during the COVID-19 outbreak? \n",
      "\n",
      "•  For meetings during the COVID-19 outbreak, the Division of Healthcare Management and \n",
      "Occupational Safety and Health (DHMOSH) has prepared the following guidelines for \n",
      "meeting organizers and participants which are available in the UN HR portal. UN offices \n",
      "should use these global guidelines to develop local ones in accordance with host country \n",
      "legislation.  \n",
      "\n",
      "•  The WHO has also released an interim guidance with key planning recommendations for \n",
      "\n",
      "mass gatherings in the context of the current COVID-19 outbreak. \n",
      "\n",
      "34. I plan to travel to / have a meeting in countries or territories currently experiencing \n",
      "\n",
      "local transmission of COVID-19. Should I cancel this travel/meeting? \n",
      "\n",
      "•  While the WHO does not recommend and advises against the application of any travel \n",
      "\n",
      "restrictions based on the information currently available on COVID-19,  as an occupational \n",
      "health measure, it is recommended that for all official travel, UN managers and/or UN \n",
      "personnel undertake a risk assessment to evaluate the criticality of the proposed travel \n",
      "balanced against the risks to the traveler for any travel to or meetings in affected areas \n",
      "experiencing ongoing transmission of COVID-19. This includes risks posed by both medical \n",
      "issues and evolving travel/border restrictions enacted by states parties. \n",
      "\n",
      "\f",
      "•  Please be aware that local authorities may begin to implement travel restrictions and health \n",
      "screening measures for travelers entering or exiting the country. All UN personnel who are \n",
      "planning to travel should check with the destination countries’ embassy, consulate, or \n",
      "Ministry of Health and keep up to date with local health advice before and during your \n",
      "travel. You should also comply with any screening measures put in place by local authorities. \n",
      "\n",
      "•  As the outbreak evolves, it can be difficult to predict the situation globally, and it would be \n",
      "prudent to make contingency arrangements should the need arise. Feel free to consult us \n",
      "further at dos-dhmosh-public-health@un.org as needed. \n",
      "\n",
      "35. What is the protocol for staff members returning to work after visiting COVID-19 \n",
      "\n",
      "• \n",
      "\n",
      "affected countries (i.e., those with ongoing transmission)?  \n",
      "If you have just returned from an affected area, you should self-monitor for symptoms for \n",
      "14 days after travel.  \n",
      "\n",
      "•  During that period, you should immediately seek medical attention should you develop any \n",
      "\n",
      "signs and symptoms, such as shortness of breath or cough.  \n",
      "\n",
      "•  Remember to share your previous travel history with your health care provider and make \n",
      "\n",
      "every effort to inform them by phone prior to visiting a medical facility and wear a medical \n",
      "mask when you seek medical care.  \n",
      "\n",
      "•  You should only return to work when you are well and completely free of symptoms.  \n",
      "•  HR personnel and managers are encouraged to exercise flexibility around remote working to \n",
      "\n",
      "support staff. \n",
      "\n",
      "36. I just returned from travel to a country/area experiencing local transmission of \n",
      "COVID-19. I am well and have no symptoms. Can I go back to the workplace? \n",
      "•  For any UN personnel who are free of symptoms, and returning from country/area or \n",
      "\n",
      "• \n",
      "\n",
      "territory experiencing local transmission of COVID-19, managers are encouraged to exercise \n",
      "flexibility in terms of using remote working arrangements for staff in these situations who \n",
      "would like to limit their contact with others and work from home for 14 days post-travel. \n",
      "This is not mandatory but is strongly encouraged. \n",
      "Individuals returning from areas of outbreaks should be advised to review our health \n",
      "advisory on this Coronavirus Disease (COVID-19) page so that you have awareness about the \n",
      "disease. You should monitor yourself daily for signs of fever, respiratory symptoms (e.g., \n",
      "breathing difficulties, cough), and know where to seek medical attention if you are aware of \n",
      "any symptoms within yourself. You should monitor yourself for at least 14 days after your \n",
      "travel. \n",
      "\n",
      "37. What about self-quarantining after returning from an area/country of high \n",
      "\n",
      "• \n",
      "\n",
      "prevalence? \n",
      "If you have just returned from an affected area, you should self-monitor for symptoms for \n",
      "14 days after travel. During that period, you should immediately seek medical attention \n",
      "should you develop any signs and symptoms, such as shortness of breath or cough.  \n",
      "\n",
      "•  Self-quarantine for 14 days is recommended when you have been exposed to contact with \n",
      "\n",
      "lab-confirmed COVID-19. \n",
      "\n",
      "•  Since this is a rapidly evolving situation, many member states are imposing quarantine \n",
      "\n",
      "recommendations for travelers, which varies by country. We suggest monitoring the travel \n",
      "\n",
      "\f",
      "advisories issued from WHO and DHMOSH for up to date information \n",
      "https://www.who.int/emergencies/diseases/novel-coronavirus-2019/travel-advice  and \n",
      "https://hr.un.org/page/travel-health-information \n",
      "\n",
      "38. Have medical insurance related questions? \n",
      "Please refer to Frequently Asked Questions for UN staff on Medical Insurance in connection with \n",
      "the Novel Coronavirus (COVID-19) outbreak: https://www.un.org/sites/un2.un.org/files/2020-\n",
      "03-09_faq_medical_insurance_covid-19_ra.pdf \n",
      "\n",
      "39. What are the latest protocols and guidance for Medical Evacuation of staff members \n",
      "\n",
      "with severe respiratory infections related to COVID-19? \n",
      "•  For the latest information on normal Medevac procedure for staff, go to: \n",
      "\n",
      "https://hr.un.org/sites/hr.un.org/files/Coronavirus_MedevacGuidance_UN_RC_0.pdf \n",
      "•  For information on special Medevac procedure organized by the WHO in cases where \n",
      "\n",
      "there are no ICU beds available in your country, see: \n",
      "https://hr.un.org/sites/hr.un.org/files/COVID-\n",
      "MEDEVAC%20UN%20and%20PARTNERS.pdf \n",
      "\n",
      "\f",
      "\n"
     ]
    }
   ],
   "source": [
    "from pdfminer.high_level import extract_text\n",
    "text = extract_text('new_dhmosh_covid-19_faq.pdf')\n",
    "\n",
    "print(text)"
   ]
  },
  {
   "cell_type": "code",
   "execution_count": 2,
   "id": "127293d4",
   "metadata": {},
   "outputs": [
    {
     "name": "stdout",
     "output_type": "stream",
     "text": [
      "25698\n"
     ]
    }
   ],
   "source": [
    "print(len(text))"
   ]
  },
  {
   "cell_type": "code",
   "execution_count": 3,
   "id": "2b3ca11c",
   "metadata": {},
   "outputs": [],
   "source": [
    "text1=text.strip()"
   ]
  },
  {
   "cell_type": "code",
   "execution_count": 4,
   "id": "e2059868",
   "metadata": {},
   "outputs": [
    {
     "name": "stdout",
     "output_type": "stream",
     "text": [
      "<class 'str'>\n"
     ]
    }
   ],
   "source": [
    "print(type(text1))"
   ]
  },
  {
   "cell_type": "code",
   "execution_count": 5,
   "id": "947d2508",
   "metadata": {},
   "outputs": [],
   "source": [
    "import re\n"
   ]
  },
  {
   "cell_type": "code",
   "execution_count": 33,
   "id": "477cfd06",
   "metadata": {},
   "outputs": [],
   "source": [
    "text2=re.split(r'\\n+\\s*\\d+[.](.*?)\\?*',text1)"
   ]
  },
  {
   "cell_type": "code",
   "execution_count": 30,
   "id": "1a12e436",
   "metadata": {},
   "outputs": [
    {
     "name": "stdout",
     "output_type": "stream",
     "text": [
      "re.compile('\\\\n+\\\\s*\\\\d+[.](.*?)\\\\?', re.IGNORECASE|re.MULTILINE|re.DOTALL)\n"
     ]
    }
   ],
   "source": [
    "#print(xyz)"
   ]
  },
  {
   "cell_type": "code",
   "execution_count": 34,
   "id": "1300920e",
   "metadata": {
    "scrolled": true
   },
   "outputs": [
    {
     "name": "stdout",
     "output_type": "stream",
     "text": [
      "['COVID-19 FREQUENTLY ASKED QUESTIONS  ', '', '  How does COVID-19 spread? \\nPeople can catch COVID-19 from others who have the virus. The disease can spread from person \\nto person through small droplets from the nose or mouth which are spread when a person with \\nCOVID-19 coughs or exhales. These droplets land on objects and surfaces around the person. \\nOther people then catch COVID-19 by touching these objects or surfaces, then touching their \\neyes, nose or mouth. People can also catch COVID-19 if they breathe in droplets from a person \\nwith COVID-19 who coughs out or exhales droplets. This is why it is important to stay more than \\n1 meter (3 feet) away from a person who is sick. ', '', \"  What are the symptoms of COVID-19? \\nThe most common symptoms of COVID-19 are fever, tiredness, and dry cough. Some patients \\nmay have aches and pains, nasal congestion, runny nose, sore throat or diarrhea. These \\nsymptoms are usually mild and begin gradually. Some people become infected but don’t \\ndevelop any symptoms and don't feel unwell. Most people (about 80%) recover from the \\ndisease without needing special treatment. Around 1 out of every 6 people who gets COVID-19 \\nbecomes seriously ill and develops difficulty breathing. Older people, and those with underlying \\nmedical problems like high blood pressure, heart problems or diabetes, are more likely to \\ndevelop serious illness. People with fever, cough and difficulty breathing should seek medical \\nattention. \", '', '  How do I know if it is COVID-19 or just the common flu?  \\nA COVID-19 infection has the same signs and symptoms as the common cold and you can only \\ndifferentiate them through laboratory testing to determine the virus type. If you have fever, cough \\nand difficulty breathing, you should seek medical attention and  immediately isolate yourself from \\nothers. Call your local UN clinic/medical facility to inform them of your condition and relevant \\ntravel/exposure  history.    If  you  had  been  identified  as  a  close  contact  of  a  case  by  the  local \\nMinistry of Health or WHO, please also indicate this. From here you will be advised if a medical \\nassessment is necessary and how to get tested.  ', '', '  Can the virus that causes COVID-19 be transmitted through the air? \\nStudies to date suggest that the virus that causes COVID-19 is mainly transmitted through \\ncontact with respiratory droplets rather than through the air.  See previous answer on “How \\ndoes COVID-19 spread?” ', '', '  What can I do to protect myself and prevent the spread of disease? \\nProtection measures for everyone \\n\\nStay aware of the latest information on the COVID-19 outbreak, available on the WHO website \\nand through your national and local public health authority. Many countries around the world \\nhave seen cases of COVID-19 and several have seen outbreaks. Authorities in China and some \\nother countries have succeeded in slowing or stopping their outbreaks. However, the situation is \\nunpredictable so check regularly for the latest news. \\n\\n\\x0cYou can reduce your chances of being infected or spreading COVID-19 by taking some simple \\nprecautions: \\n\\n•  Regularly and thoroughly clean your hands with an alcohol-based hand rub or wash them \\n\\nwith soap and water. Why? Washing your hands with soap and water or using alcohol-based \\nhand rub kills viruses that may be on your hands. \\n\\n•  Maintain at least 1 meter (3 feet) distance between yourself and anyone who is coughing or \\nsneezing. Why? When someone coughs or sneezes, they spray small liquid droplets from \\ntheir nose or mouth which may contain virus. If you are too close, you can breathe in the \\ndroplets, including the COVID-19 virus if the person coughing has the disease. \\n\\n•  Avoid touching eyes, nose and mouth. Why? Hands touch many surfaces and can pick up \\n\\nviruses. Once contaminated, hands can transfer the virus to your eyes, nose or mouth. From \\nthere, the virus can enter your body and can make you sick. \\n\\n•  Make sure you, and the people around you, follow good respiratory hygiene. This means \\ncovering your mouth and nose with your bent elbow or tissue when you cough or sneeze. \\nThen dispose of the used tissue immediately.  Why? Droplets spread virus. By following \\ngood respiratory hygiene, you protect the people around you from viruses such as cold, flu \\nand COVID-19. \\n\\n• \\n\\nStay home if you feel unwell. If you have a fever, cough and difficulty breathing, seek \\nmedical attention and call in advance. Follow the directions of your local health authority. \\nWhy? National and local authorities will have the most up to date information on the \\nsituation in your area. Calling in advance will allow your health care provider to quickly \\ndirect you to the right health facility. This will also protect you and help prevent spread of \\nviruses and other infections. \\n\\n•  Keep up to date on the latest COVID-19 hotspots (cities or local areas where COVID-19 is \\nspreading widely). If possible, avoid traveling to places – especially if you are an older \\nperson or have diabetes, heart or lung disease. Why? You have a higher chance of catching \\nCOVID-19 in one of these areas. ', '', '  I am well and asymptomatic. Should I use a mask? \\nAccording to the WHO, for individuals without respiratory symptoms, a medical mask is not \\nrequired, as no evidence is available on its usefulness to protect non-sick persons. \\nHowever, masks might be worn in some countries according to local cultural habits. If masks are \\nused, best practices should be followed on how to wear, remove, and dispose of them and on \\nhand hygiene action after removal. For more information, visit the WHO guidance on use of \\nmasks in the community. ', '', '  How likely am I to catch COVID-19? \\nThe risk depends on where you are - and more specifically, whether there is a COVID-19 \\noutbreak unfolding there. \\n\\nFor most people in most locations the risk of catching COVID-19 is still low. However, there are \\nnow places around the world (cities or areas) where the disease is spreading. For people living \\n\\n\\x0cin, or visiting, these areas the risk of catching COVID-19 is higher. Governments and health \\nauthorities are taking vigorous action every time a new case of COVID-19 is identified. Be sure to \\ncomply with any local restrictions on travel, movement or large gatherings. Cooperating with \\ndisease control efforts will reduce your risk of catching or spreading COVID-19. \\n\\nCOVID-19 outbreaks can be contained and transmission stopped, as has been shown in China \\nand some other countries. Unfortunately, new outbreaks can emerge rapidly. It’s important to \\nbe aware of the situation where you are or intend to go. WHO publishes daily updates on the \\nCOVID-19 situation worldwide. \\n\\nYou can see these at https://www.who.int/emergencies/diseases/novel-coronavirus-\\n2019/situation-reports/ ', '', '  Are pregnant women more susceptible to the COVID-19 virus and will it harm the \\n\\nfetus? \\n\\nWe do not have information from published scientific reports about the susceptibility of \\npregnant women to COVID-19. Pregnant women experience immunologic and physiologic \\nchanges, which might make them more susceptible to viral respiratory infections, including \\nCOVID-19. \\n\\nThe virus that causes COVID-19 is thought to spread mainly by close contact with an infected \\nperson through respiratory droplets. Whether a pregnant woman with COVID-19 can transmit \\nthe virus that causes COVID-19 to her fetus or neonate by other routes of vertical transmission \\n(before, during, or after delivery) is still unknown. ', '', '  What is the risk of my child becoming sick with COVID-19? \\nBased on available evidence, children do not appear to be at higher risk for COVID-19 than \\nadults. While some children and infants have been sick with COVID-19, adults make up most of \\nthe known cases to date. You can learn more about who is most at risk for health problems if \\nthey have COVID-19 infection on CDC’s current Risk Assessment page. ', '', ' Are the symptoms of COVID-19 different in children than in adults? \\nNo. The symptoms of COVID-19 are similar in children and adults. However, children with \\nconfirmed COVID-19 have generally presented with mild symptoms. Reported symptoms in \\nchildren include cold-like symptoms, such as fever, runny nose, and cough. Vomiting and \\ndiarrhea have also been reported. It’s not known yet whether some children may be at higher \\nrisk for severe illness, for example, children with underlying medical conditions and special \\nhealthcare needs. There is much more to be learned about how the disease impacts children. ', '', ' Should I worry about COVID-19? \\nIllness due to COVID-19 infection is generally mild, especially for children and young adults. \\nHowever, it can cause serious illness: about 1 in every 5 people who catch it need hospital care. \\nIt is therefore quite normal for people to worry about how the COVID-19 outbreak will affect \\nthem and their loved ones. \\n\\nWe can channel our concerns into actions to protect ourselves, our loved ones and our \\ncommunities. First and foremost, among these actions is regular and thorough hand-washing \\n\\n\\x0cand good respiratory hygiene. Secondly, keep informed and follow the advice of the local health \\nauthorities including any restrictions put in place on travel, movement and gatherings. ', '', ' Who is at risk of developing severe illness? \\nWhile we are still learning about how COVID-2019 affects people, older persons and persons \\nwith pre-existing medical conditions (such as high blood pressure, heart disease, lung disease, \\ncancer or diabetes) appear to develop serious illness more often than others. ', '', ' Are antibiotics effective in preventing or treating COVID-19? \\nWhile we are still learning about how COVID-2019 affects people, older persons and persons \\nwith pre-existing medical conditions (such as high blood pressure, heart disease, lung disease, \\ncancer or diabetes) appear to develop serious illness more often than others.  ', '', ' Are there any medicines or therapies that can prevent or cure COVID-19? \\nWhile some western, traditional or home remedies may provide comfort and alleviate \\nsymptoms of COVID-19, there is no evidence that current medicine can prevent or cure the \\ndisease. WHO does not recommend self-medication with any medicines, including antibiotics, as \\na prevention or cure for COVID-19. However, there are several ongoing clinical trials that include \\nboth western and traditional medicines.  ', '', ' Is there a vaccine, drug or treatment for COVID-19? \\nNot yet. To date, there is no vaccine and no specific antiviral medicine to prevent or treat \\nCOVID-2019. However, those affected should receive care to relieve symptoms. People with \\nserious illness should be hospitalized. Most patients recover thanks to supportive care. \\n\\nPossible vaccines and some specific drug treatments are under investigation. They are being \\ntested through clinical trials. WHO is coordinating efforts to develop vaccines and medicines to \\nprevent and treat COVID-19. \\n\\nThe most effective ways to protect yourself and others against COVID-19 are to frequently clean \\nyour hands, cover your cough with the bend of elbow or tissue, and maintain a distance of at \\nleast 1 meter (3 feet) from people who are coughing or sneezing. (See Basic protective measures \\nagainst the new coronavirus). ', '', ' Should I wear a mask to protect myself from catching the COVID-19 virus? \\nOnly wear a mask if you are ill with COVID-19 symptoms (especially coughing) or looking after \\nsomeone who may have COVID-19. Disposable face mask can only be used once. If you are not \\nill or looking after someone who is ill then you are wasting a mask. There is a world-wide \\nshortage of masks, so WHO urges people to use masks wisely. \\n\\nWHO advises rational use of medical masks to avoid unnecessary wastage of precious resources \\nand mis-use of masks  (see Advice on the use of masks). \\n\\nThe most effective ways to protect yourself and others against COVID-19 are to frequently clean \\nyour hands, cover your cough with the bend of elbow or tissue and maintain a distance of at \\nleast 1 meter (3 feet) from people who are coughing or sneezing. See basic protective measures \\nagainst the new coronavirus for more information. ', '', ' Until when should I wear a mask after recovering from an illness with respiratory \\n\\nsymptoms? \\n\\nIn order to avoid infecting others, you should use a mask for as long as you are still coughing or \\nsneezing. You should only stop after a complete recovery (which means 24-48 hours after having \\nno symptoms without medication).  ', '', ' I am looking after someone who is ill with suspect or confirmed COVID-19. What \\n\\nprecautions should I take? \\n•  You should limit the movement around the house of the individual who is ill and \\n\\nminimize shared space. \\n\\n•  Ensure shared spaces like bathrooms, and the kitchen are well ventilated. One way to \\n\\ndo this is by keeping the windows open. Clean and disinfect the bathroom and toilet \\nsurface at least once a day using regular household soap or detergent for cleaning and \\nthen disinfecting with a regular household disinfectant containing 0.5% sodium \\nhypochlorite. \\n\\n•  Do not forget the importance of hand hygiene with alcohol-based hand-rub or soap and \\n\\nwater (if hands are visibly soiled). \\n\\n•  Whenever possible, household members should stay in a different room or maintain a \\n\\ndistance of at least 1 meter from the ill person. \\n\\n•  When helping care for the sick individual, wear a tightly fitted medical/surgical mask \\nthat covers your nose and mouth when in the same room as the affected individual. \\nMake sure you are careful not to touch your mask. If your mask gets wet or dirty, it \\nshould be replaced. When removing a mask, it is important to throw it away and \\nperform hand hygiene. Dispose of any material with respiratory secretions immediately \\nafter use. \\n\\n•  Both the ill individual and you, as the caregiver, should perform hand hygiene after \\n\\ncontact with respiratory secretions. ', '', ' How long is the incubation and transmission period for COVID-19? \\nThe “incubation period” means the time between catching the virus and beginning to have \\nsymptoms of the disease. Most estimates of the incubation period for COVID-19 range from 1-\\n14 days, most commonly around five days.  ', '', ' Can humans become infected with the COVID-19 from an animal source? \\nPossible animal sources of COVID-19 have not yet been confirmed.  To protect yourself, such as \\nwhen visiting live animal markets, avoid direct contact with animals and surfaces in contact with \\nanimals. Ensure good food safety practices at all times. Handle raw meat, milk or animal organs \\nwith care to avoid contamination of uncooked foods and avoid consuming raw or undercooked \\nanimal products. ', '', ' How long does the virus survive on surfaces? \\nIt is not certain how long the virus that causes COVID-19 survives on surfaces, but it seems to \\nbehave like other coronaviruses. Studies suggest that coronaviruses (including preliminary \\ninformation on the COVID-19 virus) may persist on surfaces for a few hours or up to several \\n\\n\\x0cdays. This may vary under different conditions (e.g. type of surface, temperature or humidity of \\nthe environment). \\n\\nIf you think a surface may be infected, clean it with simple disinfectant to kill the virus and \\nprotect yourself and others. Clean your hands with an alcohol-based hand rub or wash them \\nwith soap and water. Avoid touching your eyes, mouth, or nose. ', '', ' How can I get tested for COVID-19? \\nIf you are well, no testing is recommended. If you are experiencing symptoms of COVID-19, you \\nshould immediately isolate yourself from others. Call your local UN clinic/medical facility to \\ninform them of your condition and relevant travel/exposure history.  If you had been identified \\nas a close contact of a case by the local Ministry of Health or WHO, please also indicate this. \\nFrom here you will be advised if a medical assessment is necessary and how to get tested.  ', '', ' What alternatives do I have if there are no hand sanitizers available? Can I use other \\n\\nalcohol like ethyl or liquor?  \\n\\nIf hand sanitizers are not available, hand washing with soap and water is the recommended, and \\neven better, alternative. Liquor is not effective against coronavirus. For an alcohol-based hand \\nrub to be effective, it must have an alcohol content of 60% to 95%. ', '', ' Can people who recover from COVID-19 be infected again? \\nWe know that for similar coronaviruses, infected people are unlikely to be re-infected shortly \\nafter they recover. However, because the immune response to COVID-19 is not yet understood, \\nit is not yet known whether similar immune protection will be observed for patients who have \\nrecovered from COVID-19. ', '', ' Is it safe to receive a package from an area where COVID-19 has been reported? \\nYes. The likelihood of an infected person contaminating commercial goods is low and the risk of \\ncatching the virus that causes COVID-19 from a package that has been moved, travelled, and \\nexposed to different conditions and temperature is also low.  ', '', ' Is there a connection between COVID -19 and environment temperature? \\nIt is not known yet if weather and temperature changes impact or has any connection with \\nCOVID-19. At this time, it is not clear or known if the spread of COVID-19 will decrease when the \\nweather becomes warmer. ', '', ' Can I catch the virus from being in an enclosed space (i.e. bus, subway) in close \\n\\nproximity to someone who doesn’t have respiratory symptoms? \\n\\nSince the virus is transmitted through respiratory droplets, the risk of catching it from somebody \\nwho is asymptomatic, even a contact of a confirmed COVID-19 case, is low. However, in light of \\nthe pandemic, everyone should maintain social distancing, which means keeping at least 1 \\nmeter away from others, avoiding mass gatherings and areas with large numbers of people, and \\npracticing frequent hand washing and hand sanitizing according to the recommendation. ', '', ' Should I start avoiding people of Asian descent and their businesses? \\nThe virus can affect anyone regardless of nationality, race and color.  The Organization will not \\ntolerate discrimination and encourages everyone to promote culturally appropriate and \\n\\n\\x0cempathetic community engagement and to detect and rapidly respond to negative public \\nperceptions and counter misinformation.  ', '', ' When should we identify ourselves as \"being sick\" and stay at home?  \\nAlthough a fever is a sure sign that you are sick enough not to come to work, anyone \\nexperiencing respiratory symptoms like coughing and sneezing should stay at home. ', '', ' My colleague is sick but he/she insists that it is just the common cold and is reluctant \\nto work from home. What steps can we take to enforce “staying at home when not \\nwell” amongst staff? \\n\\nWhile it is very likely that your colleague is only suffering from the common cold or flu, all \\nprecautions should, nevertheless, be taken. Managers should encourage staff members with flu \\nsymptoms to telecommute for some time until the symptoms have abated. Alternatively, if the \\nstaff member is feeling unfit, he/she should take sick leave. This is a sensible approach at any \\ntime to prevent the spreading of flu or other seasonal viruses. Supervisors are also encouraged \\nto exercise flexibility in terms of using remote working arrangements if the staff member would \\nlike to limit their contact with others and work from home. ', '', ' What can we do if we don’t have any hand sanitizers in the office building?  \\nYou should contact the Facilities Management Service of your local UN duty station, \\norganization or the building administration.   ', '', ' What is the process for evaluating the criticality of official travels and meetings?  \\nUN Medical Directors recommend that UN managers and/or UN personnel undertake a risk \\nassessment to evaluate the criticality of the proposed travel balanced against the risks to the \\ntraveler for any travel to or meetings in affected areas experiencing ongoing transmission of \\nCOVID-19.  ', '', ' Does the UN have any specific guidelines for meeting / mass gathering organizers and \\n\\nparticipants during the COVID-19 outbreak? \\n\\n•  For meetings during the COVID-19 outbreak, the Division of Healthcare Management and \\nOccupational Safety and Health (DHMOSH) has prepared the following guidelines for \\nmeeting organizers and participants which are available in the UN HR portal. UN offices \\nshould use these global guidelines to develop local ones in accordance with host country \\nlegislation.  \\n\\n•  The WHO has also released an interim guidance with key planning recommendations for \\n\\nmass gatherings in the context of the current COVID-19 outbreak. ', '', ' I plan to travel to / have a meeting in countries or territories currently experiencing \\n\\nlocal transmission of COVID-19. Should I cancel this travel/meeting? \\n\\n•  While the WHO does not recommend and advises against the application of any travel \\n\\nrestrictions based on the information currently available on COVID-19,  as an occupational \\nhealth measure, it is recommended that for all official travel, UN managers and/or UN \\npersonnel undertake a risk assessment to evaluate the criticality of the proposed travel \\nbalanced against the risks to the traveler for any travel to or meetings in affected areas \\nexperiencing ongoing transmission of COVID-19. This includes risks posed by both medical \\nissues and evolving travel/border restrictions enacted by states parties. \\n\\n\\x0c•  Please be aware that local authorities may begin to implement travel restrictions and health \\nscreening measures for travelers entering or exiting the country. All UN personnel who are \\nplanning to travel should check with the destination countries’ embassy, consulate, or \\nMinistry of Health and keep up to date with local health advice before and during your \\ntravel. You should also comply with any screening measures put in place by local authorities. \\n\\n•  As the outbreak evolves, it can be difficult to predict the situation globally, and it would be \\nprudent to make contingency arrangements should the need arise. Feel free to consult us \\nfurther at dos-dhmosh-public-health@un.org as needed. ', '', ' What is the protocol for staff members returning to work after visiting COVID-19 \\n\\n• \\n\\naffected countries (i.e., those with ongoing transmission)?  \\nIf you have just returned from an affected area, you should self-monitor for symptoms for \\n14 days after travel.  \\n\\n•  During that period, you should immediately seek medical attention should you develop any \\n\\nsigns and symptoms, such as shortness of breath or cough.  \\n\\n•  Remember to share your previous travel history with your health care provider and make \\n\\nevery effort to inform them by phone prior to visiting a medical facility and wear a medical \\nmask when you seek medical care.  \\n\\n•  You should only return to work when you are well and completely free of symptoms.  \\n•  HR personnel and managers are encouraged to exercise flexibility around remote working to \\n\\nsupport staff. ', '', ' I just returned from travel to a country/area experiencing local transmission of \\nCOVID-19. I am well and have no symptoms. Can I go back to the workplace? \\n•  For any UN personnel who are free of symptoms, and returning from country/area or \\n\\n• \\n\\nterritory experiencing local transmission of COVID-19, managers are encouraged to exercise \\nflexibility in terms of using remote working arrangements for staff in these situations who \\nwould like to limit their contact with others and work from home for 14 days post-travel. \\nThis is not mandatory but is strongly encouraged. \\nIndividuals returning from areas of outbreaks should be advised to review our health \\nadvisory on this Coronavirus Disease (COVID-19) page so that you have awareness about the \\ndisease. You should monitor yourself daily for signs of fever, respiratory symptoms (e.g., \\nbreathing difficulties, cough), and know where to seek medical attention if you are aware of \\nany symptoms within yourself. You should monitor yourself for at least 14 days after your \\ntravel. ', '', ' What about self-quarantining after returning from an area/country of high \\n\\n• \\n\\nprevalence? \\nIf you have just returned from an affected area, you should self-monitor for symptoms for \\n14 days after travel. During that period, you should immediately seek medical attention \\nshould you develop any signs and symptoms, such as shortness of breath or cough.  \\n\\n•  Self-quarantine for 14 days is recommended when you have been exposed to contact with \\n\\nlab-confirmed COVID-19. \\n\\n•  Since this is a rapidly evolving situation, many member states are imposing quarantine \\n\\nrecommendations for travelers, which varies by country. We suggest monitoring the travel \\n\\n\\x0cadvisories issued from WHO and DHMOSH for up to date information \\nhttps://www.who.int/emergencies/diseases/novel-coronavirus-2019/travel-advice  and \\nhttps://hr.un.org/page/travel-health-information ', '', ' Have medical insurance related questions? \\nPlease refer to Frequently Asked Questions for UN staff on Medical Insurance in connection with \\nthe Novel Coronavirus (COVID-19) outbreak: https://www.un.org/sites/un2.un.org/files/2020-\\n03-09_faq_medical_insurance_covid-19_ra.pdf ', '', ' What are the latest protocols and guidance for Medical Evacuation of staff members \\n\\nwith severe respiratory infections related to COVID-19? \\n•  For the latest information on normal Medevac procedure for staff, go to: \\n\\nhttps://hr.un.org/sites/hr.un.org/files/Coronavirus_MedevacGuidance_UN_RC_0.pdf \\n•  For information on special Medevac procedure organized by the WHO in cases where \\n\\nthere are no ICU beds available in your country, see: \\nhttps://hr.un.org/sites/hr.un.org/files/COVID-\\nMEDEVAC%20UN%20and%20PARTNERS.pdf']\n"
     ]
    }
   ],
   "source": [
    "print(text2)"
   ]
  },
  {
   "cell_type": "code",
   "execution_count": 35,
   "id": "406a2ffe",
   "metadata": {},
   "outputs": [
    {
     "name": "stdout",
     "output_type": "stream",
     "text": [
      "\n"
     ]
    }
   ],
   "source": [
    "text2.pop(0)\n",
    "\n",
    "print(text2[0])"
   ]
  },
  {
   "cell_type": "code",
   "execution_count": 36,
   "id": "1fa6a8de",
   "metadata": {
    "scrolled": true
   },
   "outputs": [
    {
     "name": "stdout",
     "output_type": "stream",
     "text": [
      "  How does COVID-19 spread? \n",
      "People can catch COVID-19 from others who have the virus. The disease can spread from person \n",
      "to person through small droplets from the nose or mouth which are spread when a person with \n",
      "COVID-19 coughs or exhales. These droplets land on objects and surfaces around the person. \n",
      "Other people then catch COVID-19 by touching these objects or surfaces, then touching their \n",
      "eyes, nose or mouth. People can also catch COVID-19 if they breathe in droplets from a person \n",
      "with COVID-19 who coughs out or exhales droplets. This is why it is important to stay more than \n",
      "1 meter (3 feet) away from a person who is sick. \n"
     ]
    }
   ],
   "source": [
    "print(text2[1])"
   ]
  },
  {
   "cell_type": "code",
   "execution_count": 37,
   "id": "5c5d6755",
   "metadata": {},
   "outputs": [
    {
     "name": "stdout",
     "output_type": "stream",
     "text": [
      "\n"
     ]
    }
   ],
   "source": [
    "print(text2[2])"
   ]
  },
  {
   "cell_type": "code",
   "execution_count": null,
   "id": "a64b40d4",
   "metadata": {},
   "outputs": [],
   "source": [
    "q=[]\n",
    "a=[]\n",
    "for i in range(len(text2)):\n",
    "    if i%2==0:\n",
    "        q.append(text2[i])\n",
    "    else:\n",
    "        a.append(text2[i])\n",
    "        \n"
   ]
  },
  {
   "cell_type": "code",
   "execution_count": 43,
   "id": "1a4fd93c",
   "metadata": {},
   "outputs": [
    {
     "name": "stdout",
     "output_type": "stream",
     "text": [
      "39\n"
     ]
    }
   ],
   "source": [
    "print(len(q))"
   ]
  },
  {
   "cell_type": "code",
   "execution_count": 40,
   "id": "625004d7",
   "metadata": {
    "scrolled": true
   },
   "outputs": [
    {
     "name": "stdout",
     "output_type": "stream",
     "text": [
      "['  How does COVID-19 spread? \\nPeople can catch COVID-19 from others who have the virus. The disease can spread from person \\nto person through small droplets from the nose or mouth which are spread when a person with \\nCOVID-19 coughs or exhales. These droplets land on objects and surfaces around the person. \\nOther people then catch COVID-19 by touching these objects or surfaces, then touching their \\neyes, nose or mouth. People can also catch COVID-19 if they breathe in droplets from a person \\nwith COVID-19 who coughs out or exhales droplets. This is why it is important to stay more than \\n1 meter (3 feet) away from a person who is sick. ', \"  What are the symptoms of COVID-19? \\nThe most common symptoms of COVID-19 are fever, tiredness, and dry cough. Some patients \\nmay have aches and pains, nasal congestion, runny nose, sore throat or diarrhea. These \\nsymptoms are usually mild and begin gradually. Some people become infected but don’t \\ndevelop any symptoms and don't feel unwell. Most people (about 80%) recover from the \\ndisease without needing special treatment. Around 1 out of every 6 people who gets COVID-19 \\nbecomes seriously ill and develops difficulty breathing. Older people, and those with underlying \\nmedical problems like high blood pressure, heart problems or diabetes, are more likely to \\ndevelop serious illness. People with fever, cough and difficulty breathing should seek medical \\nattention. \", '  How do I know if it is COVID-19 or just the common flu?  \\nA COVID-19 infection has the same signs and symptoms as the common cold and you can only \\ndifferentiate them through laboratory testing to determine the virus type. If you have fever, cough \\nand difficulty breathing, you should seek medical attention and  immediately isolate yourself from \\nothers. Call your local UN clinic/medical facility to inform them of your condition and relevant \\ntravel/exposure  history.    If  you  had  been  identified  as  a  close  contact  of  a  case  by  the  local \\nMinistry of Health or WHO, please also indicate this. From here you will be advised if a medical \\nassessment is necessary and how to get tested.  ', '  Can the virus that causes COVID-19 be transmitted through the air? \\nStudies to date suggest that the virus that causes COVID-19 is mainly transmitted through \\ncontact with respiratory droplets rather than through the air.  See previous answer on “How \\ndoes COVID-19 spread?” ', '  What can I do to protect myself and prevent the spread of disease? \\nProtection measures for everyone \\n\\nStay aware of the latest information on the COVID-19 outbreak, available on the WHO website \\nand through your national and local public health authority. Many countries around the world \\nhave seen cases of COVID-19 and several have seen outbreaks. Authorities in China and some \\nother countries have succeeded in slowing or stopping their outbreaks. However, the situation is \\nunpredictable so check regularly for the latest news. \\n\\n\\x0cYou can reduce your chances of being infected or spreading COVID-19 by taking some simple \\nprecautions: \\n\\n•  Regularly and thoroughly clean your hands with an alcohol-based hand rub or wash them \\n\\nwith soap and water. Why? Washing your hands with soap and water or using alcohol-based \\nhand rub kills viruses that may be on your hands. \\n\\n•  Maintain at least 1 meter (3 feet) distance between yourself and anyone who is coughing or \\nsneezing. Why? When someone coughs or sneezes, they spray small liquid droplets from \\ntheir nose or mouth which may contain virus. If you are too close, you can breathe in the \\ndroplets, including the COVID-19 virus if the person coughing has the disease. \\n\\n•  Avoid touching eyes, nose and mouth. Why? Hands touch many surfaces and can pick up \\n\\nviruses. Once contaminated, hands can transfer the virus to your eyes, nose or mouth. From \\nthere, the virus can enter your body and can make you sick. \\n\\n•  Make sure you, and the people around you, follow good respiratory hygiene. This means \\ncovering your mouth and nose with your bent elbow or tissue when you cough or sneeze. \\nThen dispose of the used tissue immediately.  Why? Droplets spread virus. By following \\ngood respiratory hygiene, you protect the people around you from viruses such as cold, flu \\nand COVID-19. \\n\\n• \\n\\nStay home if you feel unwell. If you have a fever, cough and difficulty breathing, seek \\nmedical attention and call in advance. Follow the directions of your local health authority. \\nWhy? National and local authorities will have the most up to date information on the \\nsituation in your area. Calling in advance will allow your health care provider to quickly \\ndirect you to the right health facility. This will also protect you and help prevent spread of \\nviruses and other infections. \\n\\n•  Keep up to date on the latest COVID-19 hotspots (cities or local areas where COVID-19 is \\nspreading widely). If possible, avoid traveling to places – especially if you are an older \\nperson or have diabetes, heart or lung disease. Why? You have a higher chance of catching \\nCOVID-19 in one of these areas. ', '  I am well and asymptomatic. Should I use a mask? \\nAccording to the WHO, for individuals without respiratory symptoms, a medical mask is not \\nrequired, as no evidence is available on its usefulness to protect non-sick persons. \\nHowever, masks might be worn in some countries according to local cultural habits. If masks are \\nused, best practices should be followed on how to wear, remove, and dispose of them and on \\nhand hygiene action after removal. For more information, visit the WHO guidance on use of \\nmasks in the community. ', '  How likely am I to catch COVID-19? \\nThe risk depends on where you are - and more specifically, whether there is a COVID-19 \\noutbreak unfolding there. \\n\\nFor most people in most locations the risk of catching COVID-19 is still low. However, there are \\nnow places around the world (cities or areas) where the disease is spreading. For people living \\n\\n\\x0cin, or visiting, these areas the risk of catching COVID-19 is higher. Governments and health \\nauthorities are taking vigorous action every time a new case of COVID-19 is identified. Be sure to \\ncomply with any local restrictions on travel, movement or large gatherings. Cooperating with \\ndisease control efforts will reduce your risk of catching or spreading COVID-19. \\n\\nCOVID-19 outbreaks can be contained and transmission stopped, as has been shown in China \\nand some other countries. Unfortunately, new outbreaks can emerge rapidly. It’s important to \\nbe aware of the situation where you are or intend to go. WHO publishes daily updates on the \\nCOVID-19 situation worldwide. \\n\\nYou can see these at https://www.who.int/emergencies/diseases/novel-coronavirus-\\n2019/situation-reports/ ', '  Are pregnant women more susceptible to the COVID-19 virus and will it harm the \\n\\nfetus? \\n\\nWe do not have information from published scientific reports about the susceptibility of \\npregnant women to COVID-19. Pregnant women experience immunologic and physiologic \\nchanges, which might make them more susceptible to viral respiratory infections, including \\nCOVID-19. \\n\\nThe virus that causes COVID-19 is thought to spread mainly by close contact with an infected \\nperson through respiratory droplets. Whether a pregnant woman with COVID-19 can transmit \\nthe virus that causes COVID-19 to her fetus or neonate by other routes of vertical transmission \\n(before, during, or after delivery) is still unknown. ', '  What is the risk of my child becoming sick with COVID-19? \\nBased on available evidence, children do not appear to be at higher risk for COVID-19 than \\nadults. While some children and infants have been sick with COVID-19, adults make up most of \\nthe known cases to date. You can learn more about who is most at risk for health problems if \\nthey have COVID-19 infection on CDC’s current Risk Assessment page. ', ' Are the symptoms of COVID-19 different in children than in adults? \\nNo. The symptoms of COVID-19 are similar in children and adults. However, children with \\nconfirmed COVID-19 have generally presented with mild symptoms. Reported symptoms in \\nchildren include cold-like symptoms, such as fever, runny nose, and cough. Vomiting and \\ndiarrhea have also been reported. It’s not known yet whether some children may be at higher \\nrisk for severe illness, for example, children with underlying medical conditions and special \\nhealthcare needs. There is much more to be learned about how the disease impacts children. ', ' Should I worry about COVID-19? \\nIllness due to COVID-19 infection is generally mild, especially for children and young adults. \\nHowever, it can cause serious illness: about 1 in every 5 people who catch it need hospital care. \\nIt is therefore quite normal for people to worry about how the COVID-19 outbreak will affect \\nthem and their loved ones. \\n\\nWe can channel our concerns into actions to protect ourselves, our loved ones and our \\ncommunities. First and foremost, among these actions is regular and thorough hand-washing \\n\\n\\x0cand good respiratory hygiene. Secondly, keep informed and follow the advice of the local health \\nauthorities including any restrictions put in place on travel, movement and gatherings. ', ' Who is at risk of developing severe illness? \\nWhile we are still learning about how COVID-2019 affects people, older persons and persons \\nwith pre-existing medical conditions (such as high blood pressure, heart disease, lung disease, \\ncancer or diabetes) appear to develop serious illness more often than others. ', ' Are antibiotics effective in preventing or treating COVID-19? \\nWhile we are still learning about how COVID-2019 affects people, older persons and persons \\nwith pre-existing medical conditions (such as high blood pressure, heart disease, lung disease, \\ncancer or diabetes) appear to develop serious illness more often than others.  ', ' Are there any medicines or therapies that can prevent or cure COVID-19? \\nWhile some western, traditional or home remedies may provide comfort and alleviate \\nsymptoms of COVID-19, there is no evidence that current medicine can prevent or cure the \\ndisease. WHO does not recommend self-medication with any medicines, including antibiotics, as \\na prevention or cure for COVID-19. However, there are several ongoing clinical trials that include \\nboth western and traditional medicines.  ', ' Is there a vaccine, drug or treatment for COVID-19? \\nNot yet. To date, there is no vaccine and no specific antiviral medicine to prevent or treat \\nCOVID-2019. However, those affected should receive care to relieve symptoms. People with \\nserious illness should be hospitalized. Most patients recover thanks to supportive care. \\n\\nPossible vaccines and some specific drug treatments are under investigation. They are being \\ntested through clinical trials. WHO is coordinating efforts to develop vaccines and medicines to \\nprevent and treat COVID-19. \\n\\nThe most effective ways to protect yourself and others against COVID-19 are to frequently clean \\nyour hands, cover your cough with the bend of elbow or tissue, and maintain a distance of at \\nleast 1 meter (3 feet) from people who are coughing or sneezing. (See Basic protective measures \\nagainst the new coronavirus). ', ' Should I wear a mask to protect myself from catching the COVID-19 virus? \\nOnly wear a mask if you are ill with COVID-19 symptoms (especially coughing) or looking after \\nsomeone who may have COVID-19. Disposable face mask can only be used once. If you are not \\nill or looking after someone who is ill then you are wasting a mask. There is a world-wide \\nshortage of masks, so WHO urges people to use masks wisely. \\n\\nWHO advises rational use of medical masks to avoid unnecessary wastage of precious resources \\nand mis-use of masks  (see Advice on the use of masks). \\n\\nThe most effective ways to protect yourself and others against COVID-19 are to frequently clean \\nyour hands, cover your cough with the bend of elbow or tissue and maintain a distance of at \\nleast 1 meter (3 feet) from people who are coughing or sneezing. See basic protective measures \\nagainst the new coronavirus for more information. ', ' Until when should I wear a mask after recovering from an illness with respiratory \\n\\nsymptoms? \\n\\nIn order to avoid infecting others, you should use a mask for as long as you are still coughing or \\nsneezing. You should only stop after a complete recovery (which means 24-48 hours after having \\nno symptoms without medication).  ', ' I am looking after someone who is ill with suspect or confirmed COVID-19. What \\n\\nprecautions should I take? \\n•  You should limit the movement around the house of the individual who is ill and \\n\\nminimize shared space. \\n\\n•  Ensure shared spaces like bathrooms, and the kitchen are well ventilated. One way to \\n\\ndo this is by keeping the windows open. Clean and disinfect the bathroom and toilet \\nsurface at least once a day using regular household soap or detergent for cleaning and \\nthen disinfecting with a regular household disinfectant containing 0.5% sodium \\nhypochlorite. \\n\\n•  Do not forget the importance of hand hygiene with alcohol-based hand-rub or soap and \\n\\nwater (if hands are visibly soiled). \\n\\n•  Whenever possible, household members should stay in a different room or maintain a \\n\\ndistance of at least 1 meter from the ill person. \\n\\n•  When helping care for the sick individual, wear a tightly fitted medical/surgical mask \\nthat covers your nose and mouth when in the same room as the affected individual. \\nMake sure you are careful not to touch your mask. If your mask gets wet or dirty, it \\nshould be replaced. When removing a mask, it is important to throw it away and \\nperform hand hygiene. Dispose of any material with respiratory secretions immediately \\nafter use. \\n\\n•  Both the ill individual and you, as the caregiver, should perform hand hygiene after \\n\\ncontact with respiratory secretions. ', ' How long is the incubation and transmission period for COVID-19? \\nThe “incubation period” means the time between catching the virus and beginning to have \\nsymptoms of the disease. Most estimates of the incubation period for COVID-19 range from 1-\\n14 days, most commonly around five days.  ', ' Can humans become infected with the COVID-19 from an animal source? \\nPossible animal sources of COVID-19 have not yet been confirmed.  To protect yourself, such as \\nwhen visiting live animal markets, avoid direct contact with animals and surfaces in contact with \\nanimals. Ensure good food safety practices at all times. Handle raw meat, milk or animal organs \\nwith care to avoid contamination of uncooked foods and avoid consuming raw or undercooked \\nanimal products. ', ' How long does the virus survive on surfaces? \\nIt is not certain how long the virus that causes COVID-19 survives on surfaces, but it seems to \\nbehave like other coronaviruses. Studies suggest that coronaviruses (including preliminary \\ninformation on the COVID-19 virus) may persist on surfaces for a few hours or up to several \\n\\n\\x0cdays. This may vary under different conditions (e.g. type of surface, temperature or humidity of \\nthe environment). \\n\\nIf you think a surface may be infected, clean it with simple disinfectant to kill the virus and \\nprotect yourself and others. Clean your hands with an alcohol-based hand rub or wash them \\nwith soap and water. Avoid touching your eyes, mouth, or nose. ', ' How can I get tested for COVID-19? \\nIf you are well, no testing is recommended. If you are experiencing symptoms of COVID-19, you \\nshould immediately isolate yourself from others. Call your local UN clinic/medical facility to \\ninform them of your condition and relevant travel/exposure history.  If you had been identified \\nas a close contact of a case by the local Ministry of Health or WHO, please also indicate this. \\nFrom here you will be advised if a medical assessment is necessary and how to get tested.  ', ' What alternatives do I have if there are no hand sanitizers available? Can I use other \\n\\nalcohol like ethyl or liquor?  \\n\\nIf hand sanitizers are not available, hand washing with soap and water is the recommended, and \\neven better, alternative. Liquor is not effective against coronavirus. For an alcohol-based hand \\nrub to be effective, it must have an alcohol content of 60% to 95%. ', ' Can people who recover from COVID-19 be infected again? \\nWe know that for similar coronaviruses, infected people are unlikely to be re-infected shortly \\nafter they recover. However, because the immune response to COVID-19 is not yet understood, \\nit is not yet known whether similar immune protection will be observed for patients who have \\nrecovered from COVID-19. ', ' Is it safe to receive a package from an area where COVID-19 has been reported? \\nYes. The likelihood of an infected person contaminating commercial goods is low and the risk of \\ncatching the virus that causes COVID-19 from a package that has been moved, travelled, and \\nexposed to different conditions and temperature is also low.  ', ' Is there a connection between COVID -19 and environment temperature? \\nIt is not known yet if weather and temperature changes impact or has any connection with \\nCOVID-19. At this time, it is not clear or known if the spread of COVID-19 will decrease when the \\nweather becomes warmer. ', ' Can I catch the virus from being in an enclosed space (i.e. bus, subway) in close \\n\\nproximity to someone who doesn’t have respiratory symptoms? \\n\\nSince the virus is transmitted through respiratory droplets, the risk of catching it from somebody \\nwho is asymptomatic, even a contact of a confirmed COVID-19 case, is low. However, in light of \\nthe pandemic, everyone should maintain social distancing, which means keeping at least 1 \\nmeter away from others, avoiding mass gatherings and areas with large numbers of people, and \\npracticing frequent hand washing and hand sanitizing according to the recommendation. ', ' Should I start avoiding people of Asian descent and their businesses? \\nThe virus can affect anyone regardless of nationality, race and color.  The Organization will not \\ntolerate discrimination and encourages everyone to promote culturally appropriate and \\n\\n\\x0cempathetic community engagement and to detect and rapidly respond to negative public \\nperceptions and counter misinformation.  ', ' When should we identify ourselves as \"being sick\" and stay at home?  \\nAlthough a fever is a sure sign that you are sick enough not to come to work, anyone \\nexperiencing respiratory symptoms like coughing and sneezing should stay at home. ', ' My colleague is sick but he/she insists that it is just the common cold and is reluctant \\nto work from home. What steps can we take to enforce “staying at home when not \\nwell” amongst staff? \\n\\nWhile it is very likely that your colleague is only suffering from the common cold or flu, all \\nprecautions should, nevertheless, be taken. Managers should encourage staff members with flu \\nsymptoms to telecommute for some time until the symptoms have abated. Alternatively, if the \\nstaff member is feeling unfit, he/she should take sick leave. This is a sensible approach at any \\ntime to prevent the spreading of flu or other seasonal viruses. Supervisors are also encouraged \\nto exercise flexibility in terms of using remote working arrangements if the staff member would \\nlike to limit their contact with others and work from home. ', ' What can we do if we don’t have any hand sanitizers in the office building?  \\nYou should contact the Facilities Management Service of your local UN duty station, \\norganization or the building administration.   ', ' What is the process for evaluating the criticality of official travels and meetings?  \\nUN Medical Directors recommend that UN managers and/or UN personnel undertake a risk \\nassessment to evaluate the criticality of the proposed travel balanced against the risks to the \\ntraveler for any travel to or meetings in affected areas experiencing ongoing transmission of \\nCOVID-19.  ', ' Does the UN have any specific guidelines for meeting / mass gathering organizers and \\n\\nparticipants during the COVID-19 outbreak? \\n\\n•  For meetings during the COVID-19 outbreak, the Division of Healthcare Management and \\nOccupational Safety and Health (DHMOSH) has prepared the following guidelines for \\nmeeting organizers and participants which are available in the UN HR portal. UN offices \\nshould use these global guidelines to develop local ones in accordance with host country \\nlegislation.  \\n\\n•  The WHO has also released an interim guidance with key planning recommendations for \\n\\nmass gatherings in the context of the current COVID-19 outbreak. ', ' I plan to travel to / have a meeting in countries or territories currently experiencing \\n\\nlocal transmission of COVID-19. Should I cancel this travel/meeting? \\n\\n•  While the WHO does not recommend and advises against the application of any travel \\n\\nrestrictions based on the information currently available on COVID-19,  as an occupational \\nhealth measure, it is recommended that for all official travel, UN managers and/or UN \\npersonnel undertake a risk assessment to evaluate the criticality of the proposed travel \\nbalanced against the risks to the traveler for any travel to or meetings in affected areas \\nexperiencing ongoing transmission of COVID-19. This includes risks posed by both medical \\nissues and evolving travel/border restrictions enacted by states parties. \\n\\n\\x0c•  Please be aware that local authorities may begin to implement travel restrictions and health \\nscreening measures for travelers entering or exiting the country. All UN personnel who are \\nplanning to travel should check with the destination countries’ embassy, consulate, or \\nMinistry of Health and keep up to date with local health advice before and during your \\ntravel. You should also comply with any screening measures put in place by local authorities. \\n\\n•  As the outbreak evolves, it can be difficult to predict the situation globally, and it would be \\nprudent to make contingency arrangements should the need arise. Feel free to consult us \\nfurther at dos-dhmosh-public-health@un.org as needed. ', ' What is the protocol for staff members returning to work after visiting COVID-19 \\n\\n• \\n\\naffected countries (i.e., those with ongoing transmission)?  \\nIf you have just returned from an affected area, you should self-monitor for symptoms for \\n14 days after travel.  \\n\\n•  During that period, you should immediately seek medical attention should you develop any \\n\\nsigns and symptoms, such as shortness of breath or cough.  \\n\\n•  Remember to share your previous travel history with your health care provider and make \\n\\nevery effort to inform them by phone prior to visiting a medical facility and wear a medical \\nmask when you seek medical care.  \\n\\n•  You should only return to work when you are well and completely free of symptoms.  \\n•  HR personnel and managers are encouraged to exercise flexibility around remote working to \\n\\nsupport staff. ', ' I just returned from travel to a country/area experiencing local transmission of \\nCOVID-19. I am well and have no symptoms. Can I go back to the workplace? \\n•  For any UN personnel who are free of symptoms, and returning from country/area or \\n\\n• \\n\\nterritory experiencing local transmission of COVID-19, managers are encouraged to exercise \\nflexibility in terms of using remote working arrangements for staff in these situations who \\nwould like to limit their contact with others and work from home for 14 days post-travel. \\nThis is not mandatory but is strongly encouraged. \\nIndividuals returning from areas of outbreaks should be advised to review our health \\nadvisory on this Coronavirus Disease (COVID-19) page so that you have awareness about the \\ndisease. You should monitor yourself daily for signs of fever, respiratory symptoms (e.g., \\nbreathing difficulties, cough), and know where to seek medical attention if you are aware of \\nany symptoms within yourself. You should monitor yourself for at least 14 days after your \\ntravel. ', ' What about self-quarantining after returning from an area/country of high \\n\\n• \\n\\nprevalence? \\nIf you have just returned from an affected area, you should self-monitor for symptoms for \\n14 days after travel. During that period, you should immediately seek medical attention \\nshould you develop any signs and symptoms, such as shortness of breath or cough.  \\n\\n•  Self-quarantine for 14 days is recommended when you have been exposed to contact with \\n\\nlab-confirmed COVID-19. \\n\\n•  Since this is a rapidly evolving situation, many member states are imposing quarantine \\n\\nrecommendations for travelers, which varies by country. We suggest monitoring the travel \\n\\n\\x0cadvisories issued from WHO and DHMOSH for up to date information \\nhttps://www.who.int/emergencies/diseases/novel-coronavirus-2019/travel-advice  and \\nhttps://hr.un.org/page/travel-health-information ', ' Have medical insurance related questions? \\nPlease refer to Frequently Asked Questions for UN staff on Medical Insurance in connection with \\nthe Novel Coronavirus (COVID-19) outbreak: https://www.un.org/sites/un2.un.org/files/2020-\\n03-09_faq_medical_insurance_covid-19_ra.pdf ', ' What are the latest protocols and guidance for Medical Evacuation of staff members \\n\\nwith severe respiratory infections related to COVID-19? \\n•  For the latest information on normal Medevac procedure for staff, go to: \\n\\nhttps://hr.un.org/sites/hr.un.org/files/Coronavirus_MedevacGuidance_UN_RC_0.pdf \\n•  For information on special Medevac procedure organized by the WHO in cases where \\n\\nthere are no ICU beds available in your country, see: \\nhttps://hr.un.org/sites/hr.un.org/files/COVID-\\nMEDEVAC%20UN%20and%20PARTNERS.pdf']\n"
     ]
    }
   ],
   "source": [
    "print(a)"
   ]
  },
  {
   "cell_type": "code",
   "execution_count": 41,
   "id": "7f7dcf81",
   "metadata": {},
   "outputs": [
    {
     "name": "stdout",
     "output_type": "stream",
     "text": [
      "39\n"
     ]
    }
   ],
   "source": [
    "print(len(a))"
   ]
  },
  {
   "cell_type": "code",
   "execution_count": null,
   "id": "1fab1e1b",
   "metadata": {},
   "outputs": [],
   "source": [
    "ques=[]\n",
    "ans=[]\n",
    "x=[]\n",
    "for i in a:\n",
    "    x.append(i.split(\"?\"))\n",
    "    \n",
    "    "
   ]
  },
  {
   "cell_type": "code",
   "execution_count": 70,
   "id": "5fcd07a0",
   "metadata": {},
   "outputs": [
    {
     "name": "stdout",
     "output_type": "stream",
     "text": [
      "39\n"
     ]
    }
   ],
   "source": [
    "print(len(x))"
   ]
  },
  {
   "cell_type": "code",
   "execution_count": 71,
   "id": "39dbd399",
   "metadata": {},
   "outputs": [
    {
     "name": "stdout",
     "output_type": "stream",
     "text": [
      "[['  How does COVID-19 spread', ' \\nPeople can catch COVID-19 from others who have the virus. The disease can spread from person \\nto person through small droplets from the nose or mouth which are spread when a person with \\nCOVID-19 coughs or exhales. These droplets land on objects and surfaces around the person. \\nOther people then catch COVID-19 by touching these objects or surfaces, then touching their \\neyes, nose or mouth. People can also catch COVID-19 if they breathe in droplets from a person \\nwith COVID-19 who coughs out or exhales droplets. This is why it is important to stay more than \\n1 meter (3 feet) away from a person who is sick. '], ['  What are the symptoms of COVID-19', \" \\nThe most common symptoms of COVID-19 are fever, tiredness, and dry cough. Some patients \\nmay have aches and pains, nasal congestion, runny nose, sore throat or diarrhea. These \\nsymptoms are usually mild and begin gradually. Some people become infected but don’t \\ndevelop any symptoms and don't feel unwell. Most people (about 80%) recover from the \\ndisease without needing special treatment. Around 1 out of every 6 people who gets COVID-19 \\nbecomes seriously ill and develops difficulty breathing. Older people, and those with underlying \\nmedical problems like high blood pressure, heart problems or diabetes, are more likely to \\ndevelop serious illness. People with fever, cough and difficulty breathing should seek medical \\nattention. \"], ['  How do I know if it is COVID-19 or just the common flu', '  \\nA COVID-19 infection has the same signs and symptoms as the common cold and you can only \\ndifferentiate them through laboratory testing to determine the virus type. If you have fever, cough \\nand difficulty breathing, you should seek medical attention and  immediately isolate yourself from \\nothers. Call your local UN clinic/medical facility to inform them of your condition and relevant \\ntravel/exposure  history.    If  you  had  been  identified  as  a  close  contact  of  a  case  by  the  local \\nMinistry of Health or WHO, please also indicate this. From here you will be advised if a medical \\nassessment is necessary and how to get tested.  '], ['  Can the virus that causes COVID-19 be transmitted through the air', ' \\nStudies to date suggest that the virus that causes COVID-19 is mainly transmitted through \\ncontact with respiratory droplets rather than through the air.  See previous answer on “How \\ndoes COVID-19 spread', '” '], ['  What can I do to protect myself and prevent the spread of disease', ' \\nProtection measures for everyone \\n\\nStay aware of the latest information on the COVID-19 outbreak, available on the WHO website \\nand through your national and local public health authority. Many countries around the world \\nhave seen cases of COVID-19 and several have seen outbreaks. Authorities in China and some \\nother countries have succeeded in slowing or stopping their outbreaks. However, the situation is \\nunpredictable so check regularly for the latest news. \\n\\n\\x0cYou can reduce your chances of being infected or spreading COVID-19 by taking some simple \\nprecautions: \\n\\n•  Regularly and thoroughly clean your hands with an alcohol-based hand rub or wash them \\n\\nwith soap and water. Why', ' Washing your hands with soap and water or using alcohol-based \\nhand rub kills viruses that may be on your hands. \\n\\n•  Maintain at least 1 meter (3 feet) distance between yourself and anyone who is coughing or \\nsneezing. Why', ' When someone coughs or sneezes, they spray small liquid droplets from \\ntheir nose or mouth which may contain virus. If you are too close, you can breathe in the \\ndroplets, including the COVID-19 virus if the person coughing has the disease. \\n\\n•  Avoid touching eyes, nose and mouth. Why', ' Hands touch many surfaces and can pick up \\n\\nviruses. Once contaminated, hands can transfer the virus to your eyes, nose or mouth. From \\nthere, the virus can enter your body and can make you sick. \\n\\n•  Make sure you, and the people around you, follow good respiratory hygiene. This means \\ncovering your mouth and nose with your bent elbow or tissue when you cough or sneeze. \\nThen dispose of the used tissue immediately.  Why', ' Droplets spread virus. By following \\ngood respiratory hygiene, you protect the people around you from viruses such as cold, flu \\nand COVID-19. \\n\\n• \\n\\nStay home if you feel unwell. If you have a fever, cough and difficulty breathing, seek \\nmedical attention and call in advance. Follow the directions of your local health authority. \\nWhy', ' National and local authorities will have the most up to date information on the \\nsituation in your area. Calling in advance will allow your health care provider to quickly \\ndirect you to the right health facility. This will also protect you and help prevent spread of \\nviruses and other infections. \\n\\n•  Keep up to date on the latest COVID-19 hotspots (cities or local areas where COVID-19 is \\nspreading widely). If possible, avoid traveling to places – especially if you are an older \\nperson or have diabetes, heart or lung disease. Why', ' You have a higher chance of catching \\nCOVID-19 in one of these areas. '], ['  I am well and asymptomatic. Should I use a mask', ' \\nAccording to the WHO, for individuals without respiratory symptoms, a medical mask is not \\nrequired, as no evidence is available on its usefulness to protect non-sick persons. \\nHowever, masks might be worn in some countries according to local cultural habits. If masks are \\nused, best practices should be followed on how to wear, remove, and dispose of them and on \\nhand hygiene action after removal. For more information, visit the WHO guidance on use of \\nmasks in the community. '], ['  How likely am I to catch COVID-19', ' \\nThe risk depends on where you are - and more specifically, whether there is a COVID-19 \\noutbreak unfolding there. \\n\\nFor most people in most locations the risk of catching COVID-19 is still low. However, there are \\nnow places around the world (cities or areas) where the disease is spreading. For people living \\n\\n\\x0cin, or visiting, these areas the risk of catching COVID-19 is higher. Governments and health \\nauthorities are taking vigorous action every time a new case of COVID-19 is identified. Be sure to \\ncomply with any local restrictions on travel, movement or large gatherings. Cooperating with \\ndisease control efforts will reduce your risk of catching or spreading COVID-19. \\n\\nCOVID-19 outbreaks can be contained and transmission stopped, as has been shown in China \\nand some other countries. Unfortunately, new outbreaks can emerge rapidly. It’s important to \\nbe aware of the situation where you are or intend to go. WHO publishes daily updates on the \\nCOVID-19 situation worldwide. \\n\\nYou can see these at https://www.who.int/emergencies/diseases/novel-coronavirus-\\n2019/situation-reports/ '], ['  Are pregnant women more susceptible to the COVID-19 virus and will it harm the \\n\\nfetus', ' \\n\\nWe do not have information from published scientific reports about the susceptibility of \\npregnant women to COVID-19. Pregnant women experience immunologic and physiologic \\nchanges, which might make them more susceptible to viral respiratory infections, including \\nCOVID-19. \\n\\nThe virus that causes COVID-19 is thought to spread mainly by close contact with an infected \\nperson through respiratory droplets. Whether a pregnant woman with COVID-19 can transmit \\nthe virus that causes COVID-19 to her fetus or neonate by other routes of vertical transmission \\n(before, during, or after delivery) is still unknown. '], ['  What is the risk of my child becoming sick with COVID-19', ' \\nBased on available evidence, children do not appear to be at higher risk for COVID-19 than \\nadults. While some children and infants have been sick with COVID-19, adults make up most of \\nthe known cases to date. You can learn more about who is most at risk for health problems if \\nthey have COVID-19 infection on CDC’s current Risk Assessment page. '], [' Are the symptoms of COVID-19 different in children than in adults', ' \\nNo. The symptoms of COVID-19 are similar in children and adults. However, children with \\nconfirmed COVID-19 have generally presented with mild symptoms. Reported symptoms in \\nchildren include cold-like symptoms, such as fever, runny nose, and cough. Vomiting and \\ndiarrhea have also been reported. It’s not known yet whether some children may be at higher \\nrisk for severe illness, for example, children with underlying medical conditions and special \\nhealthcare needs. There is much more to be learned about how the disease impacts children. '], [' Should I worry about COVID-19', ' \\nIllness due to COVID-19 infection is generally mild, especially for children and young adults. \\nHowever, it can cause serious illness: about 1 in every 5 people who catch it need hospital care. \\nIt is therefore quite normal for people to worry about how the COVID-19 outbreak will affect \\nthem and their loved ones. \\n\\nWe can channel our concerns into actions to protect ourselves, our loved ones and our \\ncommunities. First and foremost, among these actions is regular and thorough hand-washing \\n\\n\\x0cand good respiratory hygiene. Secondly, keep informed and follow the advice of the local health \\nauthorities including any restrictions put in place on travel, movement and gatherings. '], [' Who is at risk of developing severe illness', ' \\nWhile we are still learning about how COVID-2019 affects people, older persons and persons \\nwith pre-existing medical conditions (such as high blood pressure, heart disease, lung disease, \\ncancer or diabetes) appear to develop serious illness more often than others. '], [' Are antibiotics effective in preventing or treating COVID-19', ' \\nWhile we are still learning about how COVID-2019 affects people, older persons and persons \\nwith pre-existing medical conditions (such as high blood pressure, heart disease, lung disease, \\ncancer or diabetes) appear to develop serious illness more often than others.  '], [' Are there any medicines or therapies that can prevent or cure COVID-19', ' \\nWhile some western, traditional or home remedies may provide comfort and alleviate \\nsymptoms of COVID-19, there is no evidence that current medicine can prevent or cure the \\ndisease. WHO does not recommend self-medication with any medicines, including antibiotics, as \\na prevention or cure for COVID-19. However, there are several ongoing clinical trials that include \\nboth western and traditional medicines.  '], [' Is there a vaccine, drug or treatment for COVID-19', ' \\nNot yet. To date, there is no vaccine and no specific antiviral medicine to prevent or treat \\nCOVID-2019. However, those affected should receive care to relieve symptoms. People with \\nserious illness should be hospitalized. Most patients recover thanks to supportive care. \\n\\nPossible vaccines and some specific drug treatments are under investigation. They are being \\ntested through clinical trials. WHO is coordinating efforts to develop vaccines and medicines to \\nprevent and treat COVID-19. \\n\\nThe most effective ways to protect yourself and others against COVID-19 are to frequently clean \\nyour hands, cover your cough with the bend of elbow or tissue, and maintain a distance of at \\nleast 1 meter (3 feet) from people who are coughing or sneezing. (See Basic protective measures \\nagainst the new coronavirus). '], [' Should I wear a mask to protect myself from catching the COVID-19 virus', ' \\nOnly wear a mask if you are ill with COVID-19 symptoms (especially coughing) or looking after \\nsomeone who may have COVID-19. Disposable face mask can only be used once. If you are not \\nill or looking after someone who is ill then you are wasting a mask. There is a world-wide \\nshortage of masks, so WHO urges people to use masks wisely. \\n\\nWHO advises rational use of medical masks to avoid unnecessary wastage of precious resources \\nand mis-use of masks  (see Advice on the use of masks). \\n\\nThe most effective ways to protect yourself and others against COVID-19 are to frequently clean \\nyour hands, cover your cough with the bend of elbow or tissue and maintain a distance of at \\nleast 1 meter (3 feet) from people who are coughing or sneezing. See basic protective measures \\nagainst the new coronavirus for more information. '], [' Until when should I wear a mask after recovering from an illness with respiratory \\n\\nsymptoms', ' \\n\\nIn order to avoid infecting others, you should use a mask for as long as you are still coughing or \\nsneezing. You should only stop after a complete recovery (which means 24-48 hours after having \\nno symptoms without medication).  '], [' I am looking after someone who is ill with suspect or confirmed COVID-19. What \\n\\nprecautions should I take', ' \\n•  You should limit the movement around the house of the individual who is ill and \\n\\nminimize shared space. \\n\\n•  Ensure shared spaces like bathrooms, and the kitchen are well ventilated. One way to \\n\\ndo this is by keeping the windows open. Clean and disinfect the bathroom and toilet \\nsurface at least once a day using regular household soap or detergent for cleaning and \\nthen disinfecting with a regular household disinfectant containing 0.5% sodium \\nhypochlorite. \\n\\n•  Do not forget the importance of hand hygiene with alcohol-based hand-rub or soap and \\n\\nwater (if hands are visibly soiled). \\n\\n•  Whenever possible, household members should stay in a different room or maintain a \\n\\ndistance of at least 1 meter from the ill person. \\n\\n•  When helping care for the sick individual, wear a tightly fitted medical/surgical mask \\nthat covers your nose and mouth when in the same room as the affected individual. \\nMake sure you are careful not to touch your mask. If your mask gets wet or dirty, it \\nshould be replaced. When removing a mask, it is important to throw it away and \\nperform hand hygiene. Dispose of any material with respiratory secretions immediately \\nafter use. \\n\\n•  Both the ill individual and you, as the caregiver, should perform hand hygiene after \\n\\ncontact with respiratory secretions. '], [' How long is the incubation and transmission period for COVID-19', ' \\nThe “incubation period” means the time between catching the virus and beginning to have \\nsymptoms of the disease. Most estimates of the incubation period for COVID-19 range from 1-\\n14 days, most commonly around five days.  '], [' Can humans become infected with the COVID-19 from an animal source', ' \\nPossible animal sources of COVID-19 have not yet been confirmed.  To protect yourself, such as \\nwhen visiting live animal markets, avoid direct contact with animals and surfaces in contact with \\nanimals. Ensure good food safety practices at all times. Handle raw meat, milk or animal organs \\nwith care to avoid contamination of uncooked foods and avoid consuming raw or undercooked \\nanimal products. '], [' How long does the virus survive on surfaces', ' \\nIt is not certain how long the virus that causes COVID-19 survives on surfaces, but it seems to \\nbehave like other coronaviruses. Studies suggest that coronaviruses (including preliminary \\ninformation on the COVID-19 virus) may persist on surfaces for a few hours or up to several \\n\\n\\x0cdays. This may vary under different conditions (e.g. type of surface, temperature or humidity of \\nthe environment). \\n\\nIf you think a surface may be infected, clean it with simple disinfectant to kill the virus and \\nprotect yourself and others. Clean your hands with an alcohol-based hand rub or wash them \\nwith soap and water. Avoid touching your eyes, mouth, or nose. '], [' How can I get tested for COVID-19', ' \\nIf you are well, no testing is recommended. If you are experiencing symptoms of COVID-19, you \\nshould immediately isolate yourself from others. Call your local UN clinic/medical facility to \\ninform them of your condition and relevant travel/exposure history.  If you had been identified \\nas a close contact of a case by the local Ministry of Health or WHO, please also indicate this. \\nFrom here you will be advised if a medical assessment is necessary and how to get tested.  '], [' What alternatives do I have if there are no hand sanitizers available', ' Can I use other \\n\\nalcohol like ethyl or liquor', '  \\n\\nIf hand sanitizers are not available, hand washing with soap and water is the recommended, and \\neven better, alternative. Liquor is not effective against coronavirus. For an alcohol-based hand \\nrub to be effective, it must have an alcohol content of 60% to 95%. '], [' Can people who recover from COVID-19 be infected again', ' \\nWe know that for similar coronaviruses, infected people are unlikely to be re-infected shortly \\nafter they recover. However, because the immune response to COVID-19 is not yet understood, \\nit is not yet known whether similar immune protection will be observed for patients who have \\nrecovered from COVID-19. '], [' Is it safe to receive a package from an area where COVID-19 has been reported', ' \\nYes. The likelihood of an infected person contaminating commercial goods is low and the risk of \\ncatching the virus that causes COVID-19 from a package that has been moved, travelled, and \\nexposed to different conditions and temperature is also low.  '], [' Is there a connection between COVID -19 and environment temperature', ' \\nIt is not known yet if weather and temperature changes impact or has any connection with \\nCOVID-19. At this time, it is not clear or known if the spread of COVID-19 will decrease when the \\nweather becomes warmer. '], [' Can I catch the virus from being in an enclosed space (i.e. bus, subway) in close \\n\\nproximity to someone who doesn’t have respiratory symptoms', ' \\n\\nSince the virus is transmitted through respiratory droplets, the risk of catching it from somebody \\nwho is asymptomatic, even a contact of a confirmed COVID-19 case, is low. However, in light of \\nthe pandemic, everyone should maintain social distancing, which means keeping at least 1 \\nmeter away from others, avoiding mass gatherings and areas with large numbers of people, and \\npracticing frequent hand washing and hand sanitizing according to the recommendation. '], [' Should I start avoiding people of Asian descent and their businesses', ' \\nThe virus can affect anyone regardless of nationality, race and color.  The Organization will not \\ntolerate discrimination and encourages everyone to promote culturally appropriate and \\n\\n\\x0cempathetic community engagement and to detect and rapidly respond to negative public \\nperceptions and counter misinformation.  '], [' When should we identify ourselves as \"being sick\" and stay at home', '  \\nAlthough a fever is a sure sign that you are sick enough not to come to work, anyone \\nexperiencing respiratory symptoms like coughing and sneezing should stay at home. '], [' My colleague is sick but he/she insists that it is just the common cold and is reluctant \\nto work from home. What steps can we take to enforce “staying at home when not \\nwell” amongst staff', ' \\n\\nWhile it is very likely that your colleague is only suffering from the common cold or flu, all \\nprecautions should, nevertheless, be taken. Managers should encourage staff members with flu \\nsymptoms to telecommute for some time until the symptoms have abated. Alternatively, if the \\nstaff member is feeling unfit, he/she should take sick leave. This is a sensible approach at any \\ntime to prevent the spreading of flu or other seasonal viruses. Supervisors are also encouraged \\nto exercise flexibility in terms of using remote working arrangements if the staff member would \\nlike to limit their contact with others and work from home. '], [' What can we do if we don’t have any hand sanitizers in the office building', '  \\nYou should contact the Facilities Management Service of your local UN duty station, \\norganization or the building administration.   '], [' What is the process for evaluating the criticality of official travels and meetings', '  \\nUN Medical Directors recommend that UN managers and/or UN personnel undertake a risk \\nassessment to evaluate the criticality of the proposed travel balanced against the risks to the \\ntraveler for any travel to or meetings in affected areas experiencing ongoing transmission of \\nCOVID-19.  '], [' Does the UN have any specific guidelines for meeting / mass gathering organizers and \\n\\nparticipants during the COVID-19 outbreak', ' \\n\\n•  For meetings during the COVID-19 outbreak, the Division of Healthcare Management and \\nOccupational Safety and Health (DHMOSH) has prepared the following guidelines for \\nmeeting organizers and participants which are available in the UN HR portal. UN offices \\nshould use these global guidelines to develop local ones in accordance with host country \\nlegislation.  \\n\\n•  The WHO has also released an interim guidance with key planning recommendations for \\n\\nmass gatherings in the context of the current COVID-19 outbreak. '], [' I plan to travel to / have a meeting in countries or territories currently experiencing \\n\\nlocal transmission of COVID-19. Should I cancel this travel/meeting', ' \\n\\n•  While the WHO does not recommend and advises against the application of any travel \\n\\nrestrictions based on the information currently available on COVID-19,  as an occupational \\nhealth measure, it is recommended that for all official travel, UN managers and/or UN \\npersonnel undertake a risk assessment to evaluate the criticality of the proposed travel \\nbalanced against the risks to the traveler for any travel to or meetings in affected areas \\nexperiencing ongoing transmission of COVID-19. This includes risks posed by both medical \\nissues and evolving travel/border restrictions enacted by states parties. \\n\\n\\x0c•  Please be aware that local authorities may begin to implement travel restrictions and health \\nscreening measures for travelers entering or exiting the country. All UN personnel who are \\nplanning to travel should check with the destination countries’ embassy, consulate, or \\nMinistry of Health and keep up to date with local health advice before and during your \\ntravel. You should also comply with any screening measures put in place by local authorities. \\n\\n•  As the outbreak evolves, it can be difficult to predict the situation globally, and it would be \\nprudent to make contingency arrangements should the need arise. Feel free to consult us \\nfurther at dos-dhmosh-public-health@un.org as needed. '], [' What is the protocol for staff members returning to work after visiting COVID-19 \\n\\n• \\n\\naffected countries (i.e., those with ongoing transmission)', '  \\nIf you have just returned from an affected area, you should self-monitor for symptoms for \\n14 days after travel.  \\n\\n•  During that period, you should immediately seek medical attention should you develop any \\n\\nsigns and symptoms, such as shortness of breath or cough.  \\n\\n•  Remember to share your previous travel history with your health care provider and make \\n\\nevery effort to inform them by phone prior to visiting a medical facility and wear a medical \\nmask when you seek medical care.  \\n\\n•  You should only return to work when you are well and completely free of symptoms.  \\n•  HR personnel and managers are encouraged to exercise flexibility around remote working to \\n\\nsupport staff. '], [' I just returned from travel to a country/area experiencing local transmission of \\nCOVID-19. I am well and have no symptoms. Can I go back to the workplace', ' \\n•  For any UN personnel who are free of symptoms, and returning from country/area or \\n\\n• \\n\\nterritory experiencing local transmission of COVID-19, managers are encouraged to exercise \\nflexibility in terms of using remote working arrangements for staff in these situations who \\nwould like to limit their contact with others and work from home for 14 days post-travel. \\nThis is not mandatory but is strongly encouraged. \\nIndividuals returning from areas of outbreaks should be advised to review our health \\nadvisory on this Coronavirus Disease (COVID-19) page so that you have awareness about the \\ndisease. You should monitor yourself daily for signs of fever, respiratory symptoms (e.g., \\nbreathing difficulties, cough), and know where to seek medical attention if you are aware of \\nany symptoms within yourself. You should monitor yourself for at least 14 days after your \\ntravel. '], [' What about self-quarantining after returning from an area/country of high \\n\\n• \\n\\nprevalence', ' \\nIf you have just returned from an affected area, you should self-monitor for symptoms for \\n14 days after travel. During that period, you should immediately seek medical attention \\nshould you develop any signs and symptoms, such as shortness of breath or cough.  \\n\\n•  Self-quarantine for 14 days is recommended when you have been exposed to contact with \\n\\nlab-confirmed COVID-19. \\n\\n•  Since this is a rapidly evolving situation, many member states are imposing quarantine \\n\\nrecommendations for travelers, which varies by country. We suggest monitoring the travel \\n\\n\\x0cadvisories issued from WHO and DHMOSH for up to date information \\nhttps://www.who.int/emergencies/diseases/novel-coronavirus-2019/travel-advice  and \\nhttps://hr.un.org/page/travel-health-information '], [' Have medical insurance related questions', ' \\nPlease refer to Frequently Asked Questions for UN staff on Medical Insurance in connection with \\nthe Novel Coronavirus (COVID-19) outbreak: https://www.un.org/sites/un2.un.org/files/2020-\\n03-09_faq_medical_insurance_covid-19_ra.pdf '], [' What are the latest protocols and guidance for Medical Evacuation of staff members \\n\\nwith severe respiratory infections related to COVID-19', ' \\n•  For the latest information on normal Medevac procedure for staff, go to: \\n\\nhttps://hr.un.org/sites/hr.un.org/files/Coronavirus_MedevacGuidance_UN_RC_0.pdf \\n•  For information on special Medevac procedure organized by the WHO in cases where \\n\\nthere are no ICU beds available in your country, see: \\nhttps://hr.un.org/sites/hr.un.org/files/COVID-\\nMEDEVAC%20UN%20and%20PARTNERS.pdf']]\n"
     ]
    }
   ],
   "source": []
  },
  {
   "cell_type": "code",
   "execution_count": 73,
   "id": "aced33c0",
   "metadata": {},
   "outputs": [
    {
     "name": "stdout",
     "output_type": "stream",
     "text": [
      " \n",
      "People can catch COVID-19 from others who have the virus. The disease can spread from person \n",
      "to person through small droplets from the nose or mouth which are spread when a person with \n",
      "COVID-19 coughs or exhales. These droplets land on objects and surfaces around the person. \n",
      "Other people then catch COVID-19 by touching these objects or surfaces, then touching their \n",
      "eyes, nose or mouth. People can also catch COVID-19 if they breathe in droplets from a person \n",
      "with COVID-19 who coughs out or exhales droplets. This is why it is important to stay more than \n",
      "1 meter (3 feet) away from a person who is sick. \n"
     ]
    }
   ],
   "source": [
    "print(x[0][1])\n",
    "        "
   ]
  },
  {
   "cell_type": "code",
   "execution_count": 78,
   "id": "93a1e353",
   "metadata": {},
   "outputs": [],
   "source": [
    "ques=[]\n",
    "ans=[]\n",
    "for i in range(len(x)):\n",
    "    ques.append(x[i][0])\n",
    "    ans.append(x[i][1])"
   ]
  },
  {
   "cell_type": "code",
   "execution_count": 79,
   "id": "9c0213dd",
   "metadata": {},
   "outputs": [
    {
     "name": "stdout",
     "output_type": "stream",
     "text": [
      "[' \\nPeople can catch COVID-19 from others who have the virus. The disease can spread from person \\nto person through small droplets from the nose or mouth which are spread when a person with \\nCOVID-19 coughs or exhales. These droplets land on objects and surfaces around the person. \\nOther people then catch COVID-19 by touching these objects or surfaces, then touching their \\neyes, nose or mouth. People can also catch COVID-19 if they breathe in droplets from a person \\nwith COVID-19 who coughs out or exhales droplets. This is why it is important to stay more than \\n1 meter (3 feet) away from a person who is sick. ', \" \\nThe most common symptoms of COVID-19 are fever, tiredness, and dry cough. Some patients \\nmay have aches and pains, nasal congestion, runny nose, sore throat or diarrhea. These \\nsymptoms are usually mild and begin gradually. Some people become infected but don’t \\ndevelop any symptoms and don't feel unwell. Most people (about 80%) recover from the \\ndisease without needing special treatment. Around 1 out of every 6 people who gets COVID-19 \\nbecomes seriously ill and develops difficulty breathing. Older people, and those with underlying \\nmedical problems like high blood pressure, heart problems or diabetes, are more likely to \\ndevelop serious illness. People with fever, cough and difficulty breathing should seek medical \\nattention. \", '  \\nA COVID-19 infection has the same signs and symptoms as the common cold and you can only \\ndifferentiate them through laboratory testing to determine the virus type. If you have fever, cough \\nand difficulty breathing, you should seek medical attention and  immediately isolate yourself from \\nothers. Call your local UN clinic/medical facility to inform them of your condition and relevant \\ntravel/exposure  history.    If  you  had  been  identified  as  a  close  contact  of  a  case  by  the  local \\nMinistry of Health or WHO, please also indicate this. From here you will be advised if a medical \\nassessment is necessary and how to get tested.  ', ' \\nStudies to date suggest that the virus that causes COVID-19 is mainly transmitted through \\ncontact with respiratory droplets rather than through the air.  See previous answer on “How \\ndoes COVID-19 spread', ' \\nProtection measures for everyone \\n\\nStay aware of the latest information on the COVID-19 outbreak, available on the WHO website \\nand through your national and local public health authority. Many countries around the world \\nhave seen cases of COVID-19 and several have seen outbreaks. Authorities in China and some \\nother countries have succeeded in slowing or stopping their outbreaks. However, the situation is \\nunpredictable so check regularly for the latest news. \\n\\n\\x0cYou can reduce your chances of being infected or spreading COVID-19 by taking some simple \\nprecautions: \\n\\n•  Regularly and thoroughly clean your hands with an alcohol-based hand rub or wash them \\n\\nwith soap and water. Why', ' \\nAccording to the WHO, for individuals without respiratory symptoms, a medical mask is not \\nrequired, as no evidence is available on its usefulness to protect non-sick persons. \\nHowever, masks might be worn in some countries according to local cultural habits. If masks are \\nused, best practices should be followed on how to wear, remove, and dispose of them and on \\nhand hygiene action after removal. For more information, visit the WHO guidance on use of \\nmasks in the community. ', ' \\nThe risk depends on where you are - and more specifically, whether there is a COVID-19 \\noutbreak unfolding there. \\n\\nFor most people in most locations the risk of catching COVID-19 is still low. However, there are \\nnow places around the world (cities or areas) where the disease is spreading. For people living \\n\\n\\x0cin, or visiting, these areas the risk of catching COVID-19 is higher. Governments and health \\nauthorities are taking vigorous action every time a new case of COVID-19 is identified. Be sure to \\ncomply with any local restrictions on travel, movement or large gatherings. Cooperating with \\ndisease control efforts will reduce your risk of catching or spreading COVID-19. \\n\\nCOVID-19 outbreaks can be contained and transmission stopped, as has been shown in China \\nand some other countries. Unfortunately, new outbreaks can emerge rapidly. It’s important to \\nbe aware of the situation where you are or intend to go. WHO publishes daily updates on the \\nCOVID-19 situation worldwide. \\n\\nYou can see these at https://www.who.int/emergencies/diseases/novel-coronavirus-\\n2019/situation-reports/ ', ' \\n\\nWe do not have information from published scientific reports about the susceptibility of \\npregnant women to COVID-19. Pregnant women experience immunologic and physiologic \\nchanges, which might make them more susceptible to viral respiratory infections, including \\nCOVID-19. \\n\\nThe virus that causes COVID-19 is thought to spread mainly by close contact with an infected \\nperson through respiratory droplets. Whether a pregnant woman with COVID-19 can transmit \\nthe virus that causes COVID-19 to her fetus or neonate by other routes of vertical transmission \\n(before, during, or after delivery) is still unknown. ', ' \\nBased on available evidence, children do not appear to be at higher risk for COVID-19 than \\nadults. While some children and infants have been sick with COVID-19, adults make up most of \\nthe known cases to date. You can learn more about who is most at risk for health problems if \\nthey have COVID-19 infection on CDC’s current Risk Assessment page. ', ' \\nNo. The symptoms of COVID-19 are similar in children and adults. However, children with \\nconfirmed COVID-19 have generally presented with mild symptoms. Reported symptoms in \\nchildren include cold-like symptoms, such as fever, runny nose, and cough. Vomiting and \\ndiarrhea have also been reported. It’s not known yet whether some children may be at higher \\nrisk for severe illness, for example, children with underlying medical conditions and special \\nhealthcare needs. There is much more to be learned about how the disease impacts children. ', ' \\nIllness due to COVID-19 infection is generally mild, especially for children and young adults. \\nHowever, it can cause serious illness: about 1 in every 5 people who catch it need hospital care. \\nIt is therefore quite normal for people to worry about how the COVID-19 outbreak will affect \\nthem and their loved ones. \\n\\nWe can channel our concerns into actions to protect ourselves, our loved ones and our \\ncommunities. First and foremost, among these actions is regular and thorough hand-washing \\n\\n\\x0cand good respiratory hygiene. Secondly, keep informed and follow the advice of the local health \\nauthorities including any restrictions put in place on travel, movement and gatherings. ', ' \\nWhile we are still learning about how COVID-2019 affects people, older persons and persons \\nwith pre-existing medical conditions (such as high blood pressure, heart disease, lung disease, \\ncancer or diabetes) appear to develop serious illness more often than others. ', ' \\nWhile we are still learning about how COVID-2019 affects people, older persons and persons \\nwith pre-existing medical conditions (such as high blood pressure, heart disease, lung disease, \\ncancer or diabetes) appear to develop serious illness more often than others.  ', ' \\nWhile some western, traditional or home remedies may provide comfort and alleviate \\nsymptoms of COVID-19, there is no evidence that current medicine can prevent or cure the \\ndisease. WHO does not recommend self-medication with any medicines, including antibiotics, as \\na prevention or cure for COVID-19. However, there are several ongoing clinical trials that include \\nboth western and traditional medicines.  ', ' \\nNot yet. To date, there is no vaccine and no specific antiviral medicine to prevent or treat \\nCOVID-2019. However, those affected should receive care to relieve symptoms. People with \\nserious illness should be hospitalized. Most patients recover thanks to supportive care. \\n\\nPossible vaccines and some specific drug treatments are under investigation. They are being \\ntested through clinical trials. WHO is coordinating efforts to develop vaccines and medicines to \\nprevent and treat COVID-19. \\n\\nThe most effective ways to protect yourself and others against COVID-19 are to frequently clean \\nyour hands, cover your cough with the bend of elbow or tissue, and maintain a distance of at \\nleast 1 meter (3 feet) from people who are coughing or sneezing. (See Basic protective measures \\nagainst the new coronavirus). ', ' \\nOnly wear a mask if you are ill with COVID-19 symptoms (especially coughing) or looking after \\nsomeone who may have COVID-19. Disposable face mask can only be used once. If you are not \\nill or looking after someone who is ill then you are wasting a mask. There is a world-wide \\nshortage of masks, so WHO urges people to use masks wisely. \\n\\nWHO advises rational use of medical masks to avoid unnecessary wastage of precious resources \\nand mis-use of masks  (see Advice on the use of masks). \\n\\nThe most effective ways to protect yourself and others against COVID-19 are to frequently clean \\nyour hands, cover your cough with the bend of elbow or tissue and maintain a distance of at \\nleast 1 meter (3 feet) from people who are coughing or sneezing. See basic protective measures \\nagainst the new coronavirus for more information. ', ' \\n\\nIn order to avoid infecting others, you should use a mask for as long as you are still coughing or \\nsneezing. You should only stop after a complete recovery (which means 24-48 hours after having \\nno symptoms without medication).  ', ' \\n•  You should limit the movement around the house of the individual who is ill and \\n\\nminimize shared space. \\n\\n•  Ensure shared spaces like bathrooms, and the kitchen are well ventilated. One way to \\n\\ndo this is by keeping the windows open. Clean and disinfect the bathroom and toilet \\nsurface at least once a day using regular household soap or detergent for cleaning and \\nthen disinfecting with a regular household disinfectant containing 0.5% sodium \\nhypochlorite. \\n\\n•  Do not forget the importance of hand hygiene with alcohol-based hand-rub or soap and \\n\\nwater (if hands are visibly soiled). \\n\\n•  Whenever possible, household members should stay in a different room or maintain a \\n\\ndistance of at least 1 meter from the ill person. \\n\\n•  When helping care for the sick individual, wear a tightly fitted medical/surgical mask \\nthat covers your nose and mouth when in the same room as the affected individual. \\nMake sure you are careful not to touch your mask. If your mask gets wet or dirty, it \\nshould be replaced. When removing a mask, it is important to throw it away and \\nperform hand hygiene. Dispose of any material with respiratory secretions immediately \\nafter use. \\n\\n•  Both the ill individual and you, as the caregiver, should perform hand hygiene after \\n\\ncontact with respiratory secretions. ', ' \\nThe “incubation period” means the time between catching the virus and beginning to have \\nsymptoms of the disease. Most estimates of the incubation period for COVID-19 range from 1-\\n14 days, most commonly around five days.  ', ' \\nPossible animal sources of COVID-19 have not yet been confirmed.  To protect yourself, such as \\nwhen visiting live animal markets, avoid direct contact with animals and surfaces in contact with \\nanimals. Ensure good food safety practices at all times. Handle raw meat, milk or animal organs \\nwith care to avoid contamination of uncooked foods and avoid consuming raw or undercooked \\nanimal products. ', ' \\nIt is not certain how long the virus that causes COVID-19 survives on surfaces, but it seems to \\nbehave like other coronaviruses. Studies suggest that coronaviruses (including preliminary \\ninformation on the COVID-19 virus) may persist on surfaces for a few hours or up to several \\n\\n\\x0cdays. This may vary under different conditions (e.g. type of surface, temperature or humidity of \\nthe environment). \\n\\nIf you think a surface may be infected, clean it with simple disinfectant to kill the virus and \\nprotect yourself and others. Clean your hands with an alcohol-based hand rub or wash them \\nwith soap and water. Avoid touching your eyes, mouth, or nose. ', ' \\nIf you are well, no testing is recommended. If you are experiencing symptoms of COVID-19, you \\nshould immediately isolate yourself from others. Call your local UN clinic/medical facility to \\ninform them of your condition and relevant travel/exposure history.  If you had been identified \\nas a close contact of a case by the local Ministry of Health or WHO, please also indicate this. \\nFrom here you will be advised if a medical assessment is necessary and how to get tested.  ', ' Can I use other \\n\\nalcohol like ethyl or liquor', ' \\nWe know that for similar coronaviruses, infected people are unlikely to be re-infected shortly \\nafter they recover. However, because the immune response to COVID-19 is not yet understood, \\nit is not yet known whether similar immune protection will be observed for patients who have \\nrecovered from COVID-19. ', ' \\nYes. The likelihood of an infected person contaminating commercial goods is low and the risk of \\ncatching the virus that causes COVID-19 from a package that has been moved, travelled, and \\nexposed to different conditions and temperature is also low.  ', ' \\nIt is not known yet if weather and temperature changes impact or has any connection with \\nCOVID-19. At this time, it is not clear or known if the spread of COVID-19 will decrease when the \\nweather becomes warmer. ', ' \\n\\nSince the virus is transmitted through respiratory droplets, the risk of catching it from somebody \\nwho is asymptomatic, even a contact of a confirmed COVID-19 case, is low. However, in light of \\nthe pandemic, everyone should maintain social distancing, which means keeping at least 1 \\nmeter away from others, avoiding mass gatherings and areas with large numbers of people, and \\npracticing frequent hand washing and hand sanitizing according to the recommendation. ', ' \\nThe virus can affect anyone regardless of nationality, race and color.  The Organization will not \\ntolerate discrimination and encourages everyone to promote culturally appropriate and \\n\\n\\x0cempathetic community engagement and to detect and rapidly respond to negative public \\nperceptions and counter misinformation.  ', '  \\nAlthough a fever is a sure sign that you are sick enough not to come to work, anyone \\nexperiencing respiratory symptoms like coughing and sneezing should stay at home. ', ' \\n\\nWhile it is very likely that your colleague is only suffering from the common cold or flu, all \\nprecautions should, nevertheless, be taken. Managers should encourage staff members with flu \\nsymptoms to telecommute for some time until the symptoms have abated. Alternatively, if the \\nstaff member is feeling unfit, he/she should take sick leave. This is a sensible approach at any \\ntime to prevent the spreading of flu or other seasonal viruses. Supervisors are also encouraged \\nto exercise flexibility in terms of using remote working arrangements if the staff member would \\nlike to limit their contact with others and work from home. ', '  \\nYou should contact the Facilities Management Service of your local UN duty station, \\norganization or the building administration.   ', '  \\nUN Medical Directors recommend that UN managers and/or UN personnel undertake a risk \\nassessment to evaluate the criticality of the proposed travel balanced against the risks to the \\ntraveler for any travel to or meetings in affected areas experiencing ongoing transmission of \\nCOVID-19.  ', ' \\n\\n•  For meetings during the COVID-19 outbreak, the Division of Healthcare Management and \\nOccupational Safety and Health (DHMOSH) has prepared the following guidelines for \\nmeeting organizers and participants which are available in the UN HR portal. UN offices \\nshould use these global guidelines to develop local ones in accordance with host country \\nlegislation.  \\n\\n•  The WHO has also released an interim guidance with key planning recommendations for \\n\\nmass gatherings in the context of the current COVID-19 outbreak. ', ' \\n\\n•  While the WHO does not recommend and advises against the application of any travel \\n\\nrestrictions based on the information currently available on COVID-19,  as an occupational \\nhealth measure, it is recommended that for all official travel, UN managers and/or UN \\npersonnel undertake a risk assessment to evaluate the criticality of the proposed travel \\nbalanced against the risks to the traveler for any travel to or meetings in affected areas \\nexperiencing ongoing transmission of COVID-19. This includes risks posed by both medical \\nissues and evolving travel/border restrictions enacted by states parties. \\n\\n\\x0c•  Please be aware that local authorities may begin to implement travel restrictions and health \\nscreening measures for travelers entering or exiting the country. All UN personnel who are \\nplanning to travel should check with the destination countries’ embassy, consulate, or \\nMinistry of Health and keep up to date with local health advice before and during your \\ntravel. You should also comply with any screening measures put in place by local authorities. \\n\\n•  As the outbreak evolves, it can be difficult to predict the situation globally, and it would be \\nprudent to make contingency arrangements should the need arise. Feel free to consult us \\nfurther at dos-dhmosh-public-health@un.org as needed. ', '  \\nIf you have just returned from an affected area, you should self-monitor for symptoms for \\n14 days after travel.  \\n\\n•  During that period, you should immediately seek medical attention should you develop any \\n\\nsigns and symptoms, such as shortness of breath or cough.  \\n\\n•  Remember to share your previous travel history with your health care provider and make \\n\\nevery effort to inform them by phone prior to visiting a medical facility and wear a medical \\nmask when you seek medical care.  \\n\\n•  You should only return to work when you are well and completely free of symptoms.  \\n•  HR personnel and managers are encouraged to exercise flexibility around remote working to \\n\\nsupport staff. ', ' \\n•  For any UN personnel who are free of symptoms, and returning from country/area or \\n\\n• \\n\\nterritory experiencing local transmission of COVID-19, managers are encouraged to exercise \\nflexibility in terms of using remote working arrangements for staff in these situations who \\nwould like to limit their contact with others and work from home for 14 days post-travel. \\nThis is not mandatory but is strongly encouraged. \\nIndividuals returning from areas of outbreaks should be advised to review our health \\nadvisory on this Coronavirus Disease (COVID-19) page so that you have awareness about the \\ndisease. You should monitor yourself daily for signs of fever, respiratory symptoms (e.g., \\nbreathing difficulties, cough), and know where to seek medical attention if you are aware of \\nany symptoms within yourself. You should monitor yourself for at least 14 days after your \\ntravel. ', ' \\nIf you have just returned from an affected area, you should self-monitor for symptoms for \\n14 days after travel. During that period, you should immediately seek medical attention \\nshould you develop any signs and symptoms, such as shortness of breath or cough.  \\n\\n•  Self-quarantine for 14 days is recommended when you have been exposed to contact with \\n\\nlab-confirmed COVID-19. \\n\\n•  Since this is a rapidly evolving situation, many member states are imposing quarantine \\n\\nrecommendations for travelers, which varies by country. We suggest monitoring the travel \\n\\n\\x0cadvisories issued from WHO and DHMOSH for up to date information \\nhttps://www.who.int/emergencies/diseases/novel-coronavirus-2019/travel-advice  and \\nhttps://hr.un.org/page/travel-health-information ', ' \\nPlease refer to Frequently Asked Questions for UN staff on Medical Insurance in connection with \\nthe Novel Coronavirus (COVID-19) outbreak: https://www.un.org/sites/un2.un.org/files/2020-\\n03-09_faq_medical_insurance_covid-19_ra.pdf ', ' \\n•  For the latest information on normal Medevac procedure for staff, go to: \\n\\nhttps://hr.un.org/sites/hr.un.org/files/Coronavirus_MedevacGuidance_UN_RC_0.pdf \\n•  For information on special Medevac procedure organized by the WHO in cases where \\n\\nthere are no ICU beds available in your country, see: \\nhttps://hr.un.org/sites/hr.un.org/files/COVID-\\nMEDEVAC%20UN%20and%20PARTNERS.pdf']\n"
     ]
    }
   ],
   "source": [
    "print(ans)"
   ]
  },
  {
   "cell_type": "code",
   "execution_count": 80,
   "id": "e77876d4",
   "metadata": {},
   "outputs": [
    {
     "name": "stdout",
     "output_type": "stream",
     "text": [
      "39 39\n"
     ]
    }
   ],
   "source": [
    "print(len(ques),len(ans))"
   ]
  },
  {
   "cell_type": "code",
   "execution_count": 83,
   "id": "1ca8973e",
   "metadata": {},
   "outputs": [],
   "source": [
    "dict1={}\n",
    "\n",
    "for k, v in zip(ques,ans):\n",
    "    dict1[k]=v"
   ]
  },
  {
   "cell_type": "code",
   "execution_count": 84,
   "id": "f18ae379",
   "metadata": {},
   "outputs": [
    {
     "name": "stdout",
     "output_type": "stream",
     "text": [
      "{'  How does COVID-19 spread': ' \\nPeople can catch COVID-19 from others who have the virus. The disease can spread from person \\nto person through small droplets from the nose or mouth which are spread when a person with \\nCOVID-19 coughs or exhales. These droplets land on objects and surfaces around the person. \\nOther people then catch COVID-19 by touching these objects or surfaces, then touching their \\neyes, nose or mouth. People can also catch COVID-19 if they breathe in droplets from a person \\nwith COVID-19 who coughs out or exhales droplets. This is why it is important to stay more than \\n1 meter (3 feet) away from a person who is sick. ', '  What are the symptoms of COVID-19': \" \\nThe most common symptoms of COVID-19 are fever, tiredness, and dry cough. Some patients \\nmay have aches and pains, nasal congestion, runny nose, sore throat or diarrhea. These \\nsymptoms are usually mild and begin gradually. Some people become infected but don’t \\ndevelop any symptoms and don't feel unwell. Most people (about 80%) recover from the \\ndisease without needing special treatment. Around 1 out of every 6 people who gets COVID-19 \\nbecomes seriously ill and develops difficulty breathing. Older people, and those with underlying \\nmedical problems like high blood pressure, heart problems or diabetes, are more likely to \\ndevelop serious illness. People with fever, cough and difficulty breathing should seek medical \\nattention. \", '  How do I know if it is COVID-19 or just the common flu': '  \\nA COVID-19 infection has the same signs and symptoms as the common cold and you can only \\ndifferentiate them through laboratory testing to determine the virus type. If you have fever, cough \\nand difficulty breathing, you should seek medical attention and  immediately isolate yourself from \\nothers. Call your local UN clinic/medical facility to inform them of your condition and relevant \\ntravel/exposure  history.    If  you  had  been  identified  as  a  close  contact  of  a  case  by  the  local \\nMinistry of Health or WHO, please also indicate this. From here you will be advised if a medical \\nassessment is necessary and how to get tested.  ', '  Can the virus that causes COVID-19 be transmitted through the air': ' \\nStudies to date suggest that the virus that causes COVID-19 is mainly transmitted through \\ncontact with respiratory droplets rather than through the air.  See previous answer on “How \\ndoes COVID-19 spread', '  What can I do to protect myself and prevent the spread of disease': ' \\nProtection measures for everyone \\n\\nStay aware of the latest information on the COVID-19 outbreak, available on the WHO website \\nand through your national and local public health authority. Many countries around the world \\nhave seen cases of COVID-19 and several have seen outbreaks. Authorities in China and some \\nother countries have succeeded in slowing or stopping their outbreaks. However, the situation is \\nunpredictable so check regularly for the latest news. \\n\\n\\x0cYou can reduce your chances of being infected or spreading COVID-19 by taking some simple \\nprecautions: \\n\\n•  Regularly and thoroughly clean your hands with an alcohol-based hand rub or wash them \\n\\nwith soap and water. Why', '  I am well and asymptomatic. Should I use a mask': ' \\nAccording to the WHO, for individuals without respiratory symptoms, a medical mask is not \\nrequired, as no evidence is available on its usefulness to protect non-sick persons. \\nHowever, masks might be worn in some countries according to local cultural habits. If masks are \\nused, best practices should be followed on how to wear, remove, and dispose of them and on \\nhand hygiene action after removal. For more information, visit the WHO guidance on use of \\nmasks in the community. ', '  How likely am I to catch COVID-19': ' \\nThe risk depends on where you are - and more specifically, whether there is a COVID-19 \\noutbreak unfolding there. \\n\\nFor most people in most locations the risk of catching COVID-19 is still low. However, there are \\nnow places around the world (cities or areas) where the disease is spreading. For people living \\n\\n\\x0cin, or visiting, these areas the risk of catching COVID-19 is higher. Governments and health \\nauthorities are taking vigorous action every time a new case of COVID-19 is identified. Be sure to \\ncomply with any local restrictions on travel, movement or large gatherings. Cooperating with \\ndisease control efforts will reduce your risk of catching or spreading COVID-19. \\n\\nCOVID-19 outbreaks can be contained and transmission stopped, as has been shown in China \\nand some other countries. Unfortunately, new outbreaks can emerge rapidly. It’s important to \\nbe aware of the situation where you are or intend to go. WHO publishes daily updates on the \\nCOVID-19 situation worldwide. \\n\\nYou can see these at https://www.who.int/emergencies/diseases/novel-coronavirus-\\n2019/situation-reports/ ', '  Are pregnant women more susceptible to the COVID-19 virus and will it harm the \\n\\nfetus': ' \\n\\nWe do not have information from published scientific reports about the susceptibility of \\npregnant women to COVID-19. Pregnant women experience immunologic and physiologic \\nchanges, which might make them more susceptible to viral respiratory infections, including \\nCOVID-19. \\n\\nThe virus that causes COVID-19 is thought to spread mainly by close contact with an infected \\nperson through respiratory droplets. Whether a pregnant woman with COVID-19 can transmit \\nthe virus that causes COVID-19 to her fetus or neonate by other routes of vertical transmission \\n(before, during, or after delivery) is still unknown. ', '  What is the risk of my child becoming sick with COVID-19': ' \\nBased on available evidence, children do not appear to be at higher risk for COVID-19 than \\nadults. While some children and infants have been sick with COVID-19, adults make up most of \\nthe known cases to date. You can learn more about who is most at risk for health problems if \\nthey have COVID-19 infection on CDC’s current Risk Assessment page. ', ' Are the symptoms of COVID-19 different in children than in adults': ' \\nNo. The symptoms of COVID-19 are similar in children and adults. However, children with \\nconfirmed COVID-19 have generally presented with mild symptoms. Reported symptoms in \\nchildren include cold-like symptoms, such as fever, runny nose, and cough. Vomiting and \\ndiarrhea have also been reported. It’s not known yet whether some children may be at higher \\nrisk for severe illness, for example, children with underlying medical conditions and special \\nhealthcare needs. There is much more to be learned about how the disease impacts children. ', ' Should I worry about COVID-19': ' \\nIllness due to COVID-19 infection is generally mild, especially for children and young adults. \\nHowever, it can cause serious illness: about 1 in every 5 people who catch it need hospital care. \\nIt is therefore quite normal for people to worry about how the COVID-19 outbreak will affect \\nthem and their loved ones. \\n\\nWe can channel our concerns into actions to protect ourselves, our loved ones and our \\ncommunities. First and foremost, among these actions is regular and thorough hand-washing \\n\\n\\x0cand good respiratory hygiene. Secondly, keep informed and follow the advice of the local health \\nauthorities including any restrictions put in place on travel, movement and gatherings. ', ' Who is at risk of developing severe illness': ' \\nWhile we are still learning about how COVID-2019 affects people, older persons and persons \\nwith pre-existing medical conditions (such as high blood pressure, heart disease, lung disease, \\ncancer or diabetes) appear to develop serious illness more often than others. ', ' Are antibiotics effective in preventing or treating COVID-19': ' \\nWhile we are still learning about how COVID-2019 affects people, older persons and persons \\nwith pre-existing medical conditions (such as high blood pressure, heart disease, lung disease, \\ncancer or diabetes) appear to develop serious illness more often than others.  ', ' Are there any medicines or therapies that can prevent or cure COVID-19': ' \\nWhile some western, traditional or home remedies may provide comfort and alleviate \\nsymptoms of COVID-19, there is no evidence that current medicine can prevent or cure the \\ndisease. WHO does not recommend self-medication with any medicines, including antibiotics, as \\na prevention or cure for COVID-19. However, there are several ongoing clinical trials that include \\nboth western and traditional medicines.  ', ' Is there a vaccine, drug or treatment for COVID-19': ' \\nNot yet. To date, there is no vaccine and no specific antiviral medicine to prevent or treat \\nCOVID-2019. However, those affected should receive care to relieve symptoms. People with \\nserious illness should be hospitalized. Most patients recover thanks to supportive care. \\n\\nPossible vaccines and some specific drug treatments are under investigation. They are being \\ntested through clinical trials. WHO is coordinating efforts to develop vaccines and medicines to \\nprevent and treat COVID-19. \\n\\nThe most effective ways to protect yourself and others against COVID-19 are to frequently clean \\nyour hands, cover your cough with the bend of elbow or tissue, and maintain a distance of at \\nleast 1 meter (3 feet) from people who are coughing or sneezing. (See Basic protective measures \\nagainst the new coronavirus). ', ' Should I wear a mask to protect myself from catching the COVID-19 virus': ' \\nOnly wear a mask if you are ill with COVID-19 symptoms (especially coughing) or looking after \\nsomeone who may have COVID-19. Disposable face mask can only be used once. If you are not \\nill or looking after someone who is ill then you are wasting a mask. There is a world-wide \\nshortage of masks, so WHO urges people to use masks wisely. \\n\\nWHO advises rational use of medical masks to avoid unnecessary wastage of precious resources \\nand mis-use of masks  (see Advice on the use of masks). \\n\\nThe most effective ways to protect yourself and others against COVID-19 are to frequently clean \\nyour hands, cover your cough with the bend of elbow or tissue and maintain a distance of at \\nleast 1 meter (3 feet) from people who are coughing or sneezing. See basic protective measures \\nagainst the new coronavirus for more information. ', ' Until when should I wear a mask after recovering from an illness with respiratory \\n\\nsymptoms': ' \\n\\nIn order to avoid infecting others, you should use a mask for as long as you are still coughing or \\nsneezing. You should only stop after a complete recovery (which means 24-48 hours after having \\nno symptoms without medication).  ', ' I am looking after someone who is ill with suspect or confirmed COVID-19. What \\n\\nprecautions should I take': ' \\n•  You should limit the movement around the house of the individual who is ill and \\n\\nminimize shared space. \\n\\n•  Ensure shared spaces like bathrooms, and the kitchen are well ventilated. One way to \\n\\ndo this is by keeping the windows open. Clean and disinfect the bathroom and toilet \\nsurface at least once a day using regular household soap or detergent for cleaning and \\nthen disinfecting with a regular household disinfectant containing 0.5% sodium \\nhypochlorite. \\n\\n•  Do not forget the importance of hand hygiene with alcohol-based hand-rub or soap and \\n\\nwater (if hands are visibly soiled). \\n\\n•  Whenever possible, household members should stay in a different room or maintain a \\n\\ndistance of at least 1 meter from the ill person. \\n\\n•  When helping care for the sick individual, wear a tightly fitted medical/surgical mask \\nthat covers your nose and mouth when in the same room as the affected individual. \\nMake sure you are careful not to touch your mask. If your mask gets wet or dirty, it \\nshould be replaced. When removing a mask, it is important to throw it away and \\nperform hand hygiene. Dispose of any material with respiratory secretions immediately \\nafter use. \\n\\n•  Both the ill individual and you, as the caregiver, should perform hand hygiene after \\n\\ncontact with respiratory secretions. ', ' How long is the incubation and transmission period for COVID-19': ' \\nThe “incubation period” means the time between catching the virus and beginning to have \\nsymptoms of the disease. Most estimates of the incubation period for COVID-19 range from 1-\\n14 days, most commonly around five days.  ', ' Can humans become infected with the COVID-19 from an animal source': ' \\nPossible animal sources of COVID-19 have not yet been confirmed.  To protect yourself, such as \\nwhen visiting live animal markets, avoid direct contact with animals and surfaces in contact with \\nanimals. Ensure good food safety practices at all times. Handle raw meat, milk or animal organs \\nwith care to avoid contamination of uncooked foods and avoid consuming raw or undercooked \\nanimal products. ', ' How long does the virus survive on surfaces': ' \\nIt is not certain how long the virus that causes COVID-19 survives on surfaces, but it seems to \\nbehave like other coronaviruses. Studies suggest that coronaviruses (including preliminary \\ninformation on the COVID-19 virus) may persist on surfaces for a few hours or up to several \\n\\n\\x0cdays. This may vary under different conditions (e.g. type of surface, temperature or humidity of \\nthe environment). \\n\\nIf you think a surface may be infected, clean it with simple disinfectant to kill the virus and \\nprotect yourself and others. Clean your hands with an alcohol-based hand rub or wash them \\nwith soap and water. Avoid touching your eyes, mouth, or nose. ', ' How can I get tested for COVID-19': ' \\nIf you are well, no testing is recommended. If you are experiencing symptoms of COVID-19, you \\nshould immediately isolate yourself from others. Call your local UN clinic/medical facility to \\ninform them of your condition and relevant travel/exposure history.  If you had been identified \\nas a close contact of a case by the local Ministry of Health or WHO, please also indicate this. \\nFrom here you will be advised if a medical assessment is necessary and how to get tested.  ', ' What alternatives do I have if there are no hand sanitizers available': ' Can I use other \\n\\nalcohol like ethyl or liquor', ' Can people who recover from COVID-19 be infected again': ' \\nWe know that for similar coronaviruses, infected people are unlikely to be re-infected shortly \\nafter they recover. However, because the immune response to COVID-19 is not yet understood, \\nit is not yet known whether similar immune protection will be observed for patients who have \\nrecovered from COVID-19. ', ' Is it safe to receive a package from an area where COVID-19 has been reported': ' \\nYes. The likelihood of an infected person contaminating commercial goods is low and the risk of \\ncatching the virus that causes COVID-19 from a package that has been moved, travelled, and \\nexposed to different conditions and temperature is also low.  ', ' Is there a connection between COVID -19 and environment temperature': ' \\nIt is not known yet if weather and temperature changes impact or has any connection with \\nCOVID-19. At this time, it is not clear or known if the spread of COVID-19 will decrease when the \\nweather becomes warmer. ', ' Can I catch the virus from being in an enclosed space (i.e. bus, subway) in close \\n\\nproximity to someone who doesn’t have respiratory symptoms': ' \\n\\nSince the virus is transmitted through respiratory droplets, the risk of catching it from somebody \\nwho is asymptomatic, even a contact of a confirmed COVID-19 case, is low. However, in light of \\nthe pandemic, everyone should maintain social distancing, which means keeping at least 1 \\nmeter away from others, avoiding mass gatherings and areas with large numbers of people, and \\npracticing frequent hand washing and hand sanitizing according to the recommendation. ', ' Should I start avoiding people of Asian descent and their businesses': ' \\nThe virus can affect anyone regardless of nationality, race and color.  The Organization will not \\ntolerate discrimination and encourages everyone to promote culturally appropriate and \\n\\n\\x0cempathetic community engagement and to detect and rapidly respond to negative public \\nperceptions and counter misinformation.  ', ' When should we identify ourselves as \"being sick\" and stay at home': '  \\nAlthough a fever is a sure sign that you are sick enough not to come to work, anyone \\nexperiencing respiratory symptoms like coughing and sneezing should stay at home. ', ' My colleague is sick but he/she insists that it is just the common cold and is reluctant \\nto work from home. What steps can we take to enforce “staying at home when not \\nwell” amongst staff': ' \\n\\nWhile it is very likely that your colleague is only suffering from the common cold or flu, all \\nprecautions should, nevertheless, be taken. Managers should encourage staff members with flu \\nsymptoms to telecommute for some time until the symptoms have abated. Alternatively, if the \\nstaff member is feeling unfit, he/she should take sick leave. This is a sensible approach at any \\ntime to prevent the spreading of flu or other seasonal viruses. Supervisors are also encouraged \\nto exercise flexibility in terms of using remote working arrangements if the staff member would \\nlike to limit their contact with others and work from home. ', ' What can we do if we don’t have any hand sanitizers in the office building': '  \\nYou should contact the Facilities Management Service of your local UN duty station, \\norganization or the building administration.   ', ' What is the process for evaluating the criticality of official travels and meetings': '  \\nUN Medical Directors recommend that UN managers and/or UN personnel undertake a risk \\nassessment to evaluate the criticality of the proposed travel balanced against the risks to the \\ntraveler for any travel to or meetings in affected areas experiencing ongoing transmission of \\nCOVID-19.  ', ' Does the UN have any specific guidelines for meeting / mass gathering organizers and \\n\\nparticipants during the COVID-19 outbreak': ' \\n\\n•  For meetings during the COVID-19 outbreak, the Division of Healthcare Management and \\nOccupational Safety and Health (DHMOSH) has prepared the following guidelines for \\nmeeting organizers and participants which are available in the UN HR portal. UN offices \\nshould use these global guidelines to develop local ones in accordance with host country \\nlegislation.  \\n\\n•  The WHO has also released an interim guidance with key planning recommendations for \\n\\nmass gatherings in the context of the current COVID-19 outbreak. ', ' I plan to travel to / have a meeting in countries or territories currently experiencing \\n\\nlocal transmission of COVID-19. Should I cancel this travel/meeting': ' \\n\\n•  While the WHO does not recommend and advises against the application of any travel \\n\\nrestrictions based on the information currently available on COVID-19,  as an occupational \\nhealth measure, it is recommended that for all official travel, UN managers and/or UN \\npersonnel undertake a risk assessment to evaluate the criticality of the proposed travel \\nbalanced against the risks to the traveler for any travel to or meetings in affected areas \\nexperiencing ongoing transmission of COVID-19. This includes risks posed by both medical \\nissues and evolving travel/border restrictions enacted by states parties. \\n\\n\\x0c•  Please be aware that local authorities may begin to implement travel restrictions and health \\nscreening measures for travelers entering or exiting the country. All UN personnel who are \\nplanning to travel should check with the destination countries’ embassy, consulate, or \\nMinistry of Health and keep up to date with local health advice before and during your \\ntravel. You should also comply with any screening measures put in place by local authorities. \\n\\n•  As the outbreak evolves, it can be difficult to predict the situation globally, and it would be \\nprudent to make contingency arrangements should the need arise. Feel free to consult us \\nfurther at dos-dhmosh-public-health@un.org as needed. ', ' What is the protocol for staff members returning to work after visiting COVID-19 \\n\\n• \\n\\naffected countries (i.e., those with ongoing transmission)': '  \\nIf you have just returned from an affected area, you should self-monitor for symptoms for \\n14 days after travel.  \\n\\n•  During that period, you should immediately seek medical attention should you develop any \\n\\nsigns and symptoms, such as shortness of breath or cough.  \\n\\n•  Remember to share your previous travel history with your health care provider and make \\n\\nevery effort to inform them by phone prior to visiting a medical facility and wear a medical \\nmask when you seek medical care.  \\n\\n•  You should only return to work when you are well and completely free of symptoms.  \\n•  HR personnel and managers are encouraged to exercise flexibility around remote working to \\n\\nsupport staff. ', ' I just returned from travel to a country/area experiencing local transmission of \\nCOVID-19. I am well and have no symptoms. Can I go back to the workplace': ' \\n•  For any UN personnel who are free of symptoms, and returning from country/area or \\n\\n• \\n\\nterritory experiencing local transmission of COVID-19, managers are encouraged to exercise \\nflexibility in terms of using remote working arrangements for staff in these situations who \\nwould like to limit their contact with others and work from home for 14 days post-travel. \\nThis is not mandatory but is strongly encouraged. \\nIndividuals returning from areas of outbreaks should be advised to review our health \\nadvisory on this Coronavirus Disease (COVID-19) page so that you have awareness about the \\ndisease. You should monitor yourself daily for signs of fever, respiratory symptoms (e.g., \\nbreathing difficulties, cough), and know where to seek medical attention if you are aware of \\nany symptoms within yourself. You should monitor yourself for at least 14 days after your \\ntravel. ', ' What about self-quarantining after returning from an area/country of high \\n\\n• \\n\\nprevalence': ' \\nIf you have just returned from an affected area, you should self-monitor for symptoms for \\n14 days after travel. During that period, you should immediately seek medical attention \\nshould you develop any signs and symptoms, such as shortness of breath or cough.  \\n\\n•  Self-quarantine for 14 days is recommended when you have been exposed to contact with \\n\\nlab-confirmed COVID-19. \\n\\n•  Since this is a rapidly evolving situation, many member states are imposing quarantine \\n\\nrecommendations for travelers, which varies by country. We suggest monitoring the travel \\n\\n\\x0cadvisories issued from WHO and DHMOSH for up to date information \\nhttps://www.who.int/emergencies/diseases/novel-coronavirus-2019/travel-advice  and \\nhttps://hr.un.org/page/travel-health-information ', ' Have medical insurance related questions': ' \\nPlease refer to Frequently Asked Questions for UN staff on Medical Insurance in connection with \\nthe Novel Coronavirus (COVID-19) outbreak: https://www.un.org/sites/un2.un.org/files/2020-\\n03-09_faq_medical_insurance_covid-19_ra.pdf ', ' What are the latest protocols and guidance for Medical Evacuation of staff members \\n\\nwith severe respiratory infections related to COVID-19': ' \\n•  For the latest information on normal Medevac procedure for staff, go to: \\n\\nhttps://hr.un.org/sites/hr.un.org/files/Coronavirus_MedevacGuidance_UN_RC_0.pdf \\n•  For information on special Medevac procedure organized by the WHO in cases where \\n\\nthere are no ICU beds available in your country, see: \\nhttps://hr.un.org/sites/hr.un.org/files/COVID-\\nMEDEVAC%20UN%20and%20PARTNERS.pdf'}\n"
     ]
    }
   ],
   "source": [
    "print(dict1)"
   ]
  },
  {
   "cell_type": "code",
   "execution_count": 87,
   "id": "676f9f51",
   "metadata": {},
   "outputs": [
    {
     "name": "stdout",
     "output_type": "stream",
     "text": [
      " \n",
      "Studies to date suggest that the virus that causes COVID-19 is mainly transmitted through \n",
      "contact with respiratory droplets rather than through the air.  See previous answer on “How \n",
      "does COVID-19 spread\n"
     ]
    }
   ],
   "source": [
    "print(dict1.get(\"  Can the virus that causes COVID-19 be transmitted through the air\"))"
   ]
  },
  {
   "cell_type": "code",
   "execution_count": null,
   "id": "1c4e21b0",
   "metadata": {},
   "outputs": [],
   "source": []
  }
 ],
 "metadata": {
  "kernelspec": {
   "display_name": "Python 3",
   "language": "python",
   "name": "python3"
  },
  "language_info": {
   "codemirror_mode": {
    "name": "ipython",
    "version": 3
   },
   "file_extension": ".py",
   "mimetype": "text/x-python",
   "name": "python",
   "nbconvert_exporter": "python",
   "pygments_lexer": "ipython3",
   "version": "3.8.3"
  }
 },
 "nbformat": 4,
 "nbformat_minor": 5
}
