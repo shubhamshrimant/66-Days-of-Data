{
 "cells": [
  {
   "cell_type": "code",
   "execution_count": 193,
   "id": "0567dd0c",
   "metadata": {},
   "outputs": [],
   "source": [
    "import numpy as np\n",
    "import pandas as pd\n",
    "import matplotlib.pyplot as plt\n",
    "import seaborn as sns"
   ]
  },
  {
   "cell_type": "code",
   "execution_count": 194,
   "id": "fd239a00",
   "metadata": {},
   "outputs": [],
   "source": [
    "data=pd.read_csv(\"insurance.csv\")"
   ]
  },
  {
   "cell_type": "code",
   "execution_count": 195,
   "id": "828f2e6b",
   "metadata": {},
   "outputs": [
    {
     "data": {
      "text/plain": [
       "<bound method DataFrame.info of       age     sex     bmi  children smoker     region      charges\n",
       "0      19  female  27.900         0    yes  southwest  16884.92400\n",
       "1      18    male  33.770         1     no  southeast   1725.55230\n",
       "2      28    male  33.000         3     no  southeast   4449.46200\n",
       "3      33    male  22.705         0     no  northwest  21984.47061\n",
       "4      32    male  28.880         0     no  northwest   3866.85520\n",
       "...   ...     ...     ...       ...    ...        ...          ...\n",
       "1333   50    male  30.970         3     no  northwest  10600.54830\n",
       "1334   18  female  31.920         0     no  northeast   2205.98080\n",
       "1335   18  female  36.850         0     no  southeast   1629.83350\n",
       "1336   21  female  25.800         0     no  southwest   2007.94500\n",
       "1337   61  female  29.070         0    yes  northwest  29141.36030\n",
       "\n",
       "[1338 rows x 7 columns]>"
      ]
     },
     "execution_count": 195,
     "metadata": {},
     "output_type": "execute_result"
    }
   ],
   "source": [
    "data.info"
   ]
  },
  {
   "cell_type": "code",
   "execution_count": 196,
   "id": "a2fad46d",
   "metadata": {},
   "outputs": [
    {
     "data": {
      "text/plain": [
       "(1338, 7)"
      ]
     },
     "execution_count": 196,
     "metadata": {},
     "output_type": "execute_result"
    }
   ],
   "source": [
    "data.shape"
   ]
  },
  {
   "cell_type": "code",
   "execution_count": 197,
   "id": "153ef3a3",
   "metadata": {},
   "outputs": [
    {
     "data": {
      "text/plain": [
       "age         0\n",
       "sex         0\n",
       "bmi         0\n",
       "children    0\n",
       "smoker      0\n",
       "region      0\n",
       "charges     0\n",
       "dtype: int64"
      ]
     },
     "execution_count": 197,
     "metadata": {},
     "output_type": "execute_result"
    }
   ],
   "source": [
    "data.isna().sum()"
   ]
  },
  {
   "cell_type": "code",
   "execution_count": 198,
   "id": "ecfcf115",
   "metadata": {},
   "outputs": [
    {
     "data": {
      "text/plain": [
       "age           47\n",
       "sex            2\n",
       "bmi          548\n",
       "children       6\n",
       "smoker         2\n",
       "region         4\n",
       "charges     1337\n",
       "dtype: int64"
      ]
     },
     "execution_count": 198,
     "metadata": {},
     "output_type": "execute_result"
    }
   ],
   "source": [
    "data.nunique()"
   ]
  },
  {
   "cell_type": "code",
   "execution_count": 199,
   "id": "ec0e8d0b",
   "metadata": {},
   "outputs": [
    {
     "data": {
      "text/plain": [
       "<AxesSubplot:>"
      ]
     },
     "execution_count": 199,
     "metadata": {},
     "output_type": "execute_result"
    },
    {
     "data": {
      "image/png": "[encoded data removed]",
      "text/plain": [
       "<Figure size 432x288 with 1 Axes>"
      ]
     },
     "metadata": {
      "needs_background": "light"
     },
     "output_type": "display_data"
    }
   ],
   "source": [
    "data.sex.value_counts().plot(kind='bar')\n"
   ]
  },
  {
   "cell_type": "code",
   "execution_count": 200,
   "id": "1c29ad3e",
   "metadata": {},
   "outputs": [
    {
     "data": {
      "text/html": [
       "<div>\n",
       "<style scoped>\n",
       "    .dataframe tbody tr th:only-of-type {\n",
       "        vertical-align: middle;\n",
       "    }\n",
       "\n",
       "    .dataframe tbody tr th {\n",
       "        vertical-align: top;\n",
       "    }\n",
       "\n",
       "    .dataframe thead th {\n",
       "        text-align: right;\n",
       "    }\n",
       "</style>\n",
       "<table border=\"1\" class=\"dataframe\">\n",
       "  <thead>\n",
       "    <tr style=\"text-align: right;\">\n",
       "      <th></th>\n",
       "      <th>age</th>\n",
       "      <th>sex</th>\n",
       "      <th>bmi</th>\n",
       "      <th>children</th>\n",
       "      <th>smoker</th>\n",
       "      <th>region</th>\n",
       "      <th>charges</th>\n",
       "    </tr>\n",
       "  </thead>\n",
       "  <tbody>\n",
       "    <tr>\n",
       "      <th>0</th>\n",
       "      <td>19</td>\n",
       "      <td>female</td>\n",
       "      <td>27.900</td>\n",
       "      <td>0</td>\n",
       "      <td>yes</td>\n",
       "      <td>southwest</td>\n",
       "      <td>16884.92400</td>\n",
       "    </tr>\n",
       "    <tr>\n",
       "      <th>1</th>\n",
       "      <td>18</td>\n",
       "      <td>male</td>\n",
       "      <td>33.770</td>\n",
       "      <td>1</td>\n",
       "      <td>no</td>\n",
       "      <td>southeast</td>\n",
       "      <td>1725.55230</td>\n",
       "    </tr>\n",
       "    <tr>\n",
       "      <th>2</th>\n",
       "      <td>28</td>\n",
       "      <td>male</td>\n",
       "      <td>33.000</td>\n",
       "      <td>3</td>\n",
       "      <td>no</td>\n",
       "      <td>southeast</td>\n",
       "      <td>4449.46200</td>\n",
       "    </tr>\n",
       "    <tr>\n",
       "      <th>3</th>\n",
       "      <td>33</td>\n",
       "      <td>male</td>\n",
       "      <td>22.705</td>\n",
       "      <td>0</td>\n",
       "      <td>no</td>\n",
       "      <td>northwest</td>\n",
       "      <td>21984.47061</td>\n",
       "    </tr>\n",
       "    <tr>\n",
       "      <th>4</th>\n",
       "      <td>32</td>\n",
       "      <td>male</td>\n",
       "      <td>28.880</td>\n",
       "      <td>0</td>\n",
       "      <td>no</td>\n",
       "      <td>northwest</td>\n",
       "      <td>3866.85520</td>\n",
       "    </tr>\n",
       "  </tbody>\n",
       "</table>\n",
       "</div>"
      ],
      "text/plain": [
       "   age     sex     bmi  children smoker     region      charges\n",
       "0   19  female  27.900         0    yes  southwest  16884.92400\n",
       "1   18    male  33.770         1     no  southeast   1725.55230\n",
       "2   28    male  33.000         3     no  southeast   4449.46200\n",
       "3   33    male  22.705         0     no  northwest  21984.47061\n",
       "4   32    male  28.880         0     no  northwest   3866.85520"
      ]
     },
     "execution_count": 200,
     "metadata": {},
     "output_type": "execute_result"
    }
   ],
   "source": [
    "data.head()"
   ]
  },
  {
   "cell_type": "code",
   "execution_count": 201,
   "id": "b1ae00af",
   "metadata": {},
   "outputs": [
    {
     "data": {
      "text/html": [
       "<div>\n",
       "<style scoped>\n",
       "    .dataframe tbody tr th:only-of-type {\n",
       "        vertical-align: middle;\n",
       "    }\n",
       "\n",
       "    .dataframe tbody tr th {\n",
       "        vertical-align: top;\n",
       "    }\n",
       "\n",
       "    .dataframe thead th {\n",
       "        text-align: right;\n",
       "    }\n",
       "</style>\n",
       "<table border=\"1\" class=\"dataframe\">\n",
       "  <thead>\n",
       "    <tr style=\"text-align: right;\">\n",
       "      <th></th>\n",
       "      <th>age</th>\n",
       "      <th>sex</th>\n",
       "      <th>bmi</th>\n",
       "      <th>children</th>\n",
       "      <th>smoker</th>\n",
       "      <th>region</th>\n",
       "      <th>charges</th>\n",
       "    </tr>\n",
       "  </thead>\n",
       "  <tbody>\n",
       "    <tr>\n",
       "      <th>1333</th>\n",
       "      <td>50</td>\n",
       "      <td>male</td>\n",
       "      <td>30.97</td>\n",
       "      <td>3</td>\n",
       "      <td>no</td>\n",
       "      <td>northwest</td>\n",
       "      <td>10600.5483</td>\n",
       "    </tr>\n",
       "    <tr>\n",
       "      <th>1334</th>\n",
       "      <td>18</td>\n",
       "      <td>female</td>\n",
       "      <td>31.92</td>\n",
       "      <td>0</td>\n",
       "      <td>no</td>\n",
       "      <td>northeast</td>\n",
       "      <td>2205.9808</td>\n",
       "    </tr>\n",
       "    <tr>\n",
       "      <th>1335</th>\n",
       "      <td>18</td>\n",
       "      <td>female</td>\n",
       "      <td>36.85</td>\n",
       "      <td>0</td>\n",
       "      <td>no</td>\n",
       "      <td>southeast</td>\n",
       "      <td>1629.8335</td>\n",
       "    </tr>\n",
       "    <tr>\n",
       "      <th>1336</th>\n",
       "      <td>21</td>\n",
       "      <td>female</td>\n",
       "      <td>25.80</td>\n",
       "      <td>0</td>\n",
       "      <td>no</td>\n",
       "      <td>southwest</td>\n",
       "      <td>2007.9450</td>\n",
       "    </tr>\n",
       "    <tr>\n",
       "      <th>1337</th>\n",
       "      <td>61</td>\n",
       "      <td>female</td>\n",
       "      <td>29.07</td>\n",
       "      <td>0</td>\n",
       "      <td>yes</td>\n",
       "      <td>northwest</td>\n",
       "      <td>29141.3603</td>\n",
       "    </tr>\n",
       "  </tbody>\n",
       "</table>\n",
       "</div>"
      ],
      "text/plain": [
       "      age     sex    bmi  children smoker     region     charges\n",
       "1333   50    male  30.97         3     no  northwest  10600.5483\n",
       "1334   18  female  31.92         0     no  northeast   2205.9808\n",
       "1335   18  female  36.85         0     no  southeast   1629.8335\n",
       "1336   21  female  25.80         0     no  southwest   2007.9450\n",
       "1337   61  female  29.07         0    yes  northwest  29141.3603"
      ]
     },
     "execution_count": 201,
     "metadata": {},
     "output_type": "execute_result"
    }
   ],
   "source": [
    "data.tail()"
   ]
  },
  {
   "cell_type": "code",
   "execution_count": 202,
   "id": "47332bc5",
   "metadata": {},
   "outputs": [
    {
     "data": {
      "text/plain": [
       "no     1064\n",
       "yes     274\n",
       "Name: smoker, dtype: int64"
      ]
     },
     "execution_count": 202,
     "metadata": {},
     "output_type": "execute_result"
    }
   ],
   "source": [
    "data.smoker.value_counts()"
   ]
  },
  {
   "cell_type": "code",
   "execution_count": 203,
   "id": "7993ac75",
   "metadata": {},
   "outputs": [],
   "source": [
    "#del data['smoker']"
   ]
  },
  {
   "cell_type": "code",
   "execution_count": 204,
   "id": "c800e594",
   "metadata": {},
   "outputs": [
    {
     "data": {
      "text/plain": [
       "male      676\n",
       "female    662\n",
       "Name: sex, dtype: int64"
      ]
     },
     "execution_count": 204,
     "metadata": {},
     "output_type": "execute_result"
    }
   ],
   "source": [
    "data.sex.value_counts()"
   ]
  },
  {
   "cell_type": "code",
   "execution_count": 205,
   "id": "0556f5e8",
   "metadata": {},
   "outputs": [
    {
     "data": {
      "text/plain": [
       "southeast    364\n",
       "southwest    325\n",
       "northwest    325\n",
       "northeast    324\n",
       "Name: region, dtype: int64"
      ]
     },
     "execution_count": 205,
     "metadata": {},
     "output_type": "execute_result"
    }
   ],
   "source": [
    "data.region.value_counts()"
   ]
  },
  {
   "cell_type": "code",
   "execution_count": 206,
   "id": "1ca179d1",
   "metadata": {},
   "outputs": [
    {
     "name": "stderr",
     "output_type": "stream",
     "text": [
      "C:\\Users\\shubh\\anaconda3\\lib\\site-packages\\seaborn\\_decorators.py:36: FutureWarning: Pass the following variables as keyword args: x, y. From version 0.12, the only valid positional argument will be `data`, and passing other arguments without an explicit keyword will result in an error or misinterpretation.\n",
      "  warnings.warn(\n"
     ]
    },
    {
     "data": {
      "text/plain": [
       "<AxesSubplot:xlabel='sex', ylabel='charges'>"
      ]
     },
     "execution_count": 206,
     "metadata": {},
     "output_type": "execute_result"
    },
    {
     "data": {
      "image/png": "[encoded data removed]",
      "text/plain": [
       "<Figure size 432x288 with 1 Axes>"
      ]
     },
     "metadata": {
      "needs_background": "light"
     },
     "output_type": "display_data"
    }
   ],
   "source": [
    "sns.boxplot(data['sex'],data['charges'])\n"
   ]
  },
  {
   "cell_type": "code",
   "execution_count": 207,
   "id": "1cc68342",
   "metadata": {},
   "outputs": [
    {
     "name": "stderr",
     "output_type": "stream",
     "text": [
      "C:\\Users\\shubh\\anaconda3\\lib\\site-packages\\seaborn\\_decorators.py:36: FutureWarning: Pass the following variables as keyword args: x, y. From version 0.12, the only valid positional argument will be `data`, and passing other arguments without an explicit keyword will result in an error or misinterpretation.\n",
      "  warnings.warn(\n"
     ]
    },
    {
     "data": {
      "text/plain": [
       "<AxesSubplot:xlabel='age', ylabel='charges'>"
      ]
     },
     "execution_count": 207,
     "metadata": {},
     "output_type": "execute_result"
    },
    {
     "data": {
      "image/png": "[encoded data removed]",
      "text/plain": [
       "<Figure size 432x288 with 1 Axes>"
      ]
     },
     "metadata": {
      "needs_background": "light"
     },
     "output_type": "display_data"
    }
   ],
   "source": [
    "sns.boxplot(data['age'],data['charges'])\n"
   ]
  },
  {
   "cell_type": "code",
   "execution_count": 208,
   "id": "3e18f849",
   "metadata": {},
   "outputs": [
    {
     "name": "stderr",
     "output_type": "stream",
     "text": [
      "C:\\Users\\shubh\\anaconda3\\lib\\site-packages\\seaborn\\_decorators.py:36: FutureWarning: Pass the following variables as keyword args: x, y. From version 0.12, the only valid positional argument will be `data`, and passing other arguments without an explicit keyword will result in an error or misinterpretation.\n",
      "  warnings.warn(\n"
     ]
    },
    {
     "data": {
      "text/plain": [
       "<AxesSubplot:xlabel='children', ylabel='charges'>"
      ]
     },
     "execution_count": 208,
     "metadata": {},
     "output_type": "execute_result"
    },
    {
     "data": {
      "image/png": "[encoded data removed]",
      "text/plain": [
       "<Figure size 432x288 with 1 Axes>"
      ]
     },
     "metadata": {
      "needs_background": "light"
     },
     "output_type": "display_data"
    }
   ],
   "source": [
    "sns.boxplot(data['children'],data['charges'])\n"
   ]
  },
  {
   "cell_type": "code",
   "execution_count": 209,
   "id": "6ba2c757",
   "metadata": {},
   "outputs": [
    {
     "name": "stderr",
     "output_type": "stream",
     "text": [
      "C:\\Users\\shubh\\anaconda3\\lib\\site-packages\\seaborn\\_decorators.py:36: FutureWarning: Pass the following variables as keyword args: x, y. From version 0.12, the only valid positional argument will be `data`, and passing other arguments without an explicit keyword will result in an error or misinterpretation.\n",
      "  warnings.warn(\n"
     ]
    },
    {
     "data": {
      "text/plain": [
       "<AxesSubplot:xlabel='region', ylabel='charges'>"
      ]
     },
     "execution_count": 209,
     "metadata": {},
     "output_type": "execute_result"
    },
    {
     "data": {
      "image/png": "[encoded data removed]",
      "text/plain": [
       "<Figure size 432x288 with 1 Axes>"
      ]
     },
     "metadata": {
      "needs_background": "light"
     },
     "output_type": "display_data"
    }
   ],
   "source": [
    "sns.boxplot(data['region'],data['charges'])\n"
   ]
  },
  {
   "cell_type": "code",
   "execution_count": 210,
   "id": "b44edc01",
   "metadata": {},
   "outputs": [
    {
     "data": {
      "text/plain": [
       "<AxesSubplot:>"
      ]
     },
     "execution_count": 210,
     "metadata": {},
     "output_type": "execute_result"
    },
    {
     "data": {
      "image/png": "[encoded data removed]",
      "text/plain": [
       "<Figure size 432x288 with 1 Axes>"
      ]
     },
     "metadata": {
      "needs_background": "light"
     },
     "output_type": "display_data"
    }
   ],
   "source": [
    "sns.boxplot(data=data.iloc[:,0])\n"
   ]
  },
  {
   "cell_type": "code",
   "execution_count": 211,
   "id": "bfe26362",
   "metadata": {},
   "outputs": [
    {
     "data": {
      "text/plain": [
       "<AxesSubplot:>"
      ]
     },
     "execution_count": 211,
     "metadata": {},
     "output_type": "execute_result"
    },
    {
     "data": {
      "image/png": "[encoded data removed]",
      "text/plain": [
       "<Figure size 432x288 with 1 Axes>"
      ]
     },
     "metadata": {
      "needs_background": "light"
     },
     "output_type": "display_data"
    }
   ],
   "source": [
    "sns.boxplot(data=data.iloc[:,2])\n"
   ]
  },
  {
   "cell_type": "code",
   "execution_count": 212,
   "id": "a3fbd012",
   "metadata": {},
   "outputs": [
    {
     "name": "stderr",
     "output_type": "stream",
     "text": [
      "C:\\Users\\shubh\\anaconda3\\lib\\site-packages\\seaborn\\_decorators.py:36: FutureWarning: Pass the following variable as a keyword arg: x. From version 0.12, the only valid positional argument will be `data`, and passing other arguments without an explicit keyword will result in an error or misinterpretation.\n",
      "  warnings.warn(\n"
     ]
    },
    {
     "data": {
      "text/plain": [
       "<AxesSubplot:xlabel='charges'>"
      ]
     },
     "execution_count": 212,
     "metadata": {},
     "output_type": "execute_result"
    },
    {
     "data": {
      "image/png": "[encoded data removed]",
      "text/plain": [
       "<Figure size 432x288 with 1 Axes>"
      ]
     },
     "metadata": {
      "needs_background": "light"
     },
     "output_type": "display_data"
    }
   ],
   "source": [
    "sns.boxplot(data['charges'])"
   ]
  },
  {
   "cell_type": "code",
   "execution_count": 213,
   "id": "de5b2346",
   "metadata": {},
   "outputs": [
    {
     "data": {
      "text/plain": [
       "53.13"
      ]
     },
     "execution_count": 213,
     "metadata": {},
     "output_type": "execute_result"
    }
   ],
   "source": [
    "data.bmi.max()\n"
   ]
  },
  {
   "cell_type": "code",
   "execution_count": 214,
   "id": "3a71cd6e",
   "metadata": {},
   "outputs": [
    {
     "data": {
      "text/plain": [
       "15.96"
      ]
     },
     "execution_count": 214,
     "metadata": {},
     "output_type": "execute_result"
    }
   ],
   "source": [
    "data.bmi.min()\n"
   ]
  },
  {
   "cell_type": "code",
   "execution_count": 215,
   "id": "c6ea99bc",
   "metadata": {},
   "outputs": [
    {
     "data": {
      "text/plain": [
       "<matplotlib.collections.PathCollection at 0x191721f8160>"
      ]
     },
     "execution_count": 215,
     "metadata": {},
     "output_type": "execute_result"
    },
    {
     "data": {
      "image/png": "[encoded data removed]",
      "text/plain": [
       "<Figure size 432x288 with 1 Axes>"
      ]
     },
     "metadata": {
      "needs_background": "light"
     },
     "output_type": "display_data"
    }
   ],
   "source": [
    "plt.scatter(data['bmi'],data['charges'])\n"
   ]
  },
  {
   "cell_type": "code",
   "execution_count": 216,
   "id": "617cd9a7",
   "metadata": {},
   "outputs": [],
   "source": [
    "#sns.boxplot(data['bmi'],data['charges'])\n"
   ]
  },
  {
   "cell_type": "code",
   "execution_count": 217,
   "id": "25df063e",
   "metadata": {},
   "outputs": [],
   "source": [
    "#data=data[data['bmi']<45]\n",
    "#data=data[data['charges']<30000]"
   ]
  },
  {
   "cell_type": "code",
   "execution_count": 218,
   "id": "44dc0c84",
   "metadata": {},
   "outputs": [
    {
     "data": {
      "text/plain": [
       "<matplotlib.collections.PathCollection at 0x1917227f550>"
      ]
     },
     "execution_count": 218,
     "metadata": {},
     "output_type": "execute_result"
    },
    {
     "data": {
      "image/png": "[encoded data removed]",
      "text/plain": [
       "<Figure size 432x288 with 1 Axes>"
      ]
     },
     "metadata": {
      "needs_background": "light"
     },
     "output_type": "display_data"
    }
   ],
   "source": [
    "plt.scatter(data['bmi'],data['charges'])\n"
   ]
  },
  {
   "cell_type": "code",
   "execution_count": 219,
   "id": "94add7e8",
   "metadata": {},
   "outputs": [],
   "source": [
    "hm=data.corr().round(2)\n"
   ]
  },
  {
   "cell_type": "code",
   "execution_count": 220,
   "id": "012d1482",
   "metadata": {},
   "outputs": [
    {
     "data": {
      "image/png": "[encoded data removed]",
      "text/plain": [
       "<Figure size 720x720 with 2 Axes>"
      ]
     },
     "metadata": {
      "needs_background": "light"
     },
     "output_type": "display_data"
    }
   ],
   "source": [
    "fig, ax = plt.subplots(figsize=(10,10))\n",
    "ax=sns.heatmap(hm,linewidth=1)"
   ]
  },
  {
   "cell_type": "code",
   "execution_count": 221,
   "id": "1999cb71",
   "metadata": {},
   "outputs": [],
   "source": [
    "#del data['children']\n"
   ]
  },
  {
   "cell_type": "code",
   "execution_count": 222,
   "id": "9d7e09ad",
   "metadata": {},
   "outputs": [
    {
     "data": {
      "text/html": [
       "<div>\n",
       "<style scoped>\n",
       "    .dataframe tbody tr th:only-of-type {\n",
       "        vertical-align: middle;\n",
       "    }\n",
       "\n",
       "    .dataframe tbody tr th {\n",
       "        vertical-align: top;\n",
       "    }\n",
       "\n",
       "    .dataframe thead th {\n",
       "        text-align: right;\n",
       "    }\n",
       "</style>\n",
       "<table border=\"1\" class=\"dataframe\">\n",
       "  <thead>\n",
       "    <tr style=\"text-align: right;\">\n",
       "      <th></th>\n",
       "      <th>age</th>\n",
       "      <th>sex</th>\n",
       "      <th>bmi</th>\n",
       "      <th>children</th>\n",
       "      <th>smoker</th>\n",
       "      <th>region</th>\n",
       "      <th>charges</th>\n",
       "    </tr>\n",
       "  </thead>\n",
       "  <tbody>\n",
       "    <tr>\n",
       "      <th>0</th>\n",
       "      <td>19</td>\n",
       "      <td>female</td>\n",
       "      <td>27.900</td>\n",
       "      <td>0</td>\n",
       "      <td>yes</td>\n",
       "      <td>southwest</td>\n",
       "      <td>16884.92400</td>\n",
       "    </tr>\n",
       "    <tr>\n",
       "      <th>1</th>\n",
       "      <td>18</td>\n",
       "      <td>male</td>\n",
       "      <td>33.770</td>\n",
       "      <td>1</td>\n",
       "      <td>no</td>\n",
       "      <td>southeast</td>\n",
       "      <td>1725.55230</td>\n",
       "    </tr>\n",
       "    <tr>\n",
       "      <th>2</th>\n",
       "      <td>28</td>\n",
       "      <td>male</td>\n",
       "      <td>33.000</td>\n",
       "      <td>3</td>\n",
       "      <td>no</td>\n",
       "      <td>southeast</td>\n",
       "      <td>4449.46200</td>\n",
       "    </tr>\n",
       "    <tr>\n",
       "      <th>3</th>\n",
       "      <td>33</td>\n",
       "      <td>male</td>\n",
       "      <td>22.705</td>\n",
       "      <td>0</td>\n",
       "      <td>no</td>\n",
       "      <td>northwest</td>\n",
       "      <td>21984.47061</td>\n",
       "    </tr>\n",
       "    <tr>\n",
       "      <th>4</th>\n",
       "      <td>32</td>\n",
       "      <td>male</td>\n",
       "      <td>28.880</td>\n",
       "      <td>0</td>\n",
       "      <td>no</td>\n",
       "      <td>northwest</td>\n",
       "      <td>3866.85520</td>\n",
       "    </tr>\n",
       "  </tbody>\n",
       "</table>\n",
       "</div>"
      ],
      "text/plain": [
       "   age     sex     bmi  children smoker     region      charges\n",
       "0   19  female  27.900         0    yes  southwest  16884.92400\n",
       "1   18    male  33.770         1     no  southeast   1725.55230\n",
       "2   28    male  33.000         3     no  southeast   4449.46200\n",
       "3   33    male  22.705         0     no  northwest  21984.47061\n",
       "4   32    male  28.880         0     no  northwest   3866.85520"
      ]
     },
     "execution_count": 222,
     "metadata": {},
     "output_type": "execute_result"
    }
   ],
   "source": [
    "data.head()\n"
   ]
  },
  {
   "cell_type": "code",
   "execution_count": 224,
   "id": "e326e573",
   "metadata": {},
   "outputs": [],
   "source": [
    "X=data.iloc[:,:-1].values\n",
    "y=data.iloc[:,-1].values"
   ]
  },
  {
   "cell_type": "code",
   "execution_count": 225,
   "id": "59a9db23",
   "metadata": {},
   "outputs": [],
   "source": [
    "\n",
    "from sklearn.compose import ColumnTransformer\n",
    "from sklearn.preprocessing import OneHotEncoder"
   ]
  },
  {
   "cell_type": "code",
   "execution_count": 226,
   "id": "49be0d52",
   "metadata": {},
   "outputs": [],
   "source": [
    "ct1 = ColumnTransformer(transformers=[('encoder', OneHotEncoder(), [1,4,5])], remainder='passthrough')\n"
   ]
  },
  {
   "cell_type": "code",
   "execution_count": 227,
   "id": "3965ca59",
   "metadata": {},
   "outputs": [],
   "source": [
    "X=ct1.fit_transform(X)\n"
   ]
  },
  {
   "cell_type": "code",
   "execution_count": 228,
   "id": "c54987a6",
   "metadata": {},
   "outputs": [
    {
     "data": {
      "text/plain": [
       "array([[1.0, 0.0, 0.0, ..., 19, 27.9, 0],\n",
       "       [0.0, 1.0, 1.0, ..., 18, 33.77, 1],\n",
       "       [0.0, 1.0, 1.0, ..., 28, 33.0, 3],\n",
       "       ...,\n",
       "       [1.0, 0.0, 1.0, ..., 18, 36.85, 0],\n",
       "       [1.0, 0.0, 1.0, ..., 21, 25.8, 0],\n",
       "       [1.0, 0.0, 0.0, ..., 61, 29.07, 0]], dtype=object)"
      ]
     },
     "execution_count": 228,
     "metadata": {},
     "output_type": "execute_result"
    }
   ],
   "source": [
    "X\n"
   ]
  },
  {
   "cell_type": "code",
   "execution_count": 229,
   "id": "3421ca50",
   "metadata": {},
   "outputs": [],
   "source": [
    "\n",
    "from sklearn.model_selection import train_test_split\n",
    "X_train, X_test, y_train, y_test = train_test_split(X, y, test_size = 0.2, random_state = 4)"
   ]
  },
  {
   "cell_type": "code",
   "execution_count": 230,
   "id": "8fe37019",
   "metadata": {},
   "outputs": [],
   "source": [
    "from sklearn.preprocessing import StandardScaler\n",
    "sc = StandardScaler(with_mean=False)\n",
    "X_train = sc.fit_transform(X_train)\n",
    "X_test = sc.transform(X_test)"
   ]
  },
  {
   "cell_type": "code",
   "execution_count": 231,
   "id": "9c2cd7f0",
   "metadata": {},
   "outputs": [
    {
     "data": {
      "text/plain": [
       "DecisionTreeRegressor(random_state=0)"
      ]
     },
     "execution_count": 231,
     "metadata": {},
     "output_type": "execute_result"
    }
   ],
   "source": [
    "from sklearn.tree import DecisionTreeRegressor\n",
    "regressor = DecisionTreeRegressor(random_state = 0)\n",
    "regressor.fit(X_train, y_train)"
   ]
  },
  {
   "cell_type": "code",
   "execution_count": 232,
   "id": "cc1c3060",
   "metadata": {},
   "outputs": [],
   "source": [
    "y_pred=regressor.predict(X_test)\n"
   ]
  },
  {
   "cell_type": "code",
   "execution_count": 233,
   "id": "08001383",
   "metadata": {},
   "outputs": [
    {
     "name": "stdout",
     "output_type": "stream",
     "text": [
      "[[ 6282.235    6664.68595]\n",
      " [11455.28    11837.16   ]\n",
      " [ 4827.90495  4661.28635]\n",
      " [ 5976.8311   6373.55735]\n",
      " [ 6600.361    6986.697  ]\n",
      " [ 1720.3537   1719.4363 ]\n",
      " [11093.6229  11090.7178 ]\n",
      " [35147.52848 22331.5668 ]\n",
      " [21082.16    19719.6947 ]\n",
      " [24869.8368  24106.91255]\n",
      " [ 3021.80915  2632.992  ]\n",
      " [10264.4421   8703.456  ]\n",
      " [26125.67477 16577.7795 ]\n",
      " [11944.59435 11356.6609 ]\n",
      " [ 8527.532    9432.9253 ]\n",
      " [47896.79135 48517.56315]\n",
      " [11534.87265 11931.12525]\n",
      " [ 5469.0066   5227.98875]\n",
      " [27218.43725 30184.9367 ]\n",
      " [ 1261.859   23082.95533]\n",
      " [20277.80751  5148.5526 ]\n",
      " [38282.7495  39871.7043 ]\n",
      " [11944.59435 11743.9341 ]\n",
      " [ 6571.544    7537.1639 ]\n",
      " [ 1832.094    1964.78   ]\n",
      " [13555.0049  13844.7972 ]\n",
      " [11946.6259  11945.1327 ]\n",
      " [ 6781.3542   6775.961  ]\n",
      " [12928.7911  36910.60803]\n",
      " [ 5934.3798   7243.8136 ]\n",
      " [ 5469.0066   4992.3764 ]\n",
      " [ 1253.936    1256.299  ]\n",
      " [34617.84065 33732.6867 ]\n",
      " [18218.16139  4189.1131 ]\n",
      " [ 6875.961    7256.7231 ]\n",
      " [ 1253.936    1252.407  ]\n",
      " [11163.568   11264.541  ]\n",
      " [11856.4115  12430.95335]\n",
      " [ 5266.3656   4883.866  ]\n",
      " [ 6082.405   23563.01618]\n",
      " [11512.405   11879.10405]\n",
      " [41034.2214  42111.6647 ]\n",
      " [ 5246.047    5240.765  ]\n",
      " [43921.1837  43813.8661 ]\n",
      " [24476.47851 10594.50155]\n",
      " [ 1628.4709   1627.28245]\n",
      " [21978.6769  23807.2406 ]\n",
      " [16115.3045  16657.71745]\n",
      " [ 9549.5651   9877.6077 ]\n",
      " [10928.849   27322.73386]\n",
      " [20277.80751  6113.23105]\n",
      " [ 3757.8448   3756.6216 ]\n",
      " [ 4646.759    6112.35295]\n",
      " [ 1242.26     1242.816  ]\n",
      " [ 2155.6815   2156.7518 ]\n",
      " [ 1967.0227   2104.1134 ]\n",
      " [ 1704.5681   1702.4553 ]\n",
      " [ 2203.47185 21344.8467 ]\n",
      " [ 1727.785    1731.677  ]\n",
      " [ 5757.41345  7650.77375]\n",
      " [27375.90478  6640.54485]\n",
      " [ 4719.52405  4718.20355]\n",
      " [17878.90068  1837.2819 ]\n",
      " [ 5116.5004   4766.022  ]\n",
      " [29523.1656  28950.4692 ]\n",
      " [ 7348.142    7345.084  ]\n",
      " [ 6710.1919   6652.5288 ]\n",
      " [ 6770.1925   7153.5539 ]\n",
      " [11286.5387  10704.47   ]\n",
      " [ 6123.5688   6117.4945 ]\n",
      " [ 8538.28845  9222.4026 ]\n",
      " [ 6123.5688   6389.37785]\n",
      " [ 3554.203    3761.292  ]\n",
      " [ 7419.4779   7518.02535]\n",
      " [19515.5416  38245.59327]\n",
      " [ 9778.3472   8988.15875]\n",
      " [ 2196.4732   2198.18985]\n",
      " [12925.886   12333.828  ]\n",
      " [47462.894   47269.854  ]\n",
      " [10579.711   10450.552  ]\n",
      " [ 4906.40965  5693.4305 ]\n",
      " [ 5757.41345  6610.1097 ]\n",
      " [37607.5277  35491.64   ]\n",
      " [23241.47453 22395.74424]\n",
      " [ 1135.9407   1391.5287 ]\n",
      " [10796.35025 10214.636  ]\n",
      " [27375.90478  4500.33925]\n",
      " [24180.9335  21677.28345]\n",
      " [ 5003.853    5385.3379 ]\n",
      " [44585.45587 39241.442  ]\n",
      " [ 8569.8618   8083.9198 ]\n",
      " [11856.4115  24227.33724]\n",
      " [16884.924   13844.506  ]\n",
      " [ 3292.52985  2416.955  ]\n",
      " [ 3201.24515  3556.9223 ]\n",
      " [ 1146.7966   1149.3959 ]\n",
      " [ 2902.9065   3392.3652 ]\n",
      " [44585.45587 38711.     ]\n",
      " [19964.7463  19594.80965]\n",
      " [ 7147.4728   7152.6714 ]\n",
      " [ 3070.8087   2721.3208 ]\n",
      " [12363.547   12643.3778 ]\n",
      " [13607.36875 13430.265  ]\n",
      " [ 6313.759    6311.952  ]\n",
      " [ 3906.127    3591.48   ]\n",
      " [11944.59435 11353.2276 ]\n",
      " [ 8310.83915  7727.2532 ]\n",
      " [ 1727.54    27724.28875]\n",
      " [21978.6769  23967.38305]\n",
      " [ 2709.24395  2710.82855]\n",
      " [11394.06555 10825.2537 ]\n",
      " [10807.4863  11987.1682 ]\n",
      " [ 5729.0053   5124.1887 ]\n",
      " [ 4076.497    5152.134  ]\n",
      " [39556.4945  39727.614  ]\n",
      " [ 6746.7425   6985.50695]\n",
      " [ 8277.523    8823.279  ]\n",
      " [17878.90068  3994.1778 ]\n",
      " [11411.685   10325.206  ]\n",
      " [ 6250.435    8269.044  ]\n",
      " [24667.419   23244.7902 ]\n",
      " [ 2020.177    2404.7338 ]\n",
      " [12982.8747  12981.3457 ]\n",
      " [ 2643.2685   2055.3249 ]\n",
      " [17081.08    17468.9839 ]\n",
      " [ 3392.9768   3981.9768 ]\n",
      " [ 4433.3877   4433.9159 ]\n",
      " [ 6250.435    7147.105  ]\n",
      " [ 1832.094    1837.237  ]\n",
      " [26125.67477 17496.306  ]\n",
      " [ 1632.03625  1632.56445]\n",
      " [48885.13561 42560.4304 ]\n",
      " [25081.76784  2842.76075]\n",
      " [ 9249.4952   8026.6666 ]\n",
      " [ 7160.3303   7162.0122 ]\n",
      " [ 6128.79745  4454.40265]\n",
      " [26125.67477 17904.52705]\n",
      " [ 2020.177    2166.732  ]\n",
      " [19749.38338 10702.6424 ]\n",
      " [ 1712.227   11272.33139]\n",
      " [ 7441.501    7740.337  ]\n",
      " [ 6196.448    6184.2994 ]\n",
      " [ 8964.06055 26392.26029]\n",
      " [ 5594.8455   4518.82625]\n",
      " [13981.85035 13887.204  ]\n",
      " [16586.49771  1526.312  ]\n",
      " [19964.7463  19798.05455]\n",
      " [13747.87235 15518.18025]\n",
      " [ 4076.497    4562.8421 ]\n",
      " [ 1744.465    1743.214  ]\n",
      " [13607.36875 14394.39815]\n",
      " [ 2250.8352   2254.7967 ]\n",
      " [ 6393.60345  6500.2359 ]\n",
      " [14426.07385  3561.8889 ]\n",
      " [ 9504.3103   9748.9106 ]\n",
      " [ 1674.6323   1682.597  ]\n",
      " [51194.55914 58571.07448]\n",
      " [ 1877.9294   1875.344  ]\n",
      " [ 8825.086    8968.33   ]\n",
      " [ 2643.2685   1909.52745]\n",
      " [ 1704.5681   1694.7964 ]\n",
      " [ 5312.16985 18804.7524 ]\n",
      " [ 2866.091    3260.199  ]\n",
      " [20009.63365 20234.85475]\n",
      " [ 1727.785    1728.897  ]\n",
      " [ 8280.6227   8283.6807 ]\n",
      " [39836.519   40103.89   ]\n",
      " [11658.11505 11657.7189 ]\n",
      " [11150.78    11729.6795 ]\n",
      " [13747.87235 17178.6824 ]\n",
      " [ 7077.1894   7639.41745]\n",
      " [15006.57945 14571.8908 ]\n",
      " [ 3906.127    4260.744  ]\n",
      " [28923.13692 12142.5786 ]\n",
      " [ 2902.9065   3947.4131 ]\n",
      " [ 5012.471   14358.36437]\n",
      " [ 6555.07035  6079.6715 ]\n",
      " [ 4032.2407   4239.89265]\n",
      " [ 2566.4707   3443.064  ]\n",
      " [35069.37452 22412.6485 ]\n",
      " [14001.1338  14001.2867 ]\n",
      " [ 2150.469    2154.361  ]\n",
      " [10381.4787  10560.4917 ]\n",
      " [ 6940.90985  7443.64305]\n",
      " [13470.86    13462.52   ]\n",
      " [ 4076.497    5253.524  ]\n",
      " [18310.742   18033.9679 ]\n",
      " [27117.99378 11013.7119 ]\n",
      " [39836.519   40003.33225]\n",
      " [ 4719.73655  4133.64165]\n",
      " [ 6496.886    6238.298  ]\n",
      " [10600.5483  25333.33284]\n",
      " [12592.5345  11396.9002 ]\n",
      " [29523.1656  29141.3603 ]\n",
      " [25517.11363 11082.5772 ]\n",
      " [ 6600.361    6593.5083 ]\n",
      " [ 1261.859    1261.442  ]\n",
      " [ 6858.4796   6600.20595]\n",
      " [10982.5013  20709.02034]\n",
      " [20420.60465  5028.1466 ]\n",
      " [15006.57945 15359.1045 ]\n",
      " [12797.20962  6948.7008 ]\n",
      " [11070.535   11454.0215 ]\n",
      " [ 1826.843    1986.9334 ]\n",
      " [ 2523.1695   2699.56835]\n",
      " [25656.57526  9617.66245]\n",
      " [ 8252.2843   7986.47525]\n",
      " [17361.7661  16138.76205]\n",
      " [ 5594.8455  12404.8791 ]\n",
      " [ 6555.07035  6067.12675]\n",
      " [ 8965.79575  8582.3023 ]\n",
      " [ 1631.8212  14133.03775]\n",
      " [24667.419   23887.6627 ]\n",
      " [37742.5757  38709.176  ]\n",
      " [47055.5321  46889.2612 ]\n",
      " [ 8068.185    8062.764  ]\n",
      " [ 6356.2707   5662.225  ]\n",
      " [39556.4945  39725.51805]\n",
      " [ 3847.674    3484.331  ]\n",
      " [ 9566.9909  10156.7832 ]\n",
      " [15230.32405 14235.072  ]\n",
      " [ 5373.36425  5125.2157 ]\n",
      " [26125.67477 19361.9988 ]\n",
      " [ 7325.0482   6837.3687 ]\n",
      " [11163.568   10085.846  ]\n",
      " [20296.86345 21659.9301 ]\n",
      " [ 4076.497    4074.4537 ]\n",
      " [49577.6624  47496.49445]\n",
      " [ 9391.346    9880.068  ]\n",
      " [24671.66334  5708.867  ]\n",
      " [16884.924   18223.4512 ]\n",
      " [12032.326   22192.43711]\n",
      " [ 4435.0942   4438.2634 ]\n",
      " [ 4719.52405 23288.9284 ]\n",
      " [ 1628.4709   1625.43375]\n",
      " [ 2203.73595  2459.7201 ]\n",
      " [ 7441.053    6849.026  ]\n",
      " [11289.10925 10806.839  ]\n",
      " [11411.685   11538.421  ]\n",
      " [34166.273   35595.5898 ]\n",
      " [26926.5144  27808.7251 ]\n",
      " [ 4320.41085  3935.1799 ]\n",
      " [22478.6     21774.32215]\n",
      " [14590.63205 14007.222  ]\n",
      " [ 5266.3656   5267.81815]\n",
      " [ 3172.018    3171.6149 ]\n",
      " [ 4402.233    4399.731  ]\n",
      " [ 1708.0014   1708.92575]\n",
      " [17748.5062  17352.6803 ]\n",
      " [ 3925.7582   3279.86855]\n",
      " [ 8688.85885  9361.3268 ]\n",
      " [27117.99378 25992.82104]\n",
      " [ 4673.3922   4463.2051 ]\n",
      " [41919.097   41097.16175]\n",
      " [13143.86485 13143.33665]\n",
      " [ 8444.474    8782.469  ]\n",
      " [51194.55914 39774.2763 ]\n",
      " [ 9869.8102   9863.4718 ]\n",
      " [ 7077.1894   7358.17565]\n",
      " [36149.4835  36307.7983 ]\n",
      " [ 1824.2854   1981.5819 ]\n",
      " [ 6571.544    7151.092  ]\n",
      " [ 1815.8759   1977.815  ]\n",
      " [ 4889.9995   5375.038  ]\n",
      " [ 8059.6791   7749.1564 ]\n",
      " [ 9447.25035  9447.3824 ]\n",
      " [24393.6224  24535.69855]\n",
      " [ 6940.90985  7046.7222 ]]\n"
     ]
    }
   ],
   "source": [
    "print(np.concatenate((y_pred.reshape(len(y_pred),1), y_test.reshape(len(y_test),1)),1))\n"
   ]
  },
  {
   "cell_type": "code",
   "execution_count": 234,
   "id": "07324373",
   "metadata": {},
   "outputs": [],
   "source": [
    "from sklearn.metrics import r2_score,mean_squared_error,explained_variance_score\n"
   ]
  },
  {
   "cell_type": "code",
   "execution_count": 235,
   "id": "8360bfc5",
   "metadata": {},
   "outputs": [
    {
     "name": "stdout",
     "output_type": "stream",
     "text": [
      "0.6932219114838865\n"
     ]
    }
   ],
   "source": [
    "print(r2_score(y_test,y_pred))\n"
   ]
  },
  {
   "cell_type": "code",
   "execution_count": 236,
   "id": "343fc5bb",
   "metadata": {},
   "outputs": [
    {
     "name": "stdout",
     "output_type": "stream",
     "text": [
      "6289.7435754051785\n",
      "0.6940154150959286\n"
     ]
    }
   ],
   "source": [
    "import math\n",
    "print(math.sqrt(mean_squared_error(y_test,y_pred)))\n",
    "print(explained_variance_score(y_test,y_pred))"
   ]
  },
  {
   "cell_type": "code",
   "execution_count": 237,
   "id": "f5ec6769",
   "metadata": {},
   "outputs": [],
   "source": [
    "from sklearn.model_selection import cross_val_score\n",
    "from sklearn.model_selection import RepeatedKFold\n",
    "cv = RepeatedKFold(n_splits=10, n_repeats=3, random_state=1)\n",
    "n_scores = cross_val_score(regressor, X_test, y_test, scoring='r2', cv=cv, n_jobs=-1, error_score='raise')"
   ]
  },
  {
   "cell_type": "code",
   "execution_count": 238,
   "id": "876b1729",
   "metadata": {},
   "outputs": [
    {
     "name": "stdout",
     "output_type": "stream",
     "text": [
      "r2: 0.592 (0.226)\n"
     ]
    }
   ],
   "source": [
    "print('r2: %.3f (%.3f)' % (np.mean(n_scores), np.std(n_scores)))\n"
   ]
  },
  {
   "cell_type": "code",
   "execution_count": null,
   "id": "89780621",
   "metadata": {},
   "outputs": [],
   "source": []
  },
  {
   "cell_type": "code",
   "execution_count": null,
   "id": "fa126a70",
   "metadata": {},
   "outputs": [],
   "source": []
  }
 ],
 "metadata": {
  "kernelspec": {
   "display_name": "Python 3",
   "language": "python",
   "name": "python3"
  },
  "language_info": {
   "codemirror_mode": {
    "name": "ipython",
    "version": 3
   },
   "file_extension": ".py",
   "mimetype": "text/x-python",
   "name": "python",
   "nbconvert_exporter": "python",
   "pygments_lexer": "ipython3",
   "version": "3.8.3"
  }
 },
 "nbformat": 4,
 "nbformat_minor": 5
}
