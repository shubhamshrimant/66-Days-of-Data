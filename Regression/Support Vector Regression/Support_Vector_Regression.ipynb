{
 "cells": [
  {
   "cell_type": "code",
   "execution_count": 250,
   "id": "907d765a",
   "metadata": {},
   "outputs": [],
   "source": [
    "import pandas as pd\n",
    "import numpy as np\n",
    "import seaborn as sns\n",
    "import matplotlib.pyplot as plt"
   ]
  },
  {
   "cell_type": "code",
   "execution_count": 251,
   "id": "457eb1f7",
   "metadata": {},
   "outputs": [],
   "source": [
    "data=pd.read_csv(\"insurance.csv\")"
   ]
  },
  {
   "cell_type": "code",
   "execution_count": 252,
   "id": "8c6208f8",
   "metadata": {},
   "outputs": [
    {
     "data": {
      "text/html": [
       "<div>\n",
       "<style scoped>\n",
       "    .dataframe tbody tr th:only-of-type {\n",
       "        vertical-align: middle;\n",
       "    }\n",
       "\n",
       "    .dataframe tbody tr th {\n",
       "        vertical-align: top;\n",
       "    }\n",
       "\n",
       "    .dataframe thead th {\n",
       "        text-align: right;\n",
       "    }\n",
       "</style>\n",
       "<table border=\"1\" class=\"dataframe\">\n",
       "  <thead>\n",
       "    <tr style=\"text-align: right;\">\n",
       "      <th></th>\n",
       "      <th>age</th>\n",
       "      <th>sex</th>\n",
       "      <th>bmi</th>\n",
       "      <th>children</th>\n",
       "      <th>smoker</th>\n",
       "      <th>region</th>\n",
       "      <th>charges</th>\n",
       "    </tr>\n",
       "  </thead>\n",
       "  <tbody>\n",
       "    <tr>\n",
       "      <th>0</th>\n",
       "      <td>19</td>\n",
       "      <td>female</td>\n",
       "      <td>27.900</td>\n",
       "      <td>0</td>\n",
       "      <td>yes</td>\n",
       "      <td>southwest</td>\n",
       "      <td>16884.92400</td>\n",
       "    </tr>\n",
       "    <tr>\n",
       "      <th>1</th>\n",
       "      <td>18</td>\n",
       "      <td>male</td>\n",
       "      <td>33.770</td>\n",
       "      <td>1</td>\n",
       "      <td>no</td>\n",
       "      <td>southeast</td>\n",
       "      <td>1725.55230</td>\n",
       "    </tr>\n",
       "    <tr>\n",
       "      <th>2</th>\n",
       "      <td>28</td>\n",
       "      <td>male</td>\n",
       "      <td>33.000</td>\n",
       "      <td>3</td>\n",
       "      <td>no</td>\n",
       "      <td>southeast</td>\n",
       "      <td>4449.46200</td>\n",
       "    </tr>\n",
       "    <tr>\n",
       "      <th>3</th>\n",
       "      <td>33</td>\n",
       "      <td>male</td>\n",
       "      <td>22.705</td>\n",
       "      <td>0</td>\n",
       "      <td>no</td>\n",
       "      <td>northwest</td>\n",
       "      <td>21984.47061</td>\n",
       "    </tr>\n",
       "    <tr>\n",
       "      <th>4</th>\n",
       "      <td>32</td>\n",
       "      <td>male</td>\n",
       "      <td>28.880</td>\n",
       "      <td>0</td>\n",
       "      <td>no</td>\n",
       "      <td>northwest</td>\n",
       "      <td>3866.85520</td>\n",
       "    </tr>\n",
       "  </tbody>\n",
       "</table>\n",
       "</div>"
      ],
      "text/plain": [
       "   age     sex     bmi  children smoker     region      charges\n",
       "0   19  female  27.900         0    yes  southwest  16884.92400\n",
       "1   18    male  33.770         1     no  southeast   1725.55230\n",
       "2   28    male  33.000         3     no  southeast   4449.46200\n",
       "3   33    male  22.705         0     no  northwest  21984.47061\n",
       "4   32    male  28.880         0     no  northwest   3866.85520"
      ]
     },
     "execution_count": 252,
     "metadata": {},
     "output_type": "execute_result"
    }
   ],
   "source": [
    "data.head()"
   ]
  },
  {
   "cell_type": "code",
   "execution_count": 253,
   "id": "18fa45cf",
   "metadata": {},
   "outputs": [
    {
     "name": "stdout",
     "output_type": "stream",
     "text": [
      "<class 'pandas.core.frame.DataFrame'>\n",
      "RangeIndex: 1338 entries, 0 to 1337\n",
      "Data columns (total 7 columns):\n",
      " #   Column    Non-Null Count  Dtype  \n",
      "---  ------    --------------  -----  \n",
      " 0   age       1338 non-null   int64  \n",
      " 1   sex       1338 non-null   object \n",
      " 2   bmi       1338 non-null   float64\n",
      " 3   children  1338 non-null   int64  \n",
      " 4   smoker    1338 non-null   object \n",
      " 5   region    1338 non-null   object \n",
      " 6   charges   1338 non-null   float64\n",
      "dtypes: float64(2), int64(2), object(3)\n",
      "memory usage: 73.3+ KB\n"
     ]
    }
   ],
   "source": [
    "data.info()"
   ]
  },
  {
   "cell_type": "code",
   "execution_count": 254,
   "id": "2ebed817",
   "metadata": {},
   "outputs": [
    {
     "data": {
      "text/plain": [
       "(1338, 7)"
      ]
     },
     "execution_count": 254,
     "metadata": {},
     "output_type": "execute_result"
    }
   ],
   "source": [
    "data.shape"
   ]
  },
  {
   "cell_type": "code",
   "execution_count": 330,
   "id": "3623f886",
   "metadata": {},
   "outputs": [
    {
     "data": {
      "text/plain": [
       "<AxesSubplot:>"
      ]
     },
     "execution_count": 330,
     "metadata": {},
     "output_type": "execute_result"
    },
    {
     "data": {
      "image/png": "[encoded data removed]",
      "text/plain": [
       "<Figure size 432x288 with 1 Axes>"
      ]
     },
     "metadata": {
      "needs_background": "light"
     },
     "output_type": "display_data"
    }
   ],
   "source": [
    "data.sex.value_counts().plot(kind='bar')"
   ]
  },
  {
   "cell_type": "code",
   "execution_count": 256,
   "id": "9c4bbd69",
   "metadata": {},
   "outputs": [
    {
     "data": {
      "text/plain": [
       "no     1064\n",
       "yes     274\n",
       "Name: smoker, dtype: int64"
      ]
     },
     "execution_count": 256,
     "metadata": {},
     "output_type": "execute_result"
    }
   ],
   "source": [
    "data.smoker.value_counts()"
   ]
  },
  {
   "cell_type": "code",
   "execution_count": 257,
   "id": "d7a94e1b",
   "metadata": {},
   "outputs": [
    {
     "data": {
      "text/plain": [
       "southeast    364\n",
       "southwest    325\n",
       "northwest    325\n",
       "northeast    324\n",
       "Name: region, dtype: int64"
      ]
     },
     "execution_count": 257,
     "metadata": {},
     "output_type": "execute_result"
    }
   ],
   "source": [
    "data.region.value_counts()"
   ]
  },
  {
   "cell_type": "code",
   "execution_count": 258,
   "id": "37caab77",
   "metadata": {},
   "outputs": [
    {
     "data": {
      "text/plain": [
       "age         0\n",
       "sex         0\n",
       "bmi         0\n",
       "children    0\n",
       "smoker      0\n",
       "region      0\n",
       "charges     0\n",
       "dtype: int64"
      ]
     },
     "execution_count": 258,
     "metadata": {},
     "output_type": "execute_result"
    }
   ],
   "source": [
    "data.isna().sum()"
   ]
  },
  {
   "cell_type": "code",
   "execution_count": 259,
   "id": "4cb58b2e",
   "metadata": {},
   "outputs": [
    {
     "name": "stderr",
     "output_type": "stream",
     "text": [
      "C:\\Users\\shubh\\anaconda3\\lib\\site-packages\\seaborn\\_decorators.py:36: FutureWarning: Pass the following variables as keyword args: x, y. From version 0.12, the only valid positional argument will be `data`, and passing other arguments without an explicit keyword will result in an error or misinterpretation.\n",
      "  warnings.warn(\n"
     ]
    },
    {
     "data": {
      "text/plain": [
       "<AxesSubplot:xlabel='sex', ylabel='charges'>"
      ]
     },
     "execution_count": 259,
     "metadata": {},
     "output_type": "execute_result"
    },
    {
     "data": {
      "image/png": "[encoded data removed]",
      "text/plain": [
       "<Figure size 432x288 with 1 Axes>"
      ]
     },
     "metadata": {
      "needs_background": "light"
     },
     "output_type": "display_data"
    }
   ],
   "source": [
    "sns.boxplot(data['sex'],data['charges'])"
   ]
  },
  {
   "cell_type": "code",
   "execution_count": 260,
   "id": "c5df734a",
   "metadata": {},
   "outputs": [
    {
     "name": "stderr",
     "output_type": "stream",
     "text": [
      "C:\\Users\\shubh\\anaconda3\\lib\\site-packages\\seaborn\\_decorators.py:36: FutureWarning: Pass the following variables as keyword args: x, y. From version 0.12, the only valid positional argument will be `data`, and passing other arguments without an explicit keyword will result in an error or misinterpretation.\n",
      "  warnings.warn(\n"
     ]
    },
    {
     "data": {
      "text/plain": [
       "<AxesSubplot:xlabel='age', ylabel='charges'>"
      ]
     },
     "execution_count": 260,
     "metadata": {},
     "output_type": "execute_result"
    },
    {
     "data": {
      "image/png": "[encoded data removed]",
      "text/plain": [
       "<Figure size 432x288 with 1 Axes>"
      ]
     },
     "metadata": {
      "needs_background": "light"
     },
     "output_type": "display_data"
    }
   ],
   "source": [
    "sns.boxplot(data['age'],data['charges'])"
   ]
  },
  {
   "cell_type": "code",
   "execution_count": 261,
   "id": "5953c9a1",
   "metadata": {},
   "outputs": [
    {
     "name": "stderr",
     "output_type": "stream",
     "text": [
      "C:\\Users\\shubh\\anaconda3\\lib\\site-packages\\seaborn\\_decorators.py:36: FutureWarning: Pass the following variables as keyword args: x, y. From version 0.12, the only valid positional argument will be `data`, and passing other arguments without an explicit keyword will result in an error or misinterpretation.\n",
      "  warnings.warn(\n"
     ]
    },
    {
     "data": {
      "text/plain": [
       "<AxesSubplot:xlabel='children', ylabel='charges'>"
      ]
     },
     "execution_count": 261,
     "metadata": {},
     "output_type": "execute_result"
    },
    {
     "data": {
      "image/png": "[encoded data removed]",
      "text/plain": [
       "<Figure size 432x288 with 1 Axes>"
      ]
     },
     "metadata": {
      "needs_background": "light"
     },
     "output_type": "display_data"
    }
   ],
   "source": [
    "sns.boxplot(data['children'],data['charges'])"
   ]
  },
  {
   "cell_type": "code",
   "execution_count": 262,
   "id": "7fd8048c",
   "metadata": {},
   "outputs": [
    {
     "name": "stderr",
     "output_type": "stream",
     "text": [
      "C:\\Users\\shubh\\anaconda3\\lib\\site-packages\\seaborn\\_decorators.py:36: FutureWarning: Pass the following variables as keyword args: x, y. From version 0.12, the only valid positional argument will be `data`, and passing other arguments without an explicit keyword will result in an error or misinterpretation.\n",
      "  warnings.warn(\n"
     ]
    },
    {
     "data": {
      "text/plain": [
       "<AxesSubplot:xlabel='smoker', ylabel='charges'>"
      ]
     },
     "execution_count": 262,
     "metadata": {},
     "output_type": "execute_result"
    },
    {
     "data": {
      "image/png": "[encoded data removed]",
      "text/plain": [
       "<Figure size 432x288 with 1 Axes>"
      ]
     },
     "metadata": {
      "needs_background": "light"
     },
     "output_type": "display_data"
    }
   ],
   "source": [
    "sns.boxplot(data['smoker'],data['charges'])"
   ]
  },
  {
   "cell_type": "code",
   "execution_count": 263,
   "id": "1dca7306",
   "metadata": {},
   "outputs": [
    {
     "name": "stderr",
     "output_type": "stream",
     "text": [
      "C:\\Users\\shubh\\anaconda3\\lib\\site-packages\\seaborn\\_decorators.py:36: FutureWarning: Pass the following variables as keyword args: x, y. From version 0.12, the only valid positional argument will be `data`, and passing other arguments without an explicit keyword will result in an error or misinterpretation.\n",
      "  warnings.warn(\n"
     ]
    },
    {
     "data": {
      "text/plain": [
       "<AxesSubplot:xlabel='region', ylabel='charges'>"
      ]
     },
     "execution_count": 263,
     "metadata": {},
     "output_type": "execute_result"
    },
    {
     "data": {
      "image/png": "[encoded data removed]",
      "text/plain": [
       "<Figure size 432x288 with 1 Axes>"
      ]
     },
     "metadata": {
      "needs_background": "light"
     },
     "output_type": "display_data"
    }
   ],
   "source": [
    "sns.boxplot(data['region'],data['charges'])"
   ]
  },
  {
   "cell_type": "code",
   "execution_count": 264,
   "id": "fd600142",
   "metadata": {},
   "outputs": [
    {
     "data": {
      "text/plain": [
       "<AxesSubplot:>"
      ]
     },
     "execution_count": 264,
     "metadata": {},
     "output_type": "execute_result"
    },
    {
     "data": {
      "image/png": "[encoded data removed]",
      "text/plain": [
       "<Figure size 432x288 with 1 Axes>"
      ]
     },
     "metadata": {
      "needs_background": "light"
     },
     "output_type": "display_data"
    }
   ],
   "source": [
    "sns.boxplot(data=data.iloc[:,0])"
   ]
  },
  {
   "cell_type": "code",
   "execution_count": 265,
   "id": "d2e9abd9",
   "metadata": {},
   "outputs": [
    {
     "data": {
      "text/plain": [
       "<AxesSubplot:>"
      ]
     },
     "execution_count": 265,
     "metadata": {},
     "output_type": "execute_result"
    },
    {
     "data": {
      "image/png": "[encoded data removed]",
      "text/plain": [
       "<Figure size 432x288 with 1 Axes>"
      ]
     },
     "metadata": {
      "needs_background": "light"
     },
     "output_type": "display_data"
    }
   ],
   "source": [
    "sns.boxplot(data=data.iloc[:,2])"
   ]
  },
  {
   "cell_type": "code",
   "execution_count": 266,
   "id": "1f85c19e",
   "metadata": {},
   "outputs": [
    {
     "data": {
      "text/plain": [
       "<AxesSubplot:>"
      ]
     },
     "execution_count": 266,
     "metadata": {},
     "output_type": "execute_result"
    },
    {
     "data": {
      "image/png": "[encoded data removed]",
      "text/plain": [
       "<Figure size 432x288 with 1 Axes>"
      ]
     },
     "metadata": {
      "needs_background": "light"
     },
     "output_type": "display_data"
    }
   ],
   "source": [
    "sns.boxplot(data=data.iloc[:,3])"
   ]
  },
  {
   "cell_type": "code",
   "execution_count": 267,
   "id": "ac99baa8",
   "metadata": {},
   "outputs": [
    {
     "data": {
      "text/plain": [
       "53.13"
      ]
     },
     "execution_count": 267,
     "metadata": {},
     "output_type": "execute_result"
    }
   ],
   "source": [
    "data.bmi.max()"
   ]
  },
  {
   "cell_type": "code",
   "execution_count": 268,
   "id": "88aa3ed6",
   "metadata": {},
   "outputs": [
    {
     "data": {
      "text/plain": [
       "15.96"
      ]
     },
     "execution_count": 268,
     "metadata": {},
     "output_type": "execute_result"
    }
   ],
   "source": [
    "data.bmi.min()"
   ]
  },
  {
   "cell_type": "code",
   "execution_count": 269,
   "id": "25ab3bf8",
   "metadata": {},
   "outputs": [
    {
     "data": {
      "text/plain": [
       "<matplotlib.collections.PathCollection at 0x22ea4c67a00>"
      ]
     },
     "execution_count": 269,
     "metadata": {},
     "output_type": "execute_result"
    },
    {
     "data": {
      "image/png": "[encoded data removed]",
      "text/plain": [
       "<Figure size 432x288 with 1 Axes>"
      ]
     },
     "metadata": {
      "needs_background": "light"
     },
     "output_type": "display_data"
    }
   ],
   "source": [
    "plt.scatter(data['bmi'],data['charges'])"
   ]
  },
  {
   "cell_type": "code",
   "execution_count": 270,
   "id": "df43525e",
   "metadata": {},
   "outputs": [],
   "source": [
    "data=data[data['bmi']<45]"
   ]
  },
  {
   "cell_type": "code",
   "execution_count": 271,
   "id": "26237e2a",
   "metadata": {},
   "outputs": [
    {
     "data": {
      "text/plain": [
       "<matplotlib.collections.PathCollection at 0x22ea4cc4af0>"
      ]
     },
     "execution_count": 271,
     "metadata": {},
     "output_type": "execute_result"
    },
    {
     "data": {
      "image/png": "[encoded data removed]",
      "text/plain": [
       "<Figure size 432x288 with 1 Axes>"
      ]
     },
     "metadata": {
      "needs_background": "light"
     },
     "output_type": "display_data"
    }
   ],
   "source": [
    "plt.scatter(data['bmi'],data['charges'])"
   ]
  },
  {
   "cell_type": "code",
   "execution_count": 292,
   "id": "468e2e0d",
   "metadata": {},
   "outputs": [],
   "source": [
    "hm=data.corr().round(2)"
   ]
  },
  {
   "cell_type": "code",
   "execution_count": 293,
   "id": "4d52b833",
   "metadata": {},
   "outputs": [
    {
     "data": {
      "image/png": "[encoded data removed]",
      "text/plain": [
       "<Figure size 720x720 with 2 Axes>"
      ]
     },
     "metadata": {
      "needs_background": "light"
     },
     "output_type": "display_data"
    }
   ],
   "source": [
    "fig, ax = plt.subplots(figsize=(10,10))\n",
    "ax=sns.heatmap(hm,linewidth=1)"
   ]
  },
  {
   "cell_type": "code",
   "execution_count": 305,
   "id": "cf581705",
   "metadata": {},
   "outputs": [],
   "source": [
    "del data['children']"
   ]
  },
  {
   "cell_type": "code",
   "execution_count": 306,
   "id": "01dae01f",
   "metadata": {},
   "outputs": [
    {
     "data": {
      "text/html": [
       "<div>\n",
       "<style scoped>\n",
       "    .dataframe tbody tr th:only-of-type {\n",
       "        vertical-align: middle;\n",
       "    }\n",
       "\n",
       "    .dataframe tbody tr th {\n",
       "        vertical-align: top;\n",
       "    }\n",
       "\n",
       "    .dataframe thead th {\n",
       "        text-align: right;\n",
       "    }\n",
       "</style>\n",
       "<table border=\"1\" class=\"dataframe\">\n",
       "  <thead>\n",
       "    <tr style=\"text-align: right;\">\n",
       "      <th></th>\n",
       "      <th>age</th>\n",
       "      <th>sex</th>\n",
       "      <th>bmi</th>\n",
       "      <th>smoker</th>\n",
       "      <th>region</th>\n",
       "      <th>charges</th>\n",
       "    </tr>\n",
       "  </thead>\n",
       "  <tbody>\n",
       "    <tr>\n",
       "      <th>6</th>\n",
       "      <td>46</td>\n",
       "      <td>female</td>\n",
       "      <td>33.44</td>\n",
       "      <td>no</td>\n",
       "      <td>southeast</td>\n",
       "      <td>8240.58960</td>\n",
       "    </tr>\n",
       "    <tr>\n",
       "      <th>7</th>\n",
       "      <td>37</td>\n",
       "      <td>female</td>\n",
       "      <td>27.74</td>\n",
       "      <td>no</td>\n",
       "      <td>northwest</td>\n",
       "      <td>7281.50560</td>\n",
       "    </tr>\n",
       "    <tr>\n",
       "      <th>8</th>\n",
       "      <td>37</td>\n",
       "      <td>male</td>\n",
       "      <td>29.83</td>\n",
       "      <td>no</td>\n",
       "      <td>northeast</td>\n",
       "      <td>6406.41070</td>\n",
       "    </tr>\n",
       "    <tr>\n",
       "      <th>9</th>\n",
       "      <td>60</td>\n",
       "      <td>female</td>\n",
       "      <td>25.84</td>\n",
       "      <td>no</td>\n",
       "      <td>northwest</td>\n",
       "      <td>28923.13692</td>\n",
       "    </tr>\n",
       "    <tr>\n",
       "      <th>10</th>\n",
       "      <td>25</td>\n",
       "      <td>male</td>\n",
       "      <td>26.22</td>\n",
       "      <td>no</td>\n",
       "      <td>northeast</td>\n",
       "      <td>2721.32080</td>\n",
       "    </tr>\n",
       "  </tbody>\n",
       "</table>\n",
       "</div>"
      ],
      "text/plain": [
       "    age     sex    bmi smoker     region      charges\n",
       "6    46  female  33.44     no  southeast   8240.58960\n",
       "7    37  female  27.74     no  northwest   7281.50560\n",
       "8    37    male  29.83     no  northeast   6406.41070\n",
       "9    60  female  25.84     no  northwest  28923.13692\n",
       "10   25    male  26.22     no  northeast   2721.32080"
      ]
     },
     "execution_count": 306,
     "metadata": {},
     "output_type": "execute_result"
    }
   ],
   "source": [
    "data.head()"
   ]
  },
  {
   "cell_type": "code",
   "execution_count": 307,
   "id": "0c65111b",
   "metadata": {},
   "outputs": [],
   "source": [
    "X=data.iloc[:,:-1].values\n",
    "y=data.iloc[:,-1].values"
   ]
  },
  {
   "cell_type": "code",
   "execution_count": 308,
   "id": "e39e8f82",
   "metadata": {},
   "outputs": [],
   "source": [
    "from sklearn.compose import ColumnTransformer\n",
    "from sklearn.preprocessing import OneHotEncoder"
   ]
  },
  {
   "cell_type": "code",
   "execution_count": 309,
   "id": "69e0bf30",
   "metadata": {},
   "outputs": [],
   "source": [
    "ct1 = ColumnTransformer(transformers=[('encoder', OneHotEncoder(), [1,3,4])], remainder='passthrough')"
   ]
  },
  {
   "cell_type": "code",
   "execution_count": 310,
   "id": "9d72cbe4",
   "metadata": {},
   "outputs": [],
   "source": [
    "X=ct1.fit_transform(X)\n",
    "\n",
    "\n"
   ]
  },
  {
   "cell_type": "code",
   "execution_count": 311,
   "id": "103ab2a1",
   "metadata": {},
   "outputs": [
    {
     "data": {
      "text/plain": [
       "array([[1.0, 0.0, 1.0, ..., 0.0, 46, 33.44],\n",
       "       [1.0, 0.0, 1.0, ..., 0.0, 37, 27.74],\n",
       "       [0.0, 1.0, 1.0, ..., 0.0, 37, 29.83],\n",
       "       ...,\n",
       "       [1.0, 0.0, 1.0, ..., 0.0, 18, 36.85],\n",
       "       [1.0, 0.0, 1.0, ..., 1.0, 21, 25.8],\n",
       "       [1.0, 0.0, 0.0, ..., 0.0, 61, 29.07]], dtype=object)"
      ]
     },
     "execution_count": 311,
     "metadata": {},
     "output_type": "execute_result"
    }
   ],
   "source": [
    "X"
   ]
  },
  {
   "cell_type": "code",
   "execution_count": 312,
   "id": "a9ac765a",
   "metadata": {},
   "outputs": [],
   "source": [
    "from sklearn.model_selection import train_test_split\n",
    "X_train, X_test, y_train, y_test = train_test_split(X, y, test_size = 0.2, random_state = 4)"
   ]
  },
  {
   "cell_type": "code",
   "execution_count": 313,
   "id": "2e2f134a",
   "metadata": {},
   "outputs": [],
   "source": [
    "from sklearn.preprocessing import StandardScaler\n",
    "sc = StandardScaler(with_mean=False)\n",
    "X_train = sc.fit_transform(X_train)\n",
    "X_test = sc.transform(X_test)"
   ]
  },
  {
   "cell_type": "code",
   "execution_count": 322,
   "id": "0ce45e89",
   "metadata": {},
   "outputs": [
    {
     "data": {
      "text/plain": [
       "SVR(kernel='linear')"
      ]
     },
     "execution_count": 322,
     "metadata": {},
     "output_type": "execute_result"
    }
   ],
   "source": [
    "from sklearn.svm import SVR\n",
    "regressor = SVR(kernel = 'linear')\n",
    "regressor.fit(X_train, y_train)"
   ]
  },
  {
   "cell_type": "code",
   "execution_count": 323,
   "id": "16f16cd5",
   "metadata": {},
   "outputs": [],
   "source": [
    "y_pred=regressor.predict(X_test)"
   ]
  },
  {
   "cell_type": "code",
   "execution_count": 324,
   "id": "e9e517cb",
   "metadata": {},
   "outputs": [
    {
     "name": "stdout",
     "output_type": "stream",
     "text": [
      "[[ 7990.49996603  1242.816     ]\n",
      " [11738.85031637 19594.80965   ]\n",
      " [12249.78886068 22412.6485    ]\n",
      " [ 9617.87670507 10594.2257    ]\n",
      " [ 9755.8043585  13457.9608    ]\n",
      " [ 9020.23373246  6849.026     ]\n",
      " [ 8096.46783154  2150.469     ]\n",
      " [ 8392.3330026   5693.4305    ]\n",
      " [ 8501.99509999  2867.1196    ]\n",
      " [11064.65438472 19107.7796    ]\n",
      " [ 8539.29532952 17128.42608   ]\n",
      " [ 8208.74223688  1909.52745   ]\n",
      " [ 8898.55934128 19214.70553   ]\n",
      " [ 8898.11050656  6593.5083    ]\n",
      " [ 8480.44068893  4527.18295   ]\n",
      " [ 8155.29473261  1634.5734    ]\n",
      " [ 9459.14144068  9140.951     ]\n",
      " [ 7941.4386438   1731.677     ]\n",
      " [ 9601.95346001 12265.5069    ]\n",
      " [ 8354.44455699 22395.74424   ]\n",
      " [ 9247.8017892   8283.6807    ]\n",
      " [ 8471.17014098  3947.4131    ]\n",
      " [12113.01658295 24873.3849    ]\n",
      " [ 8170.1925012   2730.10785   ]\n",
      " [ 8811.83890065  5428.7277    ]\n",
      " [ 8809.5686435   6117.4945    ]\n",
      " [ 9275.18843201 32108.66282   ]\n",
      " [10786.60640406 38792.6856    ]\n",
      " [11180.38698843 36837.467     ]\n",
      " [11393.53211935 38415.474     ]\n",
      " [ 8223.68238406  2203.73595   ]\n",
      " [ 9670.30662359 11946.6259    ]\n",
      " [ 9805.0813373  12323.936     ]\n",
      " [12328.65545985 27808.7251    ]\n",
      " [ 8688.54044405  4463.2051    ]\n",
      " [ 8510.81765788  3277.161     ]\n",
      " [ 8624.69816885  6059.173     ]\n",
      " [ 8567.45813881  5138.2567    ]\n",
      " [12301.5961928  29141.3603    ]\n",
      " [ 8173.84881562 13126.67745   ]\n",
      " [11456.85845202 21082.16      ]\n",
      " [ 9355.09094983  7935.29115   ]\n",
      " [ 9779.40126366 13224.05705   ]\n",
      " [ 9153.8300625   8277.523     ]\n",
      " [ 9908.13560048 12982.8747    ]\n",
      " [ 8533.06956816  3366.6697    ]\n",
      " [ 8400.00652005  3577.999     ]\n",
      " [ 8260.79597136  3176.2877    ]\n",
      " [ 8070.46959166  2801.2588    ]\n",
      " [ 9187.839661    9644.2525    ]\n",
      " [ 9818.27968328 16455.70785   ]\n",
      " [ 8062.40334103  1252.407     ]\n",
      " [11698.04626653 19798.05455   ]\n",
      " [ 9384.06017454  9800.8882    ]\n",
      " [ 8446.47604776  2866.091     ]\n",
      " [11695.26017355 39725.51805   ]\n",
      " [ 8847.40046302  5846.9176    ]\n",
      " [ 9115.13187249  8233.0975    ]\n",
      " [10837.44120217 18328.2381    ]\n",
      " [11701.99081888 43753.33705   ]\n",
      " [ 7912.26046264  1727.785     ]\n",
      " [ 8686.65600182  5266.3656    ]\n",
      " [ 8263.31075675  2302.3       ]\n",
      " [10819.95799323 34166.273     ]\n",
      " [ 8231.97111915  1149.3959    ]\n",
      " [ 8154.2234059  14426.07385   ]\n",
      " [11782.10351972 40720.55105   ]\n",
      " [ 9705.49375231 11576.13      ]\n",
      " [ 9977.75980433 14418.2804    ]\n",
      " [ 8124.16421519  1639.5631    ]\n",
      " [ 8965.73044627  7986.47525   ]\n",
      " [ 8599.42938351  4058.1161    ]\n",
      " [ 9027.32395018  7077.1894    ]\n",
      " [ 8302.88291645  1682.597     ]\n",
      " [10719.0031602  17352.6803    ]\n",
      " [ 9378.84539324  9863.4718    ]\n",
      " [ 8476.55105369  3062.50825   ]\n",
      " [11452.07319749 37742.5757    ]\n",
      " [12185.84442784 46255.1125    ]\n",
      " [ 8960.78057625  7985.815     ]\n",
      " [ 8393.66760354  3956.07145   ]\n",
      " [ 9548.65171637 10797.3362    ]\n",
      " [ 9354.58552499 10355.641     ]\n",
      " [11982.37898859 24393.6224    ]\n",
      " [10000.25107092 31620.00106   ]\n",
      " [10706.62297999 36898.73308   ]\n",
      " [ 8617.58888025  5209.57885   ]\n",
      " [ 8123.66372303  2134.9015    ]\n",
      " [ 9532.88239309 25333.33284   ]\n",
      " [ 9666.54368638 24513.09126   ]\n",
      " [ 9667.73852882 12146.971     ]\n",
      " [ 8283.23668951  3861.20965   ]\n",
      " [ 8517.86863106  3757.8448    ]\n",
      " [ 9113.0757749   8023.13545   ]\n",
      " [ 9603.31540226 29186.48236   ]\n",
      " [ 8995.07109835  8211.1002    ]\n",
      " [ 9963.00770195 13405.3903    ]\n",
      " [ 8449.9666105   4134.08245   ]\n",
      " [ 9259.61436943 10118.424     ]\n",
      " [10640.50983744 14711.7438    ]\n",
      " [ 8769.45303621  5836.5204    ]\n",
      " [ 9372.91048189  9704.66805   ]\n",
      " [ 8714.60579174  6653.7886    ]\n",
      " [ 8502.32166445  4827.90495   ]\n",
      " [11900.70062813 23887.6627    ]\n",
      " [ 8465.3216454   2899.48935   ]\n",
      " [ 8491.46895598  4149.736     ]\n",
      " [ 9016.05832254  7421.19455   ]\n",
      " [ 8404.15837286  3044.2133    ]\n",
      " [12171.21609272 27533.9129    ]\n",
      " [ 9132.00328719  7740.337     ]\n",
      " [ 8730.21485798  5272.1758    ]\n",
      " [ 8752.0420315   5383.536     ]\n",
      " [12410.70409044 47291.055     ]\n",
      " [ 9503.51419858 11837.16      ]\n",
      " [ 9314.92815905  9630.397     ]\n",
      " [11783.08243516 25309.489     ]\n",
      " [ 9526.16769076  9957.7216    ]\n",
      " [ 8905.41219841  5397.6167    ]\n",
      " [ 9653.6745652  12029.2867    ]\n",
      " [ 9824.66570168 11938.25595   ]\n",
      " [ 9453.81398404  8342.90875   ]\n",
      " [ 9397.70309121  9634.538     ]\n",
      " [11281.83957376 55135.40209   ]\n",
      " [12201.04437761 43813.8661    ]\n",
      " [ 9297.45734193 12797.20962   ]\n",
      " [ 8810.71941541 27375.90478   ]\n",
      " [ 9762.98129578 12648.7034    ]\n",
      " [11230.08264742 37079.372     ]\n",
      " [10791.30254913 13747.87235   ]\n",
      " [11662.80614712 21677.28345   ]\n",
      " [ 9146.33594631  8538.28845   ]\n",
      " [ 8757.60544615  6799.458     ]\n",
      " [ 9637.02883617 12622.1795    ]\n",
      " [ 8901.67727117  6600.361     ]\n",
      " [ 8855.10744767  6123.5688    ]\n",
      " [ 9471.05783049 12044.342     ]\n",
      " [ 9477.06793529 24476.47851   ]\n",
      " [ 8256.47610475  2055.3249    ]\n",
      " [ 8263.33566199  2850.68375   ]\n",
      " [ 9531.73396284 11345.519     ]\n",
      " [ 8813.09830813  5028.1466    ]\n",
      " [ 9162.27919729  8527.532     ]\n",
      " [11013.54522046 36124.5737    ]\n",
      " [11762.34193201 23065.4207    ]\n",
      " [12140.59100014 41097.16175   ]\n",
      " [ 9588.52010999 14382.70905   ]\n",
      " [ 8837.37845273  7228.21565   ]\n",
      " [ 8097.85569361  1131.5066    ]\n",
      " [11901.49142944 41034.2214    ]\n",
      " [ 8563.81362092  4738.2682    ]\n",
      " [ 8640.24683357  4074.4537    ]\n",
      " [10941.77805681 37165.1638    ]\n",
      " [ 9889.78887023 20709.02034   ]\n",
      " [ 8279.12092827  2211.13075   ]\n",
      " [ 9354.97789737 10806.839     ]\n",
      " [ 8595.70354628  5003.853     ]\n",
      " [12122.69872298 47462.894     ]\n",
      " [ 9197.75534403  6837.3687    ]\n",
      " [11529.80390492 40103.89      ]\n",
      " [ 8942.44027568  8162.71625   ]\n",
      " [ 9082.18881067  7633.7206    ]\n",
      " [ 8545.37948758  4350.5144    ]\n",
      " [ 9719.78770775 13430.265     ]\n",
      " [12436.75603791 47928.03      ]\n",
      " [11032.58324244 17663.1442    ]\n",
      " [12565.51261962 49577.6624    ]\n",
      " [10897.22976752 33732.6867    ]\n",
      " [ 8143.83187572  1633.0444    ]\n",
      " [ 9005.5445221   8252.2843    ]\n",
      " [ 8185.82046847  2566.4707    ]\n",
      " [11743.2091571  24535.69855   ]\n",
      " [ 8503.49546748 18157.876     ]\n",
      " [ 9111.69301542  8232.6388    ]\n",
      " [ 9837.24998725 14590.63205   ]\n",
      " [12554.71619747 29523.1656    ]\n",
      " [ 8644.87792097  4846.92015   ]\n",
      " [ 9546.29625298 10450.552     ]\n",
      " [10818.36053116 18033.9679    ]\n",
      " [ 8761.45389339  3935.1799    ]\n",
      " [ 8840.13325905  5227.98875   ]\n",
      " [ 8675.67632488  5972.378     ]\n",
      " [ 9738.8666473  14256.1928    ]\n",
      " [ 8091.58152219  1256.299     ]\n",
      " [ 8798.21753918  4762.329     ]\n",
      " [ 9347.11190734  9225.2564    ]\n",
      " [10801.31585741 33907.548     ]\n",
      " [ 9381.87456571 10848.1343    ]\n",
      " [12493.46732048 47896.79135   ]\n",
      " [12315.31097395 47496.49445   ]\n",
      " [ 9250.71344807 19144.57652   ]\n",
      " [ 8837.2879156   6710.1919    ]\n",
      " [ 9550.47086647 11840.77505   ]\n",
      " [11219.25334108 40932.4295    ]\n",
      " [ 8150.58483528  1727.54      ]\n",
      " [ 9339.61394847 11741.726     ]\n",
      " [11574.82477083 18767.7377    ]\n",
      " [10824.98167117 35595.5898    ]\n",
      " [ 9718.60023408 10982.5013    ]\n",
      " [ 8245.8015064   2789.0574    ]\n",
      " [ 8195.47363012  1704.5681    ]\n",
      " [ 8406.30554846  4504.6624    ]\n",
      " [ 8612.69332802  5116.5004    ]\n",
      " [12334.5507114  46130.5265    ]\n",
      " [11816.96336708 23306.547     ]\n",
      " [ 9804.01031439 13390.559     ]\n",
      " [ 9658.3187824  12129.61415   ]\n",
      " [ 9287.21297496  8534.6718    ]\n",
      " [ 8622.1806287   4949.7587    ]\n",
      " [ 8792.10438383  4399.731     ]\n",
      " [ 8957.89261713  7623.518     ]\n",
      " [ 8841.92795036  6238.298     ]\n",
      " [11349.35632026 38282.7495    ]\n",
      " [ 8237.76644802  1972.95      ]\n",
      " [ 8398.50390531  2395.17155   ]\n",
      " [ 8096.70940792  1720.3537    ]\n",
      " [ 9647.80488755 11093.6229    ]\n",
      " [ 9833.96335386 12979.358     ]\n",
      " [ 8228.14277224  1708.92575   ]\n",
      " [ 8605.33327861  5257.50795   ]\n",
      " [ 8175.64286338  1646.4297    ]\n",
      " [ 8133.26463813  1261.859     ]\n",
      " [11665.72175135 22331.5668    ]\n",
      " [ 8119.71762545 23082.95533   ]\n",
      " [ 8234.5720981   4561.1885    ]\n",
      " [ 9772.5960242  14119.62      ]\n",
      " [ 9118.4718193   6079.6715    ]\n",
      " [ 9759.41768414 13919.8229    ]\n",
      " [ 9197.08969551  8932.084     ]\n",
      " [11432.11264907 19444.2658    ]\n",
      " [ 8463.47022131  2322.6218    ]\n",
      " [11240.33092639 38746.3551    ]\n",
      " [ 8811.60784197  6112.35295   ]\n",
      " [ 9195.99051172  8302.53565   ]\n",
      " [ 9695.64966331 11856.4115    ]\n",
      " [ 8525.7430193  17626.23951   ]\n",
      " [ 8384.75783751 18804.7524    ]\n",
      " [ 9255.26249925  8116.68      ]\n",
      " [ 8175.5726026  26018.95052   ]\n",
      " [10703.77461135 17085.2676    ]\n",
      " [ 9849.65017338 14474.675     ]\n",
      " [ 8203.93722178  2842.76075   ]\n",
      " [ 8529.06742133  3659.346     ]\n",
      " [11047.63456796 18246.4955    ]\n",
      " [ 9173.89676216 26140.3603    ]\n",
      " [ 8546.44026323  2727.3951    ]\n",
      " [ 8691.83693053 20277.80751   ]\n",
      " [ 9249.6642236   8603.8234    ]\n",
      " [ 8032.09663286  1627.28245   ]\n",
      " [ 8661.85179308  6184.2994    ]\n",
      " [ 9163.65005353 10156.7832    ]\n",
      " [ 8285.49100367  2457.21115   ]\n",
      " [10030.66589888 13974.45555   ]\n",
      " [ 8910.69084678  8017.06115   ]\n",
      " [11094.80968053 38511.6283    ]\n",
      " [11698.89799132 43896.3763    ]\n",
      " [ 8278.68576421 12609.88702   ]\n",
      " [ 9026.34489208  5699.8375    ]\n",
      " [11670.77844125 38998.546     ]\n",
      " [ 9096.40208207  8428.0693    ]\n",
      " [ 9184.22439192  9249.4952    ]\n",
      " [ 9684.3281142  12644.589     ]\n",
      " [ 8933.77011747  7682.67      ]]\n"
     ]
    }
   ],
   "source": [
    "print(np.concatenate((y_pred.reshape(len(y_pred),1), y_test.reshape(len(y_test),1)),1))\n"
   ]
  },
  {
   "cell_type": "code",
   "execution_count": 325,
   "id": "3a7dc83b",
   "metadata": {},
   "outputs": [],
   "source": [
    "from sklearn.metrics import r2_score,mean_squared_error,explained_variance_score\n"
   ]
  },
  {
   "cell_type": "code",
   "execution_count": 326,
   "id": "f1dca4cc",
   "metadata": {},
   "outputs": [
    {
     "name": "stdout",
     "output_type": "stream",
     "text": [
      "0.023956295394915395\n"
     ]
    }
   ],
   "source": [
    "print(r2_score(y_test,y_pred))\n"
   ]
  },
  {
   "cell_type": "code",
   "execution_count": 327,
   "id": "38595143",
   "metadata": {},
   "outputs": [
    {
     "name": "stdout",
     "output_type": "stream",
     "text": [
      "12463.21834777753\n",
      "0.15922896280909227\n"
     ]
    }
   ],
   "source": [
    "import math\n",
    "print(math.sqrt(mean_squared_error(y_test,y_pred)))\n",
    "print(explained_variance_score(y_test,y_pred))"
   ]
  },
  {
   "cell_type": "code",
   "execution_count": 328,
   "id": "d6c7a915",
   "metadata": {},
   "outputs": [],
   "source": [
    "from sklearn.model_selection import cross_val_score\n",
    "from sklearn.model_selection import RepeatedKFold\n",
    "cv = RepeatedKFold(n_splits=10, n_repeats=3, random_state=1)\n",
    "n_scores = cross_val_score(regressor, X_test, y_test, scoring='r2', cv=cv, n_jobs=-1, error_score='raise')"
   ]
  },
  {
   "cell_type": "code",
   "execution_count": 329,
   "id": "cca2bf89",
   "metadata": {},
   "outputs": [
    {
     "name": "stdout",
     "output_type": "stream",
     "text": [
      "r2: -0.097 (0.116)\n"
     ]
    }
   ],
   "source": [
    "print('r2: %.3f (%.3f)' % (np.mean(n_scores), np.std(n_scores)))\n"
   ]
  },
  {
   "cell_type": "code",
   "execution_count": null,
   "id": "c1ec9897",
   "metadata": {},
   "outputs": [],
   "source": []
  },
  {
   "cell_type": "code",
   "execution_count": null,
   "id": "e41f639a",
   "metadata": {},
   "outputs": [],
   "source": []
  }
 ],
 "metadata": {
  "kernelspec": {
   "display_name": "Python 3",
   "language": "python",
   "name": "python3"
  },
  "language_info": {
   "codemirror_mode": {
    "name": "ipython",
    "version": 3
   },
   "file_extension": ".py",
   "mimetype": "text/x-python",
   "name": "python",
   "nbconvert_exporter": "python",
   "pygments_lexer": "ipython3",
   "version": "3.8.3"
  }
 },
 "nbformat": 4,
 "nbformat_minor": 5
}
