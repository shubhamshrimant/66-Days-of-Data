{
 "cells": [
  {
   "cell_type": "code",
   "execution_count": null,
   "id": "afad8aa8",
   "metadata": {},
   "outputs": [],
   "source": [
    "#Finding mean,median,mode,standard deviation,variance, and Inter-Quartile range"
   ]
  },
  {
   "cell_type": "code",
   "execution_count": 1,
   "id": "d385bdd0",
   "metadata": {},
   "outputs": [],
   "source": [
    "import math"
   ]
  },
  {
   "cell_type": "code",
   "execution_count": 29,
   "id": "bbd9a570",
   "metadata": {},
   "outputs": [],
   "source": [
    "import numpy as np"
   ]
  },
  {
   "cell_type": "code",
   "execution_count": 39,
   "id": "0951a02b",
   "metadata": {},
   "outputs": [],
   "source": [
    "list1=[1,2,3,4,5]  \n",
    "list2=[10,4,2,7,5,5]"
   ]
  },
  {
   "cell_type": "code",
   "execution_count": null,
   "id": "2f67409c",
   "metadata": {},
   "outputs": [],
   "source": [
    "#Mean"
   ]
  },
  {
   "cell_type": "code",
   "execution_count": 8,
   "id": "ede640d2",
   "metadata": {},
   "outputs": [],
   "source": [
    "def mean1(lst):\n",
    "    sum=0\n",
    "    for i in lst:\n",
    "        sum+=i\n",
    "        \n",
    "    m=sum/len(lst)\n",
    "    return m\n",
    "\n"
   ]
  },
  {
   "cell_type": "code",
   "execution_count": 9,
   "id": "5d85dfb1",
   "metadata": {},
   "outputs": [
    {
     "name": "stdout",
     "output_type": "stream",
     "text": [
      "3.0\n"
     ]
    }
   ],
   "source": [
    "print(mean1(list1))"
   ]
  },
  {
   "cell_type": "code",
   "execution_count": null,
   "id": "4c99d2b8",
   "metadata": {},
   "outputs": [],
   "source": [
    "#Median"
   ]
  },
  {
   "cell_type": "code",
   "execution_count": 27,
   "id": "5ae8d752",
   "metadata": {},
   "outputs": [],
   "source": [
    "def median1(lst):\n",
    "    median=0\n",
    "    \n",
    "    lst.sort()\n",
    "    if len(lst)%2!=0:\n",
    "        mid=int((0+len(lst))/2)\n",
    "        median=lst[mid]\n",
    "    else:\n",
    "        mid1=int((0+len(lst))/2)\n",
    "        mid2=mid1-1\n",
    "        median=(lst[mid1]+lst[mid2])/2\n",
    "    return median"
   ]
  },
  {
   "cell_type": "code",
   "execution_count": 28,
   "id": "e745b874",
   "metadata": {},
   "outputs": [
    {
     "name": "stdout",
     "output_type": "stream",
     "text": [
      "6.0\n"
     ]
    }
   ],
   "source": [
    "print(median1(list2))"
   ]
  },
  {
   "cell_type": "code",
   "execution_count": null,
   "id": "cb52e685",
   "metadata": {},
   "outputs": [],
   "source": [
    "#mean and median using numpy"
   ]
  },
  {
   "cell_type": "code",
   "execution_count": 31,
   "id": "d5545723",
   "metadata": {},
   "outputs": [],
   "source": [
    "a=np.array(list1)"
   ]
  },
  {
   "cell_type": "code",
   "execution_count": 32,
   "id": "b89e0a86",
   "metadata": {},
   "outputs": [
    {
     "data": {
      "text/plain": [
       "3.0"
      ]
     },
     "execution_count": 32,
     "metadata": {},
     "output_type": "execute_result"
    }
   ],
   "source": [
    "np.mean(a)"
   ]
  },
  {
   "cell_type": "code",
   "execution_count": 33,
   "id": "91eac901",
   "metadata": {},
   "outputs": [],
   "source": [
    "b=np.array(list2)"
   ]
  },
  {
   "cell_type": "code",
   "execution_count": 34,
   "id": "254146ce",
   "metadata": {},
   "outputs": [
    {
     "data": {
      "text/plain": [
       "6.0"
      ]
     },
     "execution_count": 34,
     "metadata": {},
     "output_type": "execute_result"
    }
   ],
   "source": [
    "np.median(b)"
   ]
  },
  {
   "cell_type": "code",
   "execution_count": null,
   "id": "8b507a0e",
   "metadata": {},
   "outputs": [],
   "source": [
    "#Mode"
   ]
  },
  {
   "cell_type": "code",
   "execution_count": 56,
   "id": "01762479",
   "metadata": {},
   "outputs": [],
   "source": [
    "def mode1(lst):\n",
    "    count=[]\n",
    "    count1=0\n",
    "    for i,j in enumerate(lst):\n",
    "        count.append([i,lst.count(j)])\n",
    "    v=max(count)[0]\n",
    "    return(lst[v])\n",
    "        "
   ]
  },
  {
   "cell_type": "code",
   "execution_count": 57,
   "id": "8044ed4a",
   "metadata": {},
   "outputs": [
    {
     "name": "stdout",
     "output_type": "stream",
     "text": [
      "5\n"
     ]
    }
   ],
   "source": [
    "print(mode1(list2))"
   ]
  },
  {
   "cell_type": "code",
   "execution_count": 60,
   "id": "0a90e463",
   "metadata": {},
   "outputs": [],
   "source": [
    "def mode2(lst):\n",
    "    count=[]\n",
    "    count1=0\n",
    "    for i in (lst):\n",
    "        count.append(lst.count(i))\n",
    "    v=max(count)\n",
    "    ind=count.index(v)\n",
    "    return lst[ind]"
   ]
  },
  {
   "cell_type": "code",
   "execution_count": 61,
   "id": "5760e39c",
   "metadata": {},
   "outputs": [
    {
     "name": "stdout",
     "output_type": "stream",
     "text": [
      "5\n"
     ]
    }
   ],
   "source": [
    "print(mode2(list2))"
   ]
  },
  {
   "cell_type": "code",
   "execution_count": null,
   "id": "65f15fe6",
   "metadata": {},
   "outputs": [],
   "source": [
    "#Standard Deviation"
   ]
  },
  {
   "cell_type": "code",
   "execution_count": 66,
   "id": "1695350d",
   "metadata": {},
   "outputs": [],
   "source": [
    "def sd(lst):\n",
    "    m=mean1(lst)\n",
    "    sum=0\n",
    "    for i in lst:\n",
    "        sum+=(i-m)**2\n",
    "    n=len(lst)\n",
    "    sd1=(sum/(n))**0.5\n",
    "    return sd1"
   ]
  },
  {
   "cell_type": "code",
   "execution_count": 67,
   "id": "8f30b0c4",
   "metadata": {},
   "outputs": [
    {
     "name": "stdout",
     "output_type": "stream",
     "text": [
      "1.4142135623730951\n"
     ]
    }
   ],
   "source": [
    "print(sd(list1))"
   ]
  },
  {
   "cell_type": "code",
   "execution_count": null,
   "id": "bdb3165c",
   "metadata": {},
   "outputs": [],
   "source": [
    "#Standard Deviation using numpy"
   ]
  },
  {
   "cell_type": "code",
   "execution_count": 65,
   "id": "6ebb8f7d",
   "metadata": {},
   "outputs": [
    {
     "data": {
      "text/plain": [
       "1.4142135623730951"
      ]
     },
     "execution_count": 65,
     "metadata": {},
     "output_type": "execute_result"
    }
   ],
   "source": [
    "np.std(a)"
   ]
  },
  {
   "cell_type": "code",
   "execution_count": 69,
   "id": "a3becc28",
   "metadata": {},
   "outputs": [
    {
     "data": {
      "text/plain": [
       "0.5"
      ]
     },
     "execution_count": 69,
     "metadata": {},
     "output_type": "execute_result"
    }
   ],
   "source": [
    "np.std(a[0:2])"
   ]
  },
  {
   "cell_type": "code",
   "execution_count": 70,
   "id": "7d94d9f1",
   "metadata": {},
   "outputs": [],
   "source": [
    "#variance=(standard_deviation)**2"
   ]
  },
  {
   "cell_type": "code",
   "execution_count": 71,
   "id": "823002d7",
   "metadata": {},
   "outputs": [],
   "source": [
    "variance=(sd(list1))**2"
   ]
  },
  {
   "cell_type": "code",
   "execution_count": 72,
   "id": "6530edaa",
   "metadata": {},
   "outputs": [
    {
     "data": {
      "text/plain": [
       "2.0000000000000004"
      ]
     },
     "execution_count": 72,
     "metadata": {},
     "output_type": "execute_result"
    }
   ],
   "source": [
    "variance"
   ]
  },
  {
   "cell_type": "code",
   "execution_count": null,
   "id": "47b7531e",
   "metadata": {},
   "outputs": [],
   "source": [
    "#IQR"
   ]
  },
  {
   "cell_type": "code",
   "execution_count": 74,
   "id": "2da79032",
   "metadata": {},
   "outputs": [],
   "source": [
    "def IQR(lst):\n",
    "    lst.sort()\n",
    "    med=median1(lst)\n",
    "    \n",
    "    left=lst[:med]\n",
    "    right=lst[med+1:]\n",
    "    \n",
    "    leftmean=mean1(left)\n",
    "    rightmean=mean1(right)\n",
    "    \n",
    "    iqr=rightmean-leftmean\n",
    "    \n",
    "    return iqr\n",
    "    "
   ]
  },
  {
   "cell_type": "code",
   "execution_count": 76,
   "id": "6a492e98",
   "metadata": {},
   "outputs": [
    {
     "name": "stdout",
     "output_type": "stream",
     "text": [
      "3.0\n"
     ]
    }
   ],
   "source": [
    "print(IQR(list1))"
   ]
  },
  {
   "cell_type": "code",
   "execution_count": null,
   "id": "42b87707",
   "metadata": {},
   "outputs": [],
   "source": []
  }
 ],
 "metadata": {
  "kernelspec": {
   "display_name": "Python 3",
   "language": "python",
   "name": "python3"
  },
  "language_info": {
   "codemirror_mode": {
    "name": "ipython",
    "version": 3
   },
   "file_extension": ".py",
   "mimetype": "text/x-python",
   "name": "python",
   "nbconvert_exporter": "python",
   "pygments_lexer": "ipython3",
   "version": "3.8.3"
  }
 },
 "nbformat": 4,
 "nbformat_minor": 5
}
