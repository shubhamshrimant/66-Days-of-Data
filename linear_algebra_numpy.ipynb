{
 "cells": [
  {
   "cell_type": "code",
   "execution_count": 1,
   "id": "7572f9d1",
   "metadata": {},
   "outputs": [],
   "source": [
    "import numpy as np"
   ]
  },
  {
   "cell_type": "code",
   "execution_count": 2,
   "id": "c7bf8c57",
   "metadata": {},
   "outputs": [],
   "source": [
    "x=np.array([1,2,3,4,5])"
   ]
  },
  {
   "cell_type": "code",
   "execution_count": 3,
   "id": "a75cdd9f",
   "metadata": {},
   "outputs": [
    {
     "name": "stdout",
     "output_type": "stream",
     "text": [
      "[1 2 3 4 5]\n"
     ]
    }
   ],
   "source": [
    "print(x)"
   ]
  },
  {
   "cell_type": "code",
   "execution_count": 5,
   "id": "8c543a03",
   "metadata": {},
   "outputs": [
    {
     "name": "stdout",
     "output_type": "stream",
     "text": [
      "<class 'numpy.ndarray'>\n"
     ]
    }
   ],
   "source": [
    "print(type(x))"
   ]
  },
  {
   "cell_type": "code",
   "execution_count": 38,
   "id": "76ea04aa",
   "metadata": {},
   "outputs": [],
   "source": [
    "y=np.array([[1,2,3],[4,5,6]])"
   ]
  },
  {
   "cell_type": "code",
   "execution_count": 39,
   "id": "97a7b198",
   "metadata": {},
   "outputs": [
    {
     "name": "stdout",
     "output_type": "stream",
     "text": [
      "[[1 2 3]\n",
      " [4 5 6]]\n"
     ]
    }
   ],
   "source": [
    "print(y)"
   ]
  },
  {
   "cell_type": "code",
   "execution_count": 40,
   "id": "8d1f74b4",
   "metadata": {},
   "outputs": [],
   "source": [
    "y=np.matrix(y)"
   ]
  },
  {
   "cell_type": "code",
   "execution_count": 42,
   "id": "03007ac7",
   "metadata": {},
   "outputs": [],
   "source": [
    "#print(np.dot(x,y))"
   ]
  },
  {
   "cell_type": "code",
   "execution_count": 43,
   "id": "907e8ed6",
   "metadata": {},
   "outputs": [],
   "source": [
    "z=np.array([[7,8],[9,10],[11,12]])"
   ]
  },
  {
   "cell_type": "code",
   "execution_count": 44,
   "id": "0249354f",
   "metadata": {},
   "outputs": [],
   "source": [
    "z=np.matrix(z)"
   ]
  },
  {
   "cell_type": "code",
   "execution_count": 47,
   "id": "6a54d1cd",
   "metadata": {},
   "outputs": [],
   "source": [
    "import time\n"
   ]
  },
  {
   "cell_type": "code",
   "execution_count": 52,
   "id": "77d874cb",
   "metadata": {},
   "outputs": [
    {
     "name": "stdout",
     "output_type": "stream",
     "text": [
      "[[ 58  64]\n",
      " [139 154]]\n",
      "--- 0.0 seconds ---\n"
     ]
    }
   ],
   "source": [
    "\n",
    "print(y*z)\n"
   ]
  },
  {
   "cell_type": "code",
   "execution_count": 51,
   "id": "8f2420fb",
   "metadata": {},
   "outputs": [
    {
     "name": "stdout",
     "output_type": "stream",
     "text": [
      "--- 0.0 seconds ---\n",
      "[[ 58  64]\n",
      " [139 154]]\n"
     ]
    }
   ],
   "source": [
    "\n",
    "print(np.dot(y,z))"
   ]
  },
  {
   "cell_type": "code",
   "execution_count": 55,
   "id": "77ea7704",
   "metadata": {},
   "outputs": [],
   "source": [
    "a=np.array([5,4,3,2,1])"
   ]
  },
  {
   "cell_type": "code",
   "execution_count": 56,
   "id": "a9344674",
   "metadata": {},
   "outputs": [
    {
     "data": {
      "text/plain": [
       "array([5, 8, 9, 8, 5])"
      ]
     },
     "execution_count": 56,
     "metadata": {},
     "output_type": "execute_result"
    }
   ],
   "source": [
    "a*x"
   ]
  },
  {
   "cell_type": "code",
   "execution_count": 58,
   "id": "97788d69",
   "metadata": {},
   "outputs": [
    {
     "data": {
      "text/plain": [
       "35"
      ]
     },
     "execution_count": 58,
     "metadata": {},
     "output_type": "execute_result"
    }
   ],
   "source": [
    "np.dot(a,x)"
   ]
  },
  {
   "cell_type": "code",
   "execution_count": 73,
   "id": "c5b6f3a7",
   "metadata": {},
   "outputs": [],
   "source": [
    "ss=np.concatenate((x.reshape(len(x),1),a.reshape(len(a),1)),1)"
   ]
  },
  {
   "cell_type": "code",
   "execution_count": 65,
   "id": "3fc02a5e",
   "metadata": {},
   "outputs": [
    {
     "name": "stdout",
     "output_type": "stream",
     "text": [
      "<class 'numpy.ndarray'>\n"
     ]
    }
   ],
   "source": [
    "print(type(x))"
   ]
  },
  {
   "cell_type": "code",
   "execution_count": 75,
   "id": "c1b517bb",
   "metadata": {},
   "outputs": [
    {
     "name": "stdout",
     "output_type": "stream",
     "text": [
      "(5, 2)\n"
     ]
    }
   ],
   "source": [
    "print(ss.shape)"
   ]
  },
  {
   "cell_type": "code",
   "execution_count": 76,
   "id": "b9195702",
   "metadata": {},
   "outputs": [
    {
     "name": "stdout",
     "output_type": "stream",
     "text": [
      "[[1 5]\n",
      " [2 4]\n",
      " [3 3]\n",
      " [4 2]\n",
      " [5 1]]\n"
     ]
    }
   ],
   "source": [
    "print(ss)"
   ]
  },
  {
   "cell_type": "code",
   "execution_count": 77,
   "id": "862ede20",
   "metadata": {},
   "outputs": [
    {
     "data": {
      "text/plain": [
       "array([ 7, 10])"
      ]
     },
     "execution_count": 77,
     "metadata": {},
     "output_type": "execute_result"
    }
   ],
   "source": [
    "np.diagonal(z)"
   ]
  },
  {
   "cell_type": "code",
   "execution_count": 78,
   "id": "09bedaaa",
   "metadata": {},
   "outputs": [
    {
     "name": "stdout",
     "output_type": "stream",
     "text": [
      "[[ 7  8]\n",
      " [ 9 10]\n",
      " [11 12]]\n"
     ]
    }
   ],
   "source": [
    "print(z)"
   ]
  },
  {
   "cell_type": "code",
   "execution_count": 90,
   "id": "5f4e8159",
   "metadata": {},
   "outputs": [
    {
     "data": {
      "text/plain": [
       "matrix([[ 7, 10]])"
      ]
     },
     "execution_count": 90,
     "metadata": {},
     "output_type": "execute_result"
    }
   ],
   "source": [
    "z.diagonal(0,0,1)"
   ]
  },
  {
   "cell_type": "code",
   "execution_count": 94,
   "id": "f77bb3c4",
   "metadata": {},
   "outputs": [],
   "source": [
    "a.sort()"
   ]
  },
  {
   "cell_type": "code",
   "execution_count": 92,
   "id": "51e7dc8f",
   "metadata": {},
   "outputs": [
    {
     "name": "stdout",
     "output_type": "stream",
     "text": [
      "[1 2 3 4 5]\n"
     ]
    }
   ],
   "source": [
    "print(a)"
   ]
  },
  {
   "cell_type": "code",
   "execution_count": 103,
   "id": "585f7023",
   "metadata": {},
   "outputs": [],
   "source": [
    "lst2=[34,17,51]\n"
   ]
  },
  {
   "cell_type": "code",
   "execution_count": 97,
   "id": "44d1f87b",
   "metadata": {},
   "outputs": [
    {
     "name": "stdout",
     "output_type": "stream",
     "text": [
      "[17, 34, 51]\n"
     ]
    }
   ],
   "source": [
    "print(sorted(lst2))"
   ]
  },
  {
   "cell_type": "code",
   "execution_count": 98,
   "id": "1461b837",
   "metadata": {},
   "outputs": [
    {
     "name": "stdout",
     "output_type": "stream",
     "text": [
      "[34, 17, 51]\n"
     ]
    }
   ],
   "source": [
    "print(lst2)"
   ]
  },
  {
   "cell_type": "code",
   "execution_count": 100,
   "id": "9045208b",
   "metadata": {},
   "outputs": [],
   "source": []
  },
  {
   "cell_type": "code",
   "execution_count": 104,
   "id": "3e428c96",
   "metadata": {},
   "outputs": [],
   "source": [
    "lst2=np.array(lst2)"
   ]
  },
  {
   "cell_type": "code",
   "execution_count": 108,
   "id": "bd55fe97",
   "metadata": {},
   "outputs": [
    {
     "data": {
      "text/plain": [
       "3"
      ]
     },
     "execution_count": 108,
     "metadata": {},
     "output_type": "execute_result"
    }
   ],
   "source": [
    "np.searchsorted(lst2,300)"
   ]
  },
  {
   "cell_type": "code",
   "execution_count": null,
   "id": "8183bedb",
   "metadata": {},
   "outputs": [],
   "source": []
  }
 ],
 "metadata": {
  "kernelspec": {
   "display_name": "Python 3",
   "language": "python",
   "name": "python3"
  },
  "language_info": {
   "codemirror_mode": {
    "name": "ipython",
    "version": 3
   },
   "file_extension": ".py",
   "mimetype": "text/x-python",
   "name": "python",
   "nbconvert_exporter": "python",
   "pygments_lexer": "ipython3",
   "version": "3.8.3"
  }
 },
 "nbformat": 4,
 "nbformat_minor": 5
}
