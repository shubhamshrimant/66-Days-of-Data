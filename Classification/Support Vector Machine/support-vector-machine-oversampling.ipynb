{
 "cells": [
  {
   "cell_type": "code",
   "execution_count": 1,
   "id": "17ecfe29",
   "metadata": {
    "_cell_guid": "b1076dfc-b9ad-4769-8c92-a6c4dae69d19",
    "_uuid": "8f2839f25d086af736a60e9eeb907d3b93b6e0e5",
    "execution": {
     "iopub.execute_input": "2021-11-11T12:27:47.297575Z",
     "iopub.status.busy": "2021-11-11T12:27:47.296682Z",
     "iopub.status.idle": "2021-11-11T12:27:48.234387Z",
     "shell.execute_reply": "2021-11-11T12:27:48.233710Z",
     "shell.execute_reply.started": "2021-11-11T12:25:03.138404Z"
    },
    "papermill": {
     "duration": 0.977148,
     "end_time": "2021-11-11T12:27:48.234574",
     "exception": false,
     "start_time": "2021-11-11T12:27:47.257426",
     "status": "completed"
    },
    "tags": []
   },
   "outputs": [],
   "source": [
    "import pandas as pd\n",
    "import numpy as np\n",
    "import matplotlib.pyplot as plt\n",
    "import seaborn as sns"
   ]
  },
  {
   "cell_type": "code",
   "execution_count": 2,
   "id": "88614d4c",
   "metadata": {
    "execution": {
     "iopub.execute_input": "2021-11-11T12:27:48.279647Z",
     "iopub.status.busy": "2021-11-11T12:27:48.278934Z",
     "iopub.status.idle": "2021-11-11T12:27:48.324090Z",
     "shell.execute_reply": "2021-11-11T12:27:48.324604Z",
     "shell.execute_reply.started": "2021-11-11T12:25:04.371026Z"
    },
    "papermill": {
     "duration": 0.069188,
     "end_time": "2021-11-11T12:27:48.324778",
     "exception": false,
     "start_time": "2021-11-11T12:27:48.255590",
     "status": "completed"
    },
    "tags": []
   },
   "outputs": [],
   "source": [
    "data=pd.read_csv(\"../input/machine-predictive-maintenance-classification/predictive_maintenance.csv\")"
   ]
  },
  {
   "cell_type": "code",
   "execution_count": 3,
   "id": "c9803ea9",
   "metadata": {
    "execution": {
     "iopub.execute_input": "2021-11-11T12:27:48.367550Z",
     "iopub.status.busy": "2021-11-11T12:27:48.366897Z",
     "iopub.status.idle": "2021-11-11T12:27:48.392715Z",
     "shell.execute_reply": "2021-11-11T12:27:48.393253Z",
     "shell.execute_reply.started": "2021-11-11T12:25:04.437619Z"
    },
    "papermill": {
     "duration": 0.048879,
     "end_time": "2021-11-11T12:27:48.393437",
     "exception": false,
     "start_time": "2021-11-11T12:27:48.344558",
     "status": "completed"
    },
    "tags": []
   },
   "outputs": [
    {
     "name": "stdout",
     "output_type": "stream",
     "text": [
      "<class 'pandas.core.frame.DataFrame'>\n",
      "RangeIndex: 10000 entries, 0 to 9999\n",
      "Data columns (total 10 columns):\n",
      " #   Column                   Non-Null Count  Dtype  \n",
      "---  ------                   --------------  -----  \n",
      " 0   UDI                      10000 non-null  int64  \n",
      " 1   Product ID               10000 non-null  object \n",
      " 2   Type                     10000 non-null  object \n",
      " 3   Air temperature [K]      10000 non-null  float64\n",
      " 4   Process temperature [K]  10000 non-null  float64\n",
      " 5   Rotational speed [rpm]   10000 non-null  int64  \n",
      " 6   Torque [Nm]              10000 non-null  float64\n",
      " 7   Tool wear [min]          10000 non-null  int64  \n",
      " 8   Target                   10000 non-null  int64  \n",
      " 9   Failure Type             10000 non-null  object \n",
      "dtypes: float64(3), int64(4), object(3)\n",
      "memory usage: 781.4+ KB\n"
     ]
    }
   ],
   "source": [
    "data.info()"
   ]
  },
  {
   "cell_type": "code",
   "execution_count": 4,
   "id": "46a36fa0",
   "metadata": {
    "execution": {
     "iopub.execute_input": "2021-11-11T12:27:48.437662Z",
     "iopub.status.busy": "2021-11-11T12:27:48.437045Z",
     "iopub.status.idle": "2021-11-11T12:27:48.443660Z",
     "shell.execute_reply": "2021-11-11T12:27:48.444182Z",
     "shell.execute_reply.started": "2021-11-11T12:25:04.474944Z"
    },
    "papermill": {
     "duration": 0.030469,
     "end_time": "2021-11-11T12:27:48.444360",
     "exception": false,
     "start_time": "2021-11-11T12:27:48.413891",
     "status": "completed"
    },
    "tags": []
   },
   "outputs": [
    {
     "data": {
      "text/plain": [
       "(10000, 10)"
      ]
     },
     "execution_count": 4,
     "metadata": {},
     "output_type": "execute_result"
    }
   ],
   "source": [
    "data.shape"
   ]
  },
  {
   "cell_type": "code",
   "execution_count": 5,
   "id": "e90290b9",
   "metadata": {
    "execution": {
     "iopub.execute_input": "2021-11-11T12:27:48.489930Z",
     "iopub.status.busy": "2021-11-11T12:27:48.487993Z",
     "iopub.status.idle": "2021-11-11T12:27:48.502240Z",
     "shell.execute_reply": "2021-11-11T12:27:48.502742Z",
     "shell.execute_reply.started": "2021-11-11T12:25:04.486716Z"
    },
    "papermill": {
     "duration": 0.037875,
     "end_time": "2021-11-11T12:27:48.502923",
     "exception": false,
     "start_time": "2021-11-11T12:27:48.465048",
     "status": "completed"
    },
    "tags": []
   },
   "outputs": [
    {
     "data": {
      "text/plain": [
       "UDI                        10000\n",
       "Product ID                 10000\n",
       "Type                           3\n",
       "Air temperature [K]           93\n",
       "Process temperature [K]       82\n",
       "Rotational speed [rpm]       941\n",
       "Torque [Nm]                  577\n",
       "Tool wear [min]              246\n",
       "Target                         2\n",
       "Failure Type                   6\n",
       "dtype: int64"
      ]
     },
     "execution_count": 5,
     "metadata": {},
     "output_type": "execute_result"
    }
   ],
   "source": [
    "data.nunique()"
   ]
  },
  {
   "cell_type": "code",
   "execution_count": 6,
   "id": "431e367f",
   "metadata": {
    "execution": {
     "iopub.execute_input": "2021-11-11T12:27:48.552596Z",
     "iopub.status.busy": "2021-11-11T12:27:48.551932Z",
     "iopub.status.idle": "2021-11-11T12:27:48.554635Z",
     "shell.execute_reply": "2021-11-11T12:27:48.554112Z",
     "shell.execute_reply.started": "2021-11-11T12:25:04.514412Z"
    },
    "papermill": {
     "duration": 0.029972,
     "end_time": "2021-11-11T12:27:48.554793",
     "exception": false,
     "start_time": "2021-11-11T12:27:48.524821",
     "status": "completed"
    },
    "tags": []
   },
   "outputs": [],
   "source": [
    "del data['UDI']\n",
    "del data['Product ID']"
   ]
  },
  {
   "cell_type": "code",
   "execution_count": 7,
   "id": "9bcf788d",
   "metadata": {
    "execution": {
     "iopub.execute_input": "2021-11-11T12:27:48.606722Z",
     "iopub.status.busy": "2021-11-11T12:27:48.606064Z",
     "iopub.status.idle": "2021-11-11T12:27:48.624145Z",
     "shell.execute_reply": "2021-11-11T12:27:48.625077Z",
     "shell.execute_reply.started": "2021-11-11T12:25:04.522012Z"
    },
    "papermill": {
     "duration": 0.044163,
     "end_time": "2021-11-11T12:27:48.625345",
     "exception": false,
     "start_time": "2021-11-11T12:27:48.581182",
     "status": "completed"
    },
    "tags": []
   },
   "outputs": [
    {
     "data": {
      "text/html": [
       "<div>\n",
       "<style scoped>\n",
       "    .dataframe tbody tr th:only-of-type {\n",
       "        vertical-align: middle;\n",
       "    }\n",
       "\n",
       "    .dataframe tbody tr th {\n",
       "        vertical-align: top;\n",
       "    }\n",
       "\n",
       "    .dataframe thead th {\n",
       "        text-align: right;\n",
       "    }\n",
       "</style>\n",
       "<table border=\"1\" class=\"dataframe\">\n",
       "  <thead>\n",
       "    <tr style=\"text-align: right;\">\n",
       "      <th></th>\n",
       "      <th>Type</th>\n",
       "      <th>Air temperature [K]</th>\n",
       "      <th>Process temperature [K]</th>\n",
       "      <th>Rotational speed [rpm]</th>\n",
       "      <th>Torque [Nm]</th>\n",
       "      <th>Tool wear [min]</th>\n",
       "      <th>Target</th>\n",
       "      <th>Failure Type</th>\n",
       "    </tr>\n",
       "  </thead>\n",
       "  <tbody>\n",
       "    <tr>\n",
       "      <th>0</th>\n",
       "      <td>M</td>\n",
       "      <td>298.1</td>\n",
       "      <td>308.6</td>\n",
       "      <td>1551</td>\n",
       "      <td>42.8</td>\n",
       "      <td>0</td>\n",
       "      <td>0</td>\n",
       "      <td>No Failure</td>\n",
       "    </tr>\n",
       "    <tr>\n",
       "      <th>1</th>\n",
       "      <td>L</td>\n",
       "      <td>298.2</td>\n",
       "      <td>308.7</td>\n",
       "      <td>1408</td>\n",
       "      <td>46.3</td>\n",
       "      <td>3</td>\n",
       "      <td>0</td>\n",
       "      <td>No Failure</td>\n",
       "    </tr>\n",
       "    <tr>\n",
       "      <th>2</th>\n",
       "      <td>L</td>\n",
       "      <td>298.1</td>\n",
       "      <td>308.5</td>\n",
       "      <td>1498</td>\n",
       "      <td>49.4</td>\n",
       "      <td>5</td>\n",
       "      <td>0</td>\n",
       "      <td>No Failure</td>\n",
       "    </tr>\n",
       "    <tr>\n",
       "      <th>3</th>\n",
       "      <td>L</td>\n",
       "      <td>298.2</td>\n",
       "      <td>308.6</td>\n",
       "      <td>1433</td>\n",
       "      <td>39.5</td>\n",
       "      <td>7</td>\n",
       "      <td>0</td>\n",
       "      <td>No Failure</td>\n",
       "    </tr>\n",
       "    <tr>\n",
       "      <th>4</th>\n",
       "      <td>L</td>\n",
       "      <td>298.2</td>\n",
       "      <td>308.7</td>\n",
       "      <td>1408</td>\n",
       "      <td>40.0</td>\n",
       "      <td>9</td>\n",
       "      <td>0</td>\n",
       "      <td>No Failure</td>\n",
       "    </tr>\n",
       "  </tbody>\n",
       "</table>\n",
       "</div>"
      ],
      "text/plain": [
       "  Type  Air temperature [K]  Process temperature [K]  Rotational speed [rpm]  \\\n",
       "0    M                298.1                    308.6                    1551   \n",
       "1    L                298.2                    308.7                    1408   \n",
       "2    L                298.1                    308.5                    1498   \n",
       "3    L                298.2                    308.6                    1433   \n",
       "4    L                298.2                    308.7                    1408   \n",
       "\n",
       "   Torque [Nm]  Tool wear [min]  Target Failure Type  \n",
       "0         42.8                0       0   No Failure  \n",
       "1         46.3                3       0   No Failure  \n",
       "2         49.4                5       0   No Failure  \n",
       "3         39.5                7       0   No Failure  \n",
       "4         40.0                9       0   No Failure  "
      ]
     },
     "execution_count": 7,
     "metadata": {},
     "output_type": "execute_result"
    }
   ],
   "source": [
    "data.head()"
   ]
  },
  {
   "cell_type": "code",
   "execution_count": 8,
   "id": "f10e3b96",
   "metadata": {
    "execution": {
     "iopub.execute_input": "2021-11-11T12:27:48.683986Z",
     "iopub.status.busy": "2021-11-11T12:27:48.682852Z",
     "iopub.status.idle": "2021-11-11T12:27:48.698966Z",
     "shell.execute_reply": "2021-11-11T12:27:48.698268Z",
     "shell.execute_reply.started": "2021-11-11T12:25:04.555342Z"
    },
    "papermill": {
     "duration": 0.044348,
     "end_time": "2021-11-11T12:27:48.699121",
     "exception": false,
     "start_time": "2021-11-11T12:27:48.654773",
     "status": "completed"
    },
    "tags": []
   },
   "outputs": [
    {
     "name": "stdout",
     "output_type": "stream",
     "text": [
      "<class 'pandas.core.frame.DataFrame'>\n",
      "RangeIndex: 10000 entries, 0 to 9999\n",
      "Data columns (total 8 columns):\n",
      " #   Column                   Non-Null Count  Dtype  \n",
      "---  ------                   --------------  -----  \n",
      " 0   Type                     10000 non-null  object \n",
      " 1   Air temperature [K]      10000 non-null  float64\n",
      " 2   Process temperature [K]  10000 non-null  float64\n",
      " 3   Rotational speed [rpm]   10000 non-null  int64  \n",
      " 4   Torque [Nm]              10000 non-null  float64\n",
      " 5   Tool wear [min]          10000 non-null  int64  \n",
      " 6   Target                   10000 non-null  int64  \n",
      " 7   Failure Type             10000 non-null  object \n",
      "dtypes: float64(3), int64(3), object(2)\n",
      "memory usage: 625.1+ KB\n"
     ]
    }
   ],
   "source": [
    "data.info()"
   ]
  },
  {
   "cell_type": "code",
   "execution_count": 9,
   "id": "2ff891db",
   "metadata": {
    "execution": {
     "iopub.execute_input": "2021-11-11T12:27:48.748026Z",
     "iopub.status.busy": "2021-11-11T12:27:48.747341Z",
     "iopub.status.idle": "2021-11-11T12:27:48.926446Z",
     "shell.execute_reply": "2021-11-11T12:27:48.926904Z",
     "shell.execute_reply.started": "2021-11-11T12:25:04.576228Z"
    },
    "papermill": {
     "duration": 0.205483,
     "end_time": "2021-11-11T12:27:48.927096",
     "exception": false,
     "start_time": "2021-11-11T12:27:48.721613",
     "status": "completed"
    },
    "tags": []
   },
   "outputs": [
    {
     "data": {
      "image/png": "[encoded data removed]",
      "text/plain": [
       "<Figure size 432x288 with 1 Axes>"
      ]
     },
     "metadata": {
      "needs_background": "light"
     },
     "output_type": "display_data"
    }
   ],
   "source": [
    "data['Type'].value_counts().plot(kind='bar');"
   ]
  },
  {
   "cell_type": "code",
   "execution_count": 10,
   "id": "4e4ef781",
   "metadata": {
    "execution": {
     "iopub.execute_input": "2021-11-11T12:27:48.975384Z",
     "iopub.status.busy": "2021-11-11T12:27:48.974796Z",
     "iopub.status.idle": "2021-11-11T12:27:49.250905Z",
     "shell.execute_reply": "2021-11-11T12:27:49.249927Z",
     "shell.execute_reply.started": "2021-11-11T12:25:04.846273Z"
    },
    "papermill": {
     "duration": 0.301133,
     "end_time": "2021-11-11T12:27:49.251053",
     "exception": false,
     "start_time": "2021-11-11T12:27:48.949920",
     "status": "completed"
    },
    "tags": []
   },
   "outputs": [
    {
     "data": {
      "image/png": "[encoded data removed]",
      "text/plain": [
       "<Figure size 432x288 with 1 Axes>"
      ]
     },
     "metadata": {
      "needs_background": "light"
     },
     "output_type": "display_data"
    }
   ],
   "source": [
    "data['Target'].value_counts().plot(kind='bar');"
   ]
  },
  {
   "cell_type": "code",
   "execution_count": 11,
   "id": "dfba652b",
   "metadata": {
    "execution": {
     "iopub.execute_input": "2021-11-11T12:27:49.299746Z",
     "iopub.status.busy": "2021-11-11T12:27:49.299113Z",
     "iopub.status.idle": "2021-11-11T12:27:49.307944Z",
     "shell.execute_reply": "2021-11-11T12:27:49.308418Z",
     "shell.execute_reply.started": "2021-11-11T12:25:05.196110Z"
    },
    "papermill": {
     "duration": 0.034856,
     "end_time": "2021-11-11T12:27:49.308603",
     "exception": false,
     "start_time": "2021-11-11T12:27:49.273747",
     "status": "completed"
    },
    "tags": []
   },
   "outputs": [],
   "source": [
    "X=data[['Type','Air temperature [K]','Process temperature [K]','Rotational speed [rpm]','Torque [Nm]','Tool wear [min]']]\n",
    "y=data[['Target']]\n"
   ]
  },
  {
   "cell_type": "code",
   "execution_count": 12,
   "id": "9fc3616f",
   "metadata": {
    "execution": {
     "iopub.execute_input": "2021-11-11T12:27:49.357221Z",
     "iopub.status.busy": "2021-11-11T12:27:49.356638Z",
     "iopub.status.idle": "2021-11-11T12:27:49.361912Z",
     "shell.execute_reply": "2021-11-11T12:27:49.362306Z",
     "shell.execute_reply.started": "2021-11-11T12:25:05.211191Z"
    },
    "papermill": {
     "duration": 0.031276,
     "end_time": "2021-11-11T12:27:49.362503",
     "exception": false,
     "start_time": "2021-11-11T12:27:49.331227",
     "status": "completed"
    },
    "tags": []
   },
   "outputs": [
    {
     "data": {
      "text/plain": [
       "((10000, 6), (10000, 1))"
      ]
     },
     "execution_count": 12,
     "metadata": {},
     "output_type": "execute_result"
    }
   ],
   "source": [
    "X.shape,y.shape"
   ]
  },
  {
   "cell_type": "code",
   "execution_count": 13,
   "id": "045aa16c",
   "metadata": {
    "execution": {
     "iopub.execute_input": "2021-11-11T12:27:49.414579Z",
     "iopub.status.busy": "2021-11-11T12:27:49.413934Z",
     "iopub.status.idle": "2021-11-11T12:27:49.416632Z",
     "shell.execute_reply": "2021-11-11T12:27:49.417113Z",
     "shell.execute_reply.started": "2021-11-11T12:25:05.223056Z"
    },
    "papermill": {
     "duration": 0.032055,
     "end_time": "2021-11-11T12:27:49.417286",
     "exception": false,
     "start_time": "2021-11-11T12:27:49.385231",
     "status": "completed"
    },
    "tags": []
   },
   "outputs": [
    {
     "data": {
      "text/plain": [
       "((10000, 6), (10000, 1))"
      ]
     },
     "execution_count": 13,
     "metadata": {},
     "output_type": "execute_result"
    }
   ],
   "source": [
    "X.shape,y.shape"
   ]
  },
  {
   "cell_type": "code",
   "execution_count": 14,
   "id": "5e46db7f",
   "metadata": {
    "execution": {
     "iopub.execute_input": "2021-11-11T12:27:49.469440Z",
     "iopub.status.busy": "2021-11-11T12:27:49.468705Z",
     "iopub.status.idle": "2021-11-11T12:27:49.474548Z",
     "shell.execute_reply": "2021-11-11T12:27:49.473909Z",
     "shell.execute_reply.started": "2021-11-11T12:25:05.243846Z"
    },
    "papermill": {
     "duration": 0.03451,
     "end_time": "2021-11-11T12:27:49.474687",
     "exception": false,
     "start_time": "2021-11-11T12:27:49.440177",
     "status": "completed"
    },
    "tags": []
   },
   "outputs": [],
   "source": [
    "X=X.values\n",
    "y=y.values"
   ]
  },
  {
   "cell_type": "code",
   "execution_count": 15,
   "id": "6924f92d",
   "metadata": {
    "execution": {
     "iopub.execute_input": "2021-11-11T12:27:49.525438Z",
     "iopub.status.busy": "2021-11-11T12:27:49.524695Z",
     "iopub.status.idle": "2021-11-11T12:27:49.664558Z",
     "shell.execute_reply": "2021-11-11T12:27:49.663974Z",
     "shell.execute_reply.started": "2021-11-11T12:25:05.263947Z"
    },
    "papermill": {
     "duration": 0.16711,
     "end_time": "2021-11-11T12:27:49.664705",
     "exception": false,
     "start_time": "2021-11-11T12:27:49.497595",
     "status": "completed"
    },
    "tags": []
   },
   "outputs": [],
   "source": [
    "from sklearn.compose import ColumnTransformer\n",
    "from sklearn.preprocessing import OneHotEncoder"
   ]
  },
  {
   "cell_type": "code",
   "execution_count": 16,
   "id": "0509fe3b",
   "metadata": {
    "execution": {
     "iopub.execute_input": "2021-11-11T12:27:49.717085Z",
     "iopub.status.busy": "2021-11-11T12:27:49.716455Z",
     "iopub.status.idle": "2021-11-11T12:27:49.718535Z",
     "shell.execute_reply": "2021-11-11T12:27:49.719011Z",
     "shell.execute_reply.started": "2021-11-11T12:25:05.472506Z"
    },
    "papermill": {
     "duration": 0.030411,
     "end_time": "2021-11-11T12:27:49.719176",
     "exception": false,
     "start_time": "2021-11-11T12:27:49.688765",
     "status": "completed"
    },
    "tags": []
   },
   "outputs": [],
   "source": [
    "ct1 = ColumnTransformer(transformers=[('encoder', OneHotEncoder(), [0])], remainder='passthrough')"
   ]
  },
  {
   "cell_type": "code",
   "execution_count": 17,
   "id": "376c4483",
   "metadata": {
    "execution": {
     "iopub.execute_input": "2021-11-11T12:27:49.772998Z",
     "iopub.status.busy": "2021-11-11T12:27:49.767587Z",
     "iopub.status.idle": "2021-11-11T12:27:49.779716Z",
     "shell.execute_reply": "2021-11-11T12:27:49.780146Z",
     "shell.execute_reply.started": "2021-11-11T12:25:05.481150Z"
    },
    "papermill": {
     "duration": 0.038175,
     "end_time": "2021-11-11T12:27:49.780316",
     "exception": false,
     "start_time": "2021-11-11T12:27:49.742141",
     "status": "completed"
    },
    "tags": []
   },
   "outputs": [],
   "source": [
    "X=ct1.fit_transform(X)\n"
   ]
  },
  {
   "cell_type": "code",
   "execution_count": 18,
   "id": "6ef2eafe",
   "metadata": {
    "execution": {
     "iopub.execute_input": "2021-11-11T12:27:49.831445Z",
     "iopub.status.busy": "2021-11-11T12:27:49.830754Z",
     "iopub.status.idle": "2021-11-11T12:27:49.832455Z",
     "shell.execute_reply": "2021-11-11T12:27:49.832882Z",
     "shell.execute_reply.started": "2021-11-11T12:25:05.508377Z"
    },
    "papermill": {
     "duration": 0.02945,
     "end_time": "2021-11-11T12:27:49.833053",
     "exception": false,
     "start_time": "2021-11-11T12:27:49.803603",
     "status": "completed"
    },
    "tags": []
   },
   "outputs": [],
   "source": [
    "from sklearn.preprocessing import LabelEncoder\n",
    "le = LabelEncoder()"
   ]
  },
  {
   "cell_type": "code",
   "execution_count": 19,
   "id": "bb7b14c5",
   "metadata": {
    "execution": {
     "iopub.execute_input": "2021-11-11T12:27:49.883973Z",
     "iopub.status.busy": "2021-11-11T12:27:49.883300Z",
     "iopub.status.idle": "2021-11-11T12:27:49.885689Z",
     "shell.execute_reply": "2021-11-11T12:27:49.886174Z",
     "shell.execute_reply.started": "2021-11-11T12:25:05.516656Z"
    },
    "papermill": {
     "duration": 0.030575,
     "end_time": "2021-11-11T12:27:49.886345",
     "exception": false,
     "start_time": "2021-11-11T12:27:49.855770",
     "status": "completed"
    },
    "tags": []
   },
   "outputs": [],
   "source": [
    "#y=y.reshape(-1,1)\n",
    "y=le.fit_transform(y.ravel())"
   ]
  },
  {
   "cell_type": "code",
   "execution_count": 20,
   "id": "317cfc2f",
   "metadata": {
    "execution": {
     "iopub.execute_input": "2021-11-11T12:27:49.935900Z",
     "iopub.status.busy": "2021-11-11T12:27:49.935276Z",
     "iopub.status.idle": "2021-11-11T12:27:49.991535Z",
     "shell.execute_reply": "2021-11-11T12:27:49.992051Z",
     "shell.execute_reply.started": "2021-11-11T12:25:05.537136Z"
    },
    "papermill": {
     "duration": 0.082733,
     "end_time": "2021-11-11T12:27:49.992225",
     "exception": false,
     "start_time": "2021-11-11T12:27:49.909492",
     "status": "completed"
    },
    "tags": []
   },
   "outputs": [],
   "source": [
    "from sklearn.model_selection import train_test_split\n",
    "X_train, X_test, y_train, y_test = train_test_split(X, y, test_size = 0.2, random_state = 4)"
   ]
  },
  {
   "cell_type": "code",
   "execution_count": 21,
   "id": "a01217d1",
   "metadata": {
    "execution": {
     "iopub.execute_input": "2021-11-11T12:27:50.043766Z",
     "iopub.status.busy": "2021-11-11T12:27:50.043073Z",
     "iopub.status.idle": "2021-11-11T12:27:50.044909Z",
     "shell.execute_reply": "2021-11-11T12:27:50.045375Z",
     "shell.execute_reply.started": "2021-11-11T12:25:05.630827Z"
    },
    "papermill": {
     "duration": 0.030449,
     "end_time": "2021-11-11T12:27:50.045561",
     "exception": false,
     "start_time": "2021-11-11T12:27:50.015112",
     "status": "completed"
    },
    "tags": []
   },
   "outputs": [],
   "source": [
    "from sklearn.preprocessing import StandardScaler\n",
    "sc = StandardScaler(with_mean=False)"
   ]
  },
  {
   "cell_type": "code",
   "execution_count": 22,
   "id": "63fa4db9",
   "metadata": {
    "execution": {
     "iopub.execute_input": "2021-11-11T12:27:50.095155Z",
     "iopub.status.busy": "2021-11-11T12:27:50.094534Z",
     "iopub.status.idle": "2021-11-11T12:27:50.098117Z",
     "shell.execute_reply": "2021-11-11T12:27:50.098602Z",
     "shell.execute_reply.started": "2021-11-11T12:25:05.640823Z"
    },
    "papermill": {
     "duration": 0.030357,
     "end_time": "2021-11-11T12:27:50.098781",
     "exception": false,
     "start_time": "2021-11-11T12:27:50.068424",
     "status": "completed"
    },
    "tags": []
   },
   "outputs": [],
   "source": [
    "y_train=np.array(y_train)"
   ]
  },
  {
   "cell_type": "code",
   "execution_count": 23,
   "id": "67e1f662",
   "metadata": {
    "execution": {
     "iopub.execute_input": "2021-11-11T12:27:50.148836Z",
     "iopub.status.busy": "2021-11-11T12:27:50.148186Z",
     "iopub.status.idle": "2021-11-11T12:27:50.492968Z",
     "shell.execute_reply": "2021-11-11T12:27:50.493424Z",
     "shell.execute_reply.started": "2021-11-11T12:25:05.656871Z"
    },
    "papermill": {
     "duration": 0.371081,
     "end_time": "2021-11-11T12:27:50.493606",
     "exception": false,
     "start_time": "2021-11-11T12:27:50.122525",
     "status": "completed"
    },
    "tags": []
   },
   "outputs": [],
   "source": [
    "#Oversampling \n",
    "from imblearn.over_sampling import SMOTE \n",
    "sm = SMOTE(random_state = 2) \n",
    "X_res, y_res = sm.fit_resample(X_train, y_train) \n",
    "\n",
    "#undersampling \n",
    "# from imblearn.under_sampling import NearMiss\n",
    "\n",
    "# nm = NearMiss()\n",
    "# X_res,y_res=nm.fit_sample(X_train,y_train)"
   ]
  },
  {
   "cell_type": "code",
   "execution_count": 24,
   "id": "15a4ee05",
   "metadata": {
    "execution": {
     "iopub.execute_input": "2021-11-11T12:27:50.542433Z",
     "iopub.status.busy": "2021-11-11T12:27:50.541867Z",
     "iopub.status.idle": "2021-11-11T12:27:50.546266Z",
     "shell.execute_reply": "2021-11-11T12:27:50.546960Z",
     "shell.execute_reply.started": "2021-11-11T12:25:06.191028Z"
    },
    "papermill": {
     "duration": 0.03081,
     "end_time": "2021-11-11T12:27:50.547165",
     "exception": false,
     "start_time": "2021-11-11T12:27:50.516355",
     "status": "completed"
    },
    "tags": []
   },
   "outputs": [
    {
     "data": {
      "text/plain": [
       "((15460, 8), (15460,))"
      ]
     },
     "execution_count": 24,
     "metadata": {},
     "output_type": "execute_result"
    }
   ],
   "source": [
    "X_res.shape,y_res.shape"
   ]
  },
  {
   "cell_type": "code",
   "execution_count": 25,
   "id": "8fbf4302",
   "metadata": {
    "execution": {
     "iopub.execute_input": "2021-11-11T12:27:50.596994Z",
     "iopub.status.busy": "2021-11-11T12:27:50.596375Z",
     "iopub.status.idle": "2021-11-11T12:27:50.604692Z",
     "shell.execute_reply": "2021-11-11T12:27:50.605183Z",
     "shell.execute_reply.started": "2021-11-11T12:25:06.201038Z"
    },
    "papermill": {
     "duration": 0.034933,
     "end_time": "2021-11-11T12:27:50.605353",
     "exception": false,
     "start_time": "2021-11-11T12:27:50.570420",
     "status": "completed"
    },
    "tags": []
   },
   "outputs": [],
   "source": [
    "X_res = sc.fit_transform(X_res)\n",
    "X_test = sc.transform(X_test)"
   ]
  },
  {
   "cell_type": "code",
   "execution_count": 26,
   "id": "06f58aa5",
   "metadata": {
    "execution": {
     "iopub.execute_input": "2021-11-11T12:27:50.655320Z",
     "iopub.status.busy": "2021-11-11T12:27:50.654682Z",
     "iopub.status.idle": "2021-11-11T12:28:01.934455Z",
     "shell.execute_reply": "2021-11-11T12:28:01.933953Z",
     "shell.execute_reply.started": "2021-11-11T12:25:06.228604Z"
    },
    "papermill": {
     "duration": 11.305845,
     "end_time": "2021-11-11T12:28:01.934607",
     "exception": false,
     "start_time": "2021-11-11T12:27:50.628762",
     "status": "completed"
    },
    "tags": []
   },
   "outputs": [
    {
     "data": {
      "text/plain": [
       "SVC(random_state=0)"
      ]
     },
     "execution_count": 26,
     "metadata": {},
     "output_type": "execute_result"
    }
   ],
   "source": [
    "from sklearn.svm import SVC\n",
    "classifier = SVC(kernel = 'rbf', random_state = 0)\n",
    "classifier.fit(X_res, y_res)"
   ]
  },
  {
   "cell_type": "code",
   "execution_count": 27,
   "id": "ceae158c",
   "metadata": {
    "execution": {
     "iopub.execute_input": "2021-11-11T12:28:01.988611Z",
     "iopub.status.busy": "2021-11-11T12:28:01.987932Z",
     "iopub.status.idle": "2021-11-11T12:28:02.957474Z",
     "shell.execute_reply": "2021-11-11T12:28:02.957992Z",
     "shell.execute_reply.started": "2021-11-11T12:25:17.927081Z"
    },
    "papermill": {
     "duration": 0.999579,
     "end_time": "2021-11-11T12:28:02.958195",
     "exception": false,
     "start_time": "2021-11-11T12:28:01.958616",
     "status": "completed"
    },
    "tags": []
   },
   "outputs": [],
   "source": [
    "y_pred=classifier.predict(X_test)"
   ]
  },
  {
   "cell_type": "code",
   "execution_count": 28,
   "id": "0b731c71",
   "metadata": {
    "execution": {
     "iopub.execute_input": "2021-11-11T12:28:03.009964Z",
     "iopub.status.busy": "2021-11-11T12:28:03.007438Z",
     "iopub.status.idle": "2021-11-11T12:28:03.012179Z",
     "shell.execute_reply": "2021-11-11T12:28:03.012925Z",
     "shell.execute_reply.started": "2021-11-11T12:25:18.904499Z"
    },
    "papermill": {
     "duration": 0.031569,
     "end_time": "2021-11-11T12:28:03.013144",
     "exception": false,
     "start_time": "2021-11-11T12:28:02.981575",
     "status": "completed"
    },
    "tags": []
   },
   "outputs": [
    {
     "name": "stdout",
     "output_type": "stream",
     "text": [
      "[[0 0]\n",
      " [0 0]\n",
      " [1 0]\n",
      " ...\n",
      " [0 0]\n",
      " [1 0]\n",
      " [1 0]]\n"
     ]
    }
   ],
   "source": [
    "#y_pred = (y_pred > 0.5)\n",
    "print(np.concatenate((y_pred.reshape(len(y_pred),1), y_test.reshape(len(y_test),1)),1))"
   ]
  },
  {
   "cell_type": "code",
   "execution_count": 29,
   "id": "fca3a459",
   "metadata": {
    "execution": {
     "iopub.execute_input": "2021-11-11T12:28:03.065291Z",
     "iopub.status.busy": "2021-11-11T12:28:03.064656Z",
     "iopub.status.idle": "2021-11-11T12:28:03.075832Z",
     "shell.execute_reply": "2021-11-11T12:28:03.076328Z",
     "shell.execute_reply.started": "2021-11-11T12:25:18.911959Z"
    },
    "papermill": {
     "duration": 0.037937,
     "end_time": "2021-11-11T12:28:03.076511",
     "exception": false,
     "start_time": "2021-11-11T12:28:03.038574",
     "status": "completed"
    },
    "tags": []
   },
   "outputs": [
    {
     "name": "stdout",
     "output_type": "stream",
     "text": [
      "[[991 940]\n",
      " [ 11  58]]\n"
     ]
    },
    {
     "data": {
      "text/plain": [
       "0.5245"
      ]
     },
     "execution_count": 29,
     "metadata": {},
     "output_type": "execute_result"
    }
   ],
   "source": [
    "from sklearn.metrics import confusion_matrix, accuracy_score, recall_score, precision_score, f1_score\n",
    "cm = confusion_matrix(y_test, y_pred)\n",
    "print(cm)\n",
    "accuracy_score(y_test, y_pred)"
   ]
  },
  {
   "cell_type": "code",
   "execution_count": 30,
   "id": "2292d366",
   "metadata": {
    "execution": {
     "iopub.execute_input": "2021-11-11T12:28:03.127893Z",
     "iopub.status.busy": "2021-11-11T12:28:03.127219Z",
     "iopub.status.idle": "2021-11-11T12:28:03.133445Z",
     "shell.execute_reply": "2021-11-11T12:28:03.133955Z",
     "shell.execute_reply.started": "2021-11-11T12:25:18.937822Z"
    },
    "papermill": {
     "duration": 0.033381,
     "end_time": "2021-11-11T12:28:03.134122",
     "exception": false,
     "start_time": "2021-11-11T12:28:03.100741",
     "status": "completed"
    },
    "tags": []
   },
   "outputs": [
    {
     "data": {
      "text/plain": [
       "0.8405797101449275"
      ]
     },
     "execution_count": 30,
     "metadata": {},
     "output_type": "execute_result"
    }
   ],
   "source": [
    "recall_score(y_test,y_pred)"
   ]
  },
  {
   "cell_type": "code",
   "execution_count": 31,
   "id": "3ad3c13d",
   "metadata": {
    "execution": {
     "iopub.execute_input": "2021-11-11T12:28:03.188837Z",
     "iopub.status.busy": "2021-11-11T12:28:03.188182Z",
     "iopub.status.idle": "2021-11-11T12:28:03.193085Z",
     "shell.execute_reply": "2021-11-11T12:28:03.193586Z",
     "shell.execute_reply.started": "2021-11-11T12:25:18.950746Z"
    },
    "papermill": {
     "duration": 0.033834,
     "end_time": "2021-11-11T12:28:03.193753",
     "exception": false,
     "start_time": "2021-11-11T12:28:03.159919",
     "status": "completed"
    },
    "tags": []
   },
   "outputs": [
    {
     "data": {
      "text/plain": [
       "0.05811623246492986"
      ]
     },
     "execution_count": 31,
     "metadata": {},
     "output_type": "execute_result"
    }
   ],
   "source": [
    "precision_score(y_test,y_pred)"
   ]
  },
  {
   "cell_type": "code",
   "execution_count": 32,
   "id": "e22795a3",
   "metadata": {
    "execution": {
     "iopub.execute_input": "2021-11-11T12:28:03.247469Z",
     "iopub.status.busy": "2021-11-11T12:28:03.246880Z",
     "iopub.status.idle": "2021-11-11T12:28:03.254031Z",
     "shell.execute_reply": "2021-11-11T12:28:03.253472Z",
     "shell.execute_reply.started": "2021-11-11T12:25:18.971298Z"
    },
    "papermill": {
     "duration": 0.034298,
     "end_time": "2021-11-11T12:28:03.254162",
     "exception": false,
     "start_time": "2021-11-11T12:28:03.219864",
     "status": "completed"
    },
    "tags": []
   },
   "outputs": [
    {
     "data": {
      "text/plain": [
       "0.10871602624179945"
      ]
     },
     "execution_count": 32,
     "metadata": {},
     "output_type": "execute_result"
    }
   ],
   "source": [
    "f1_score(y_test,y_pred)"
   ]
  },
  {
   "cell_type": "code",
   "execution_count": null,
   "id": "c6942ee6",
   "metadata": {
    "papermill": {
     "duration": 0.024915,
     "end_time": "2021-11-11T12:28:03.311650",
     "exception": false,
     "start_time": "2021-11-11T12:28:03.286735",
     "status": "completed"
    },
    "tags": []
   },
   "outputs": [],
   "source": []
  }
 ],
 "metadata": {
  "kernelspec": {
   "display_name": "Python 3",
   "language": "python",
   "name": "python3"
  },
  "language_info": {
   "codemirror_mode": {
    "name": "ipython",
    "version": 3
   },
   "file_extension": ".py",
   "mimetype": "text/x-python",
   "name": "python",
   "nbconvert_exporter": "python",
   "pygments_lexer": "ipython3",
   "version": "3.7.10"
  },
  "papermill": {
   "default_parameters": {},
   "duration": 25.382212,
   "end_time": "2021-11-11T12:28:04.047161",
   "environment_variables": {},
   "exception": null,
   "input_path": "__notebook__.ipynb",
   "output_path": "__notebook__.ipynb",
   "parameters": {},
   "start_time": "2021-11-11T12:27:38.664949",
   "version": "2.3.3"
  }
 },
 "nbformat": 4,
 "nbformat_minor": 5
}
