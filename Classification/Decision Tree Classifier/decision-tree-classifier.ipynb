{
 "cells": [
  {
   "cell_type": "code",
   "execution_count": 1,
   "id": "a5705749",
   "metadata": {
    "_cell_guid": "b1076dfc-b9ad-4769-8c92-a6c4dae69d19",
    "_uuid": "8f2839f25d086af736a60e9eeb907d3b93b6e0e5",
    "execution": {
     "iopub.execute_input": "2021-12-13T08:44:54.120354Z",
     "iopub.status.busy": "2021-12-13T08:44:54.119101Z",
     "iopub.status.idle": "2021-12-13T08:44:55.152744Z",
     "shell.execute_reply": "2021-12-13T08:44:55.153675Z",
     "shell.execute_reply.started": "2021-12-13T08:33:25.037276Z"
    },
    "papermill": {
     "duration": 1.061675,
     "end_time": "2021-12-13T08:44:55.154153",
     "exception": false,
     "start_time": "2021-12-13T08:44:54.092478",
     "status": "completed"
    },
    "tags": []
   },
   "outputs": [],
   "source": [
    "import pandas as pd\n",
    "import numpy as np\n",
    "import matplotlib.pyplot as plt\n",
    "import seaborn as sns"
   ]
  },
  {
   "cell_type": "code",
   "execution_count": 2,
   "id": "f0a3fc39",
   "metadata": {
    "execution": {
     "iopub.execute_input": "2021-12-13T08:44:55.213523Z",
     "iopub.status.busy": "2021-12-13T08:44:55.212823Z",
     "iopub.status.idle": "2021-12-13T08:44:55.232462Z",
     "shell.execute_reply": "2021-12-13T08:44:55.233118Z",
     "shell.execute_reply.started": "2021-12-13T08:33:26.324453Z"
    },
    "papermill": {
     "duration": 0.051958,
     "end_time": "2021-12-13T08:44:55.233335",
     "exception": false,
     "start_time": "2021-12-13T08:44:55.181377",
     "status": "completed"
    },
    "tags": []
   },
   "outputs": [],
   "source": [
    "data=pd.read_csv(\"../input/heart-failure-prediction/heart.csv\")"
   ]
  },
  {
   "cell_type": "code",
   "execution_count": 3,
   "id": "6d71bb7f",
   "metadata": {
    "execution": {
     "iopub.execute_input": "2021-12-13T08:44:55.302497Z",
     "iopub.status.busy": "2021-12-13T08:44:55.301761Z",
     "iopub.status.idle": "2021-12-13T08:44:55.307496Z",
     "shell.execute_reply": "2021-12-13T08:44:55.308059Z",
     "shell.execute_reply.started": "2021-12-13T08:33:28.256314Z"
    },
    "papermill": {
     "duration": 0.053787,
     "end_time": "2021-12-13T08:44:55.308247",
     "exception": false,
     "start_time": "2021-12-13T08:44:55.254460",
     "status": "completed"
    },
    "tags": []
   },
   "outputs": [
    {
     "name": "stdout",
     "output_type": "stream",
     "text": [
      "<class 'pandas.core.frame.DataFrame'>\n",
      "RangeIndex: 918 entries, 0 to 917\n",
      "Data columns (total 12 columns):\n",
      " #   Column          Non-Null Count  Dtype  \n",
      "---  ------          --------------  -----  \n",
      " 0   Age             918 non-null    int64  \n",
      " 1   Sex             918 non-null    object \n",
      " 2   ChestPainType   918 non-null    object \n",
      " 3   RestingBP       918 non-null    int64  \n",
      " 4   Cholesterol     918 non-null    int64  \n",
      " 5   FastingBS       918 non-null    int64  \n",
      " 6   RestingECG      918 non-null    object \n",
      " 7   MaxHR           918 non-null    int64  \n",
      " 8   ExerciseAngina  918 non-null    object \n",
      " 9   Oldpeak         918 non-null    float64\n",
      " 10  ST_Slope        918 non-null    object \n",
      " 11  HeartDisease    918 non-null    int64  \n",
      "dtypes: float64(1), int64(6), object(5)\n",
      "memory usage: 86.2+ KB\n"
     ]
    }
   ],
   "source": [
    "data.info()"
   ]
  },
  {
   "cell_type": "code",
   "execution_count": 4,
   "id": "ec182ddf",
   "metadata": {
    "execution": {
     "iopub.execute_input": "2021-12-13T08:44:55.366169Z",
     "iopub.status.busy": "2021-12-13T08:44:55.365213Z",
     "iopub.status.idle": "2021-12-13T08:44:55.378421Z",
     "shell.execute_reply": "2021-12-13T08:44:55.378969Z",
     "shell.execute_reply.started": "2021-12-13T08:33:43.801971Z"
    },
    "papermill": {
     "duration": 0.039475,
     "end_time": "2021-12-13T08:44:55.379147",
     "exception": false,
     "start_time": "2021-12-13T08:44:55.339672",
     "status": "completed"
    },
    "tags": []
   },
   "outputs": [
    {
     "data": {
      "text/plain": [
       "Age                50\n",
       "Sex                 2\n",
       "ChestPainType       4\n",
       "RestingBP          67\n",
       "Cholesterol       222\n",
       "FastingBS           2\n",
       "RestingECG          3\n",
       "MaxHR             119\n",
       "ExerciseAngina      2\n",
       "Oldpeak            53\n",
       "ST_Slope            3\n",
       "HeartDisease        2\n",
       "dtype: int64"
      ]
     },
     "execution_count": 4,
     "metadata": {},
     "output_type": "execute_result"
    }
   ],
   "source": [
    "data.nunique()"
   ]
  },
  {
   "cell_type": "code",
   "execution_count": 5,
   "id": "5d92e4cb",
   "metadata": {
    "execution": {
     "iopub.execute_input": "2021-12-13T08:44:55.435648Z",
     "iopub.status.busy": "2021-12-13T08:44:55.434965Z",
     "iopub.status.idle": "2021-12-13T08:44:55.437568Z",
     "shell.execute_reply": "2021-12-13T08:44:55.438197Z",
     "shell.execute_reply.started": "2021-12-13T08:33:56.211235Z"
    },
    "papermill": {
     "duration": 0.036756,
     "end_time": "2021-12-13T08:44:55.438430",
     "exception": false,
     "start_time": "2021-12-13T08:44:55.401674",
     "status": "completed"
    },
    "tags": []
   },
   "outputs": [
    {
     "data": {
      "text/plain": [
       "(918, 12)"
      ]
     },
     "execution_count": 5,
     "metadata": {},
     "output_type": "execute_result"
    }
   ],
   "source": [
    "data.shape"
   ]
  },
  {
   "cell_type": "code",
   "execution_count": 6,
   "id": "483f376a",
   "metadata": {
    "execution": {
     "iopub.execute_input": "2021-12-13T08:44:55.491368Z",
     "iopub.status.busy": "2021-12-13T08:44:55.490636Z",
     "iopub.status.idle": "2021-12-13T08:44:55.514149Z",
     "shell.execute_reply": "2021-12-13T08:44:55.513544Z",
     "shell.execute_reply.started": "2021-12-13T08:34:08.777836Z"
    },
    "papermill": {
     "duration": 0.050337,
     "end_time": "2021-12-13T08:44:55.514299",
     "exception": false,
     "start_time": "2021-12-13T08:44:55.463962",
     "status": "completed"
    },
    "tags": []
   },
   "outputs": [
    {
     "data": {
      "text/html": [
       "<div>\n",
       "<style scoped>\n",
       "    .dataframe tbody tr th:only-of-type {\n",
       "        vertical-align: middle;\n",
       "    }\n",
       "\n",
       "    .dataframe tbody tr th {\n",
       "        vertical-align: top;\n",
       "    }\n",
       "\n",
       "    .dataframe thead th {\n",
       "        text-align: right;\n",
       "    }\n",
       "</style>\n",
       "<table border=\"1\" class=\"dataframe\">\n",
       "  <thead>\n",
       "    <tr style=\"text-align: right;\">\n",
       "      <th></th>\n",
       "      <th>Age</th>\n",
       "      <th>Sex</th>\n",
       "      <th>ChestPainType</th>\n",
       "      <th>RestingBP</th>\n",
       "      <th>Cholesterol</th>\n",
       "      <th>FastingBS</th>\n",
       "      <th>RestingECG</th>\n",
       "      <th>MaxHR</th>\n",
       "      <th>ExerciseAngina</th>\n",
       "      <th>Oldpeak</th>\n",
       "      <th>ST_Slope</th>\n",
       "      <th>HeartDisease</th>\n",
       "    </tr>\n",
       "  </thead>\n",
       "  <tbody>\n",
       "    <tr>\n",
       "      <th>0</th>\n",
       "      <td>40</td>\n",
       "      <td>M</td>\n",
       "      <td>ATA</td>\n",
       "      <td>140</td>\n",
       "      <td>289</td>\n",
       "      <td>0</td>\n",
       "      <td>Normal</td>\n",
       "      <td>172</td>\n",
       "      <td>N</td>\n",
       "      <td>0.0</td>\n",
       "      <td>Up</td>\n",
       "      <td>0</td>\n",
       "    </tr>\n",
       "    <tr>\n",
       "      <th>1</th>\n",
       "      <td>49</td>\n",
       "      <td>F</td>\n",
       "      <td>NAP</td>\n",
       "      <td>160</td>\n",
       "      <td>180</td>\n",
       "      <td>0</td>\n",
       "      <td>Normal</td>\n",
       "      <td>156</td>\n",
       "      <td>N</td>\n",
       "      <td>1.0</td>\n",
       "      <td>Flat</td>\n",
       "      <td>1</td>\n",
       "    </tr>\n",
       "    <tr>\n",
       "      <th>2</th>\n",
       "      <td>37</td>\n",
       "      <td>M</td>\n",
       "      <td>ATA</td>\n",
       "      <td>130</td>\n",
       "      <td>283</td>\n",
       "      <td>0</td>\n",
       "      <td>ST</td>\n",
       "      <td>98</td>\n",
       "      <td>N</td>\n",
       "      <td>0.0</td>\n",
       "      <td>Up</td>\n",
       "      <td>0</td>\n",
       "    </tr>\n",
       "    <tr>\n",
       "      <th>3</th>\n",
       "      <td>48</td>\n",
       "      <td>F</td>\n",
       "      <td>ASY</td>\n",
       "      <td>138</td>\n",
       "      <td>214</td>\n",
       "      <td>0</td>\n",
       "      <td>Normal</td>\n",
       "      <td>108</td>\n",
       "      <td>Y</td>\n",
       "      <td>1.5</td>\n",
       "      <td>Flat</td>\n",
       "      <td>1</td>\n",
       "    </tr>\n",
       "    <tr>\n",
       "      <th>4</th>\n",
       "      <td>54</td>\n",
       "      <td>M</td>\n",
       "      <td>NAP</td>\n",
       "      <td>150</td>\n",
       "      <td>195</td>\n",
       "      <td>0</td>\n",
       "      <td>Normal</td>\n",
       "      <td>122</td>\n",
       "      <td>N</td>\n",
       "      <td>0.0</td>\n",
       "      <td>Up</td>\n",
       "      <td>0</td>\n",
       "    </tr>\n",
       "  </tbody>\n",
       "</table>\n",
       "</div>"
      ],
      "text/plain": [
       "   Age Sex ChestPainType  RestingBP  Cholesterol  FastingBS RestingECG  MaxHR  \\\n",
       "0   40   M           ATA        140          289          0     Normal    172   \n",
       "1   49   F           NAP        160          180          0     Normal    156   \n",
       "2   37   M           ATA        130          283          0         ST     98   \n",
       "3   48   F           ASY        138          214          0     Normal    108   \n",
       "4   54   M           NAP        150          195          0     Normal    122   \n",
       "\n",
       "  ExerciseAngina  Oldpeak ST_Slope  HeartDisease  \n",
       "0              N      0.0       Up             0  \n",
       "1              N      1.0     Flat             1  \n",
       "2              N      0.0       Up             0  \n",
       "3              Y      1.5     Flat             1  \n",
       "4              N      0.0       Up             0  "
      ]
     },
     "execution_count": 6,
     "metadata": {},
     "output_type": "execute_result"
    }
   ],
   "source": [
    "data.head()"
   ]
  },
  {
   "cell_type": "code",
   "execution_count": 7,
   "id": "dc64e96b",
   "metadata": {
    "execution": {
     "iopub.execute_input": "2021-12-13T08:44:55.560574Z",
     "iopub.status.busy": "2021-12-13T08:44:55.559932Z",
     "iopub.status.idle": "2021-12-13T08:44:55.783000Z",
     "shell.execute_reply": "2021-12-13T08:44:55.783480Z",
     "shell.execute_reply.started": "2021-12-13T08:34:51.952169Z"
    },
    "papermill": {
     "duration": 0.247781,
     "end_time": "2021-12-13T08:44:55.783656",
     "exception": false,
     "start_time": "2021-12-13T08:44:55.535875",
     "status": "completed"
    },
    "tags": []
   },
   "outputs": [
    {
     "data": {
      "text/plain": [
       "<AxesSubplot:>"
      ]
     },
     "execution_count": 7,
     "metadata": {},
     "output_type": "execute_result"
    },
    {
     "data": {
      "image/png": "[encoded data removed]",
      "text/plain": [
       "<Figure size 432x288 with 1 Axes>"
      ]
     },
     "metadata": {
      "needs_background": "light"
     },
     "output_type": "display_data"
    }
   ],
   "source": [
    "data['HeartDisease'].value_counts().plot(kind='bar')"
   ]
  },
  {
   "cell_type": "code",
   "execution_count": 8,
   "id": "4b223408",
   "metadata": {
    "execution": {
     "iopub.execute_input": "2021-12-13T08:44:55.837717Z",
     "iopub.status.busy": "2021-12-13T08:44:55.837011Z",
     "iopub.status.idle": "2021-12-13T08:44:55.839010Z",
     "shell.execute_reply": "2021-12-13T08:44:55.839603Z",
     "shell.execute_reply.started": "2021-12-13T08:35:28.910604Z"
    },
    "papermill": {
     "duration": 0.033542,
     "end_time": "2021-12-13T08:44:55.839813",
     "exception": false,
     "start_time": "2021-12-13T08:44:55.806271",
     "status": "completed"
    },
    "tags": []
   },
   "outputs": [],
   "source": [
    "X=data.iloc[:,:-1]\n",
    "y=data.iloc[:,-1]"
   ]
  },
  {
   "cell_type": "code",
   "execution_count": 9,
   "id": "8f159521",
   "metadata": {
    "execution": {
     "iopub.execute_input": "2021-12-13T08:44:55.889537Z",
     "iopub.status.busy": "2021-12-13T08:44:55.888769Z",
     "iopub.status.idle": "2021-12-13T08:44:55.895325Z",
     "shell.execute_reply": "2021-12-13T08:44:55.895938Z",
     "shell.execute_reply.started": "2021-12-13T08:35:39.160641Z"
    },
    "papermill": {
     "duration": 0.033694,
     "end_time": "2021-12-13T08:44:55.896108",
     "exception": false,
     "start_time": "2021-12-13T08:44:55.862414",
     "status": "completed"
    },
    "tags": []
   },
   "outputs": [
    {
     "data": {
      "text/plain": [
       "((918, 11), (918,))"
      ]
     },
     "execution_count": 9,
     "metadata": {},
     "output_type": "execute_result"
    }
   ],
   "source": [
    "X.shape,y.shape"
   ]
  },
  {
   "cell_type": "code",
   "execution_count": 10,
   "id": "3150ee1c",
   "metadata": {
    "execution": {
     "iopub.execute_input": "2021-12-13T08:44:55.950358Z",
     "iopub.status.busy": "2021-12-13T08:44:55.949648Z",
     "iopub.status.idle": "2021-12-13T08:44:56.078512Z",
     "shell.execute_reply": "2021-12-13T08:44:56.077847Z",
     "shell.execute_reply.started": "2021-12-13T08:35:48.497571Z"
    },
    "papermill": {
     "duration": 0.15862,
     "end_time": "2021-12-13T08:44:56.078646",
     "exception": false,
     "start_time": "2021-12-13T08:44:55.920026",
     "status": "completed"
    },
    "tags": []
   },
   "outputs": [],
   "source": [
    "from sklearn.compose import ColumnTransformer\n",
    "from sklearn.preprocessing import OneHotEncoder"
   ]
  },
  {
   "cell_type": "code",
   "execution_count": 11,
   "id": "7590b45b",
   "metadata": {
    "execution": {
     "iopub.execute_input": "2021-12-13T08:44:56.130299Z",
     "iopub.status.busy": "2021-12-13T08:44:56.129308Z",
     "iopub.status.idle": "2021-12-13T08:44:56.133401Z",
     "shell.execute_reply": "2021-12-13T08:44:56.134036Z",
     "shell.execute_reply.started": "2021-12-13T08:36:33.703644Z"
    },
    "papermill": {
     "duration": 0.0307,
     "end_time": "2021-12-13T08:44:56.134203",
     "exception": false,
     "start_time": "2021-12-13T08:44:56.103503",
     "status": "completed"
    },
    "tags": []
   },
   "outputs": [],
   "source": [
    "ct1 = ColumnTransformer(transformers=[('encoder', OneHotEncoder(), [1,2,6,8,10])], remainder='passthrough')"
   ]
  },
  {
   "cell_type": "code",
   "execution_count": 12,
   "id": "9f5503b5",
   "metadata": {
    "execution": {
     "iopub.execute_input": "2021-12-13T08:44:56.190310Z",
     "iopub.status.busy": "2021-12-13T08:44:56.187859Z",
     "iopub.status.idle": "2021-12-13T08:44:56.195668Z",
     "shell.execute_reply": "2021-12-13T08:44:56.195120Z",
     "shell.execute_reply.started": "2021-12-13T08:36:44.022831Z"
    },
    "papermill": {
     "duration": 0.038673,
     "end_time": "2021-12-13T08:44:56.195847",
     "exception": false,
     "start_time": "2021-12-13T08:44:56.157174",
     "status": "completed"
    },
    "tags": []
   },
   "outputs": [],
   "source": [
    "X=ct1.fit_transform(X)"
   ]
  },
  {
   "cell_type": "code",
   "execution_count": 13,
   "id": "3f52e2e4",
   "metadata": {
    "execution": {
     "iopub.execute_input": "2021-12-13T08:44:56.246897Z",
     "iopub.status.busy": "2021-12-13T08:44:56.246188Z",
     "iopub.status.idle": "2021-12-13T08:44:56.302797Z",
     "shell.execute_reply": "2021-12-13T08:44:56.302142Z",
     "shell.execute_reply.started": "2021-12-13T08:36:58.484553Z"
    },
    "papermill": {
     "duration": 0.083856,
     "end_time": "2021-12-13T08:44:56.302946",
     "exception": false,
     "start_time": "2021-12-13T08:44:56.219090",
     "status": "completed"
    },
    "tags": []
   },
   "outputs": [],
   "source": [
    "from sklearn.model_selection import train_test_split\n",
    "X_train, X_test, y_train, y_test = train_test_split(X, y, test_size = 0.2, random_state = 4)"
   ]
  },
  {
   "cell_type": "code",
   "execution_count": 14,
   "id": "4d8c7453",
   "metadata": {
    "execution": {
     "iopub.execute_input": "2021-12-13T08:44:56.353751Z",
     "iopub.status.busy": "2021-12-13T08:44:56.353090Z",
     "iopub.status.idle": "2021-12-13T08:44:56.356307Z",
     "shell.execute_reply": "2021-12-13T08:44:56.356889Z",
     "shell.execute_reply.started": "2021-12-13T08:37:08.420049Z"
    },
    "papermill": {
     "duration": 0.03056,
     "end_time": "2021-12-13T08:44:56.357057",
     "exception": false,
     "start_time": "2021-12-13T08:44:56.326497",
     "status": "completed"
    },
    "tags": []
   },
   "outputs": [],
   "source": [
    "from sklearn.preprocessing import StandardScaler\n",
    "sc = StandardScaler(with_mean=False)"
   ]
  },
  {
   "cell_type": "code",
   "execution_count": 15,
   "id": "9e7d37c5",
   "metadata": {
    "execution": {
     "iopub.execute_input": "2021-12-13T08:44:56.405221Z",
     "iopub.status.busy": "2021-12-13T08:44:56.404521Z",
     "iopub.status.idle": "2021-12-13T08:44:56.409384Z",
     "shell.execute_reply": "2021-12-13T08:44:56.409895Z",
     "shell.execute_reply.started": "2021-12-13T08:37:46.658470Z"
    },
    "papermill": {
     "duration": 0.030309,
     "end_time": "2021-12-13T08:44:56.410091",
     "exception": false,
     "start_time": "2021-12-13T08:44:56.379782",
     "status": "completed"
    },
    "tags": []
   },
   "outputs": [],
   "source": [
    "X_train = sc.fit_transform(X_train)\n",
    "X_test = sc.transform(X_test)"
   ]
  },
  {
   "cell_type": "code",
   "execution_count": 16,
   "id": "a5454f8f",
   "metadata": {
    "execution": {
     "iopub.execute_input": "2021-12-13T08:44:56.457406Z",
     "iopub.status.busy": "2021-12-13T08:44:56.456795Z",
     "iopub.status.idle": "2021-12-13T08:44:56.629295Z",
     "shell.execute_reply": "2021-12-13T08:44:56.628652Z",
     "shell.execute_reply.started": "2021-12-13T08:41:13.199562Z"
    },
    "papermill": {
     "duration": 0.197209,
     "end_time": "2021-12-13T08:44:56.629443",
     "exception": false,
     "start_time": "2021-12-13T08:44:56.432234",
     "status": "completed"
    },
    "tags": []
   },
   "outputs": [
    {
     "data": {
      "text/plain": [
       "DecisionTreeClassifier(criterion='entropy', random_state=0)"
      ]
     },
     "execution_count": 16,
     "metadata": {},
     "output_type": "execute_result"
    }
   ],
   "source": [
    "from sklearn.tree import DecisionTreeClassifier\n",
    "classifier = DecisionTreeClassifier(criterion = 'entropy', random_state = 0)\n",
    "classifier.fit(X_train, y_train)"
   ]
  },
  {
   "cell_type": "code",
   "execution_count": 17,
   "id": "0649dd44",
   "metadata": {
    "execution": {
     "iopub.execute_input": "2021-12-13T08:44:56.680293Z",
     "iopub.status.busy": "2021-12-13T08:44:56.679269Z",
     "iopub.status.idle": "2021-12-13T08:44:56.681410Z",
     "shell.execute_reply": "2021-12-13T08:44:56.682043Z",
     "shell.execute_reply.started": "2021-12-13T08:43:15.876588Z"
    },
    "papermill": {
     "duration": 0.0301,
     "end_time": "2021-12-13T08:44:56.682210",
     "exception": false,
     "start_time": "2021-12-13T08:44:56.652110",
     "status": "completed"
    },
    "tags": []
   },
   "outputs": [],
   "source": [
    "y_pred=classifier.predict(X_test)"
   ]
  },
  {
   "cell_type": "code",
   "execution_count": 18,
   "id": "445c8fb9",
   "metadata": {
    "execution": {
     "iopub.execute_input": "2021-12-13T08:44:56.732889Z",
     "iopub.status.busy": "2021-12-13T08:44:56.731859Z",
     "iopub.status.idle": "2021-12-13T08:44:56.734860Z",
     "shell.execute_reply": "2021-12-13T08:44:56.734324Z",
     "shell.execute_reply.started": "2021-12-13T08:43:49.787004Z"
    },
    "papermill": {
     "duration": 0.030252,
     "end_time": "2021-12-13T08:44:56.735000",
     "exception": false,
     "start_time": "2021-12-13T08:44:56.704748",
     "status": "completed"
    },
    "tags": []
   },
   "outputs": [],
   "source": [
    "y_test=np.array(y_test)\n",
    "y_pred=np.array(y_pred)\n"
   ]
  },
  {
   "cell_type": "code",
   "execution_count": 19,
   "id": "9e6660ed",
   "metadata": {
    "execution": {
     "iopub.execute_input": "2021-12-13T08:44:56.788407Z",
     "iopub.status.busy": "2021-12-13T08:44:56.787473Z",
     "iopub.status.idle": "2021-12-13T08:44:56.791327Z",
     "shell.execute_reply": "2021-12-13T08:44:56.792087Z",
     "shell.execute_reply.started": "2021-12-13T08:43:50.439052Z"
    },
    "papermill": {
     "duration": 0.033798,
     "end_time": "2021-12-13T08:44:56.792259",
     "exception": false,
     "start_time": "2021-12-13T08:44:56.758461",
     "status": "completed"
    },
    "tags": []
   },
   "outputs": [
    {
     "name": "stdout",
     "output_type": "stream",
     "text": [
      "[[0 0]\n",
      " [1 1]\n",
      " [1 0]\n",
      " [0 0]\n",
      " [1 0]\n",
      " [1 1]\n",
      " [1 1]\n",
      " [1 1]\n",
      " [0 0]\n",
      " [0 0]\n",
      " [0 0]\n",
      " [1 1]\n",
      " [0 0]\n",
      " [0 0]\n",
      " [0 0]\n",
      " [0 1]\n",
      " [0 0]\n",
      " [0 0]\n",
      " [0 0]\n",
      " [0 1]\n",
      " [1 1]\n",
      " [0 1]\n",
      " [0 1]\n",
      " [1 0]\n",
      " [1 1]\n",
      " [1 1]\n",
      " [0 0]\n",
      " [1 1]\n",
      " [1 1]\n",
      " [0 0]\n",
      " [0 1]\n",
      " [1 0]\n",
      " [1 1]\n",
      " [1 0]\n",
      " [1 1]\n",
      " [0 0]\n",
      " [1 1]\n",
      " [1 1]\n",
      " [1 1]\n",
      " [1 0]\n",
      " [1 1]\n",
      " [0 0]\n",
      " [1 1]\n",
      " [0 0]\n",
      " [1 1]\n",
      " [1 1]\n",
      " [0 1]\n",
      " [1 1]\n",
      " [0 1]\n",
      " [1 1]\n",
      " [1 1]\n",
      " [0 0]\n",
      " [0 0]\n",
      " [0 0]\n",
      " [0 0]\n",
      " [0 0]\n",
      " [1 1]\n",
      " [0 1]\n",
      " [0 0]\n",
      " [1 1]\n",
      " [1 1]\n",
      " [0 0]\n",
      " [0 0]\n",
      " [1 1]\n",
      " [1 1]\n",
      " [1 1]\n",
      " [1 0]\n",
      " [1 1]\n",
      " [0 0]\n",
      " [0 0]\n",
      " [1 1]\n",
      " [1 0]\n",
      " [0 0]\n",
      " [1 0]\n",
      " [1 0]\n",
      " [1 0]\n",
      " [0 0]\n",
      " [0 0]\n",
      " [0 0]\n",
      " [1 1]\n",
      " [0 0]\n",
      " [1 1]\n",
      " [1 0]\n",
      " [1 1]\n",
      " [1 1]\n",
      " [1 0]\n",
      " [0 0]\n",
      " [0 0]\n",
      " [0 0]\n",
      " [1 1]\n",
      " [1 1]\n",
      " [1 1]\n",
      " [1 0]\n",
      " [0 0]\n",
      " [1 1]\n",
      " [1 1]\n",
      " [0 0]\n",
      " [1 1]\n",
      " [0 1]\n",
      " [0 1]\n",
      " [0 0]\n",
      " [1 0]\n",
      " [1 1]\n",
      " [1 1]\n",
      " [1 1]\n",
      " [1 1]\n",
      " [0 0]\n",
      " [0 0]\n",
      " [1 1]\n",
      " [1 1]\n",
      " [1 1]\n",
      " [0 0]\n",
      " [0 0]\n",
      " [0 0]\n",
      " [0 0]\n",
      " [1 1]\n",
      " [1 1]\n",
      " [1 1]\n",
      " [0 0]\n",
      " [1 1]\n",
      " [0 0]\n",
      " [1 1]\n",
      " [1 1]\n",
      " [0 0]\n",
      " [1 1]\n",
      " [0 0]\n",
      " [1 0]\n",
      " [0 0]\n",
      " [0 0]\n",
      " [1 1]\n",
      " [1 1]\n",
      " [1 0]\n",
      " [1 1]\n",
      " [1 1]\n",
      " [1 0]\n",
      " [1 0]\n",
      " [1 0]\n",
      " [1 1]\n",
      " [1 1]\n",
      " [0 1]\n",
      " [0 0]\n",
      " [1 1]\n",
      " [0 1]\n",
      " [0 0]\n",
      " [1 1]\n",
      " [1 0]\n",
      " [1 0]\n",
      " [0 0]\n",
      " [1 1]\n",
      " [0 1]\n",
      " [1 1]\n",
      " [1 1]\n",
      " [0 0]\n",
      " [1 1]\n",
      " [1 1]\n",
      " [0 0]\n",
      " [1 1]\n",
      " [1 0]\n",
      " [0 0]\n",
      " [1 1]\n",
      " [0 0]\n",
      " [1 1]\n",
      " [1 1]\n",
      " [0 0]\n",
      " [1 1]\n",
      " [1 1]\n",
      " [1 1]\n",
      " [0 1]\n",
      " [1 1]\n",
      " [0 0]\n",
      " [1 0]\n",
      " [0 0]\n",
      " [1 1]\n",
      " [1 1]\n",
      " [1 1]\n",
      " [0 0]\n",
      " [0 0]\n",
      " [1 1]\n",
      " [1 0]\n",
      " [0 1]\n",
      " [1 1]\n",
      " [0 0]\n",
      " [0 0]\n",
      " [1 1]]\n"
     ]
    }
   ],
   "source": [
    "print(np.concatenate((y_pred.reshape(len(y_pred),1), y_test.reshape(len(y_test),1)),1))\n"
   ]
  },
  {
   "cell_type": "code",
   "execution_count": 20,
   "id": "af7f7eb4",
   "metadata": {
    "execution": {
     "iopub.execute_input": "2021-12-13T08:44:56.847222Z",
     "iopub.status.busy": "2021-12-13T08:44:56.846481Z",
     "iopub.status.idle": "2021-12-13T08:44:56.855682Z",
     "shell.execute_reply": "2021-12-13T08:44:56.856523Z",
     "shell.execute_reply.started": "2021-12-13T08:44:05.130018Z"
    },
    "papermill": {
     "duration": 0.040231,
     "end_time": "2021-12-13T08:44:56.856762",
     "exception": false,
     "start_time": "2021-12-13T08:44:56.816531",
     "status": "completed"
    },
    "tags": []
   },
   "outputs": [
    {
     "name": "stdout",
     "output_type": "stream",
     "text": [
      "[[63 25]\n",
      " [15 81]]\n"
     ]
    },
    {
     "data": {
      "text/plain": [
       "0.782608695652174"
      ]
     },
     "execution_count": 20,
     "metadata": {},
     "output_type": "execute_result"
    }
   ],
   "source": [
    "from sklearn.metrics import confusion_matrix, accuracy_score, recall_score, precision_score, f1_score\n",
    "cm = confusion_matrix(y_test, y_pred)\n",
    "print(cm)\n",
    "accuracy_score(y_test, y_pred)"
   ]
  },
  {
   "cell_type": "code",
   "execution_count": 21,
   "id": "849a0f5b",
   "metadata": {
    "execution": {
     "iopub.execute_input": "2021-12-13T08:44:56.909608Z",
     "iopub.status.busy": "2021-12-13T08:44:56.908497Z",
     "iopub.status.idle": "2021-12-13T08:44:56.915440Z",
     "shell.execute_reply": "2021-12-13T08:44:56.915990Z",
     "shell.execute_reply.started": "2021-12-13T08:44:13.930487Z"
    },
    "papermill": {
     "duration": 0.034348,
     "end_time": "2021-12-13T08:44:56.916156",
     "exception": false,
     "start_time": "2021-12-13T08:44:56.881808",
     "status": "completed"
    },
    "tags": []
   },
   "outputs": [
    {
     "data": {
      "text/plain": [
       "0.84375"
      ]
     },
     "execution_count": 21,
     "metadata": {},
     "output_type": "execute_result"
    }
   ],
   "source": [
    "recall_score(y_test,y_pred)"
   ]
  },
  {
   "cell_type": "code",
   "execution_count": 22,
   "id": "ed727e60",
   "metadata": {
    "execution": {
     "iopub.execute_input": "2021-12-13T08:44:56.967353Z",
     "iopub.status.busy": "2021-12-13T08:44:56.966439Z",
     "iopub.status.idle": "2021-12-13T08:44:56.972801Z",
     "shell.execute_reply": "2021-12-13T08:44:56.973372Z",
     "shell.execute_reply.started": "2021-12-13T08:44:21.797631Z"
    },
    "papermill": {
     "duration": 0.033651,
     "end_time": "2021-12-13T08:44:56.973538",
     "exception": false,
     "start_time": "2021-12-13T08:44:56.939887",
     "status": "completed"
    },
    "tags": []
   },
   "outputs": [
    {
     "data": {
      "text/plain": [
       "0.7641509433962265"
      ]
     },
     "execution_count": 22,
     "metadata": {},
     "output_type": "execute_result"
    }
   ],
   "source": [
    "precision_score(y_test,y_pred)"
   ]
  },
  {
   "cell_type": "code",
   "execution_count": 23,
   "id": "44d314bf",
   "metadata": {
    "execution": {
     "iopub.execute_input": "2021-12-13T08:44:57.026193Z",
     "iopub.status.busy": "2021-12-13T08:44:57.025222Z",
     "iopub.status.idle": "2021-12-13T08:44:57.032123Z",
     "shell.execute_reply": "2021-12-13T08:44:57.032767Z",
     "shell.execute_reply.started": "2021-12-13T08:44:28.518001Z"
    },
    "papermill": {
     "duration": 0.035057,
     "end_time": "2021-12-13T08:44:57.032949",
     "exception": false,
     "start_time": "2021-12-13T08:44:56.997892",
     "status": "completed"
    },
    "tags": []
   },
   "outputs": [
    {
     "data": {
      "text/plain": [
       "0.8019801980198021"
      ]
     },
     "execution_count": 23,
     "metadata": {},
     "output_type": "execute_result"
    }
   ],
   "source": [
    "f1_score(y_test,y_pred)"
   ]
  },
  {
   "cell_type": "code",
   "execution_count": null,
   "id": "bc93a18a",
   "metadata": {
    "papermill": {
     "duration": 0.02512,
     "end_time": "2021-12-13T08:44:57.082588",
     "exception": false,
     "start_time": "2021-12-13T08:44:57.057468",
     "status": "completed"
    },
    "tags": []
   },
   "outputs": [],
   "source": []
  }
 ],
 "metadata": {
  "kernelspec": {
   "display_name": "Python 3",
   "language": "python",
   "name": "python3"
  },
  "language_info": {
   "codemirror_mode": {
    "name": "ipython",
    "version": 3
   },
   "file_extension": ".py",
   "mimetype": "text/x-python",
   "name": "python",
   "nbconvert_exporter": "python",
   "pygments_lexer": "ipython3",
   "version": "3.7.12"
  },
  "papermill": {
   "default_parameters": {},
   "duration": 13.736956,
   "end_time": "2021-12-13T08:44:57.816793",
   "environment_variables": {},
   "exception": null,
   "input_path": "__notebook__.ipynb",
   "output_path": "__notebook__.ipynb",
   "parameters": {},
   "start_time": "2021-12-13T08:44:44.079837",
   "version": "2.3.3"
  }
 },
 "nbformat": 4,
 "nbformat_minor": 5
}
